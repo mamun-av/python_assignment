{
 "cells": [
  {
   "cell_type": "markdown",
   "metadata": {
    "id": "Y6GuJV67s3lf"
   },
   "source": [
    "# ------Linear algebra basic assignment:-------\n",
    "___by Abdulla Mamun__\n",
    "\n",
    "  TODO: Solve the given problem and as well write down the markdown explaining the term and its equation in latex form.\n",
    "  \n",
    "  should include:\n",
    "   -   what is ?\n",
    "   -   proprty of\n",
    "   -   formula\n",
    "      \n",
    "  eg: Transpose of matrix: \n",
    "      - what is Transpose? \n",
    "      - formula for Transpose\n",
    "      - Properties of Transpose\n",
    "https://www.web-formulas.com/Math_Formulas/Linear_Algebra_Properties_of_Transposes.aspx"
   ]
  },
  {
   "cell_type": "markdown",
   "metadata": {},
   "source": [
    "# Import necessary libraries for this assignment task"
   ]
  },
  {
   "cell_type": "code",
   "execution_count": 1,
   "metadata": {
    "ExecuteTime": {
     "end_time": "2021-05-10T09:14:38.257708Z",
     "start_time": "2021-05-10T09:14:37.503884Z"
    }
   },
   "outputs": [],
   "source": [
    "import numpy as np\n",
    "from scipy.stats import ortho_group\n",
    "from scipy.sparse import csr_matrix as csr\n",
    "import scipy.linalg as la"
   ]
  },
  {
   "cell_type": "markdown",
   "metadata": {
    "id": "Fh7069Tqs3lk"
   },
   "source": [
    "# Define a symmertic 3x3 matric and print the transpose of the symmetric matrix\n",
    "\n",
    "- A symmetric matrix should be\n",
    "\n",
    "    - square and is equal to its transpose, i.e., A=AT. \n",
    "    - If swapping indices doesn't change its components, i.e., aij=aji.\n",
    "    - The sum and difference between two metrics is symmetric.\n",
    "    - The inverse of symmetric matrix is also symmetric.\n",
    "    - It should be diagonalizable that means same elements in both lower and upper triangle. \n",
    "\n",
    "\n",
    "The Example of symmetric matrix is :\n",
    "     \\begin{matrix}\n",
    "        1 & 3 & 4 \\\\\n",
    "        3 & 45 & 8 \\\\\n",
    "        4 & 8 & 78 \n",
    "    \\end{matrix}"
   ]
  },
  {
   "cell_type": "code",
   "execution_count": 2,
   "metadata": {
    "ExecuteTime": {
     "end_time": "2021-05-10T09:14:38.264067Z",
     "start_time": "2021-05-10T09:14:38.259894Z"
    }
   },
   "outputs": [
    {
     "name": "stdout",
     "output_type": "stream",
     "text": [
      "3x3 matrix is: \n",
      " [[ 1  3  4]\n",
      " [ 3 45  8]\n",
      " [ 4  8 78]]\n"
     ]
    }
   ],
   "source": [
    "# create a 3x3 matrix\n",
    "c = np.array([[1,3,4],[3,45,8], [4,8,78]])\n",
    "print(f\"3x3 matrix is: \\n {c}\")"
   ]
  },
  {
   "cell_type": "code",
   "execution_count": 3,
   "metadata": {
    "ExecuteTime": {
     "end_time": "2021-05-10T09:14:38.274451Z",
     "start_time": "2021-05-10T09:14:38.266934Z"
    }
   },
   "outputs": [
    {
     "name": "stdout",
     "output_type": "stream",
     "text": [
      "After transpose the matrix 3x3 is: \n",
      " [[ 1  3  4]\n",
      " [ 3 45  8]\n",
      " [ 4  8 78]]\n"
     ]
    }
   ],
   "source": [
    "# Transpose the matrix c\n",
    "d = c.T\n",
    "print(f\"After transpose the matrix 3x3 is: \\n {d}\")"
   ]
  },
  {
   "cell_type": "markdown",
   "metadata": {},
   "source": [
    "The matrix c fullfill the symmetric metric conditions, so we can conclude that matrix c is symmetric, though its same dimension, value, diagonal after transpose."
   ]
  },
  {
   "cell_type": "markdown",
   "metadata": {
    "id": "P7HwwxOMs3lk"
   },
   "source": [
    "# With the 3x3 matrix calculate the \n",
    "- lower traingular matrix\n",
    "- upper triangular matrix\n",
    "\n",
    "- A __lower triangular matrix__ is a matrix which only has elements in its lower triangular and remaining elements are 0.\n",
    "\n",
    "    Example:\n",
    "    \\begin{matrix}\n",
    "        1 & 0 & 0 \\\\\n",
    "        2 & 1 & 0 \\\\\n",
    "        3 & 2 & 1 \n",
    "    \\end{matrix}\n",
    "   \n",
    "\n",
    "\n",
    "- A __upper triangular matrix__ is a matrix which only has elements in its upper triangular and remaining elements are 0.\n",
    "\n",
    "    Example:\n",
    "    \\begin{matrix}\n",
    "        1 & 2 & 3 \\\\\n",
    "        0 & 1 & 2 \\\\\n",
    "        0 & 0 & 1 \n",
    "    \\end{matrix}\n",
    "    \n",
    "    \n",
    "    \n",
    "- __Properties__\n",
    "  - The sum of two upper triangular matrices is upper triangular.\n",
    "  - The product of two upper triangular matrices is upper triangular.\n",
    "  - The inverse of an upper triangular matrix, where extant, is upper triangular.\n",
    "  - The product of an upper triangular matrix and a scalar is upper triangular.\n",
    " - use cases: decomposition matrix"
   ]
  },
  {
   "cell_type": "code",
   "execution_count": 4,
   "metadata": {
    "ExecuteTime": {
     "end_time": "2021-05-10T09:14:38.281266Z",
     "start_time": "2021-05-10T09:14:38.276484Z"
    }
   },
   "outputs": [
    {
     "name": "stdout",
     "output_type": "stream",
     "text": [
      "Original matrix :  [[ 1  3  4]\n",
      " [ 3 45  8]\n",
      " [ 4  8 78]]\n",
      "Lower Triangular Matrix : \n",
      " [[ 1  0  0]\n",
      " [ 3 45  0]\n",
      " [ 4  8 78]]\n",
      "Upper Triangular Matrix : \n",
      " [[ 1  3  4]\n",
      " [ 0 45  8]\n",
      " [ 0  0 78]]\n"
     ]
    }
   ],
   "source": [
    "print(\"Original matrix : \", d)\n",
    "# Create a lower triangular matrix from the previous square matrix d\n",
    "lower_triangle = np.tril(d)\n",
    "\n",
    "print(f\"Lower Triangular Matrix : \\n {lower_triangle}\")\n",
    "\n",
    "# Create a upper triangular matrix from the previous square matrix d\n",
    "upper_triangle = np.triu(d)\n",
    "\n",
    "print(f\"Upper Triangular Matrix : \\n {upper_triangle}\")"
   ]
  },
  {
   "cell_type": "markdown",
   "metadata": {
    "id": "PfWnsAA9s3lk"
   },
   "source": [
    "# Define a 5x3 matrix and get the :\n",
    "- diagonal vector\n",
    "- get diagonal matrix form vector\n",
    "\n",
    "A diagonal matrix is a matrix in which the entries outside the main diagonal are all zero; the term usually refers to square matrices. \n",
    "An example of a 2×2 diagonal matrix is \n",
    "${\\displaystyle \\left[{\\begin{smallmatrix}3&0\\\\0&2\\end{smallmatrix}}\\right]}$\n",
    "\n",
    "- while an example of a 3×3 diagonal matrix is \n",
    "${\\displaystyle \\left[{\\begin{smallmatrix}6&0&0\\\\0&7&0\\\\0&0&4\\end{smallmatrix}}\\right]}$\n",
    "\n",
    "- An identity matrix of any size, or any multiple of it (a scalar matrix), is a diagonal matrix.\n",
    "- A matrix is diagonal if and only if it is triangular and normal.\n",
    "- A matrix is diagonal if and only if it is both upper- and lower-triangular.\n",
    "- A diagonal matrix is symmetric."
   ]
  },
  {
   "cell_type": "code",
   "execution_count": 5,
   "metadata": {
    "ExecuteTime": {
     "end_time": "2021-05-10T09:14:38.288912Z",
     "start_time": "2021-05-10T09:14:38.283746Z"
    }
   },
   "outputs": [
    {
     "name": "stdout",
     "output_type": "stream",
     "text": [
      "The rectangular form of 5x3 matrix :\n",
      " [[ 1  2  3]\n",
      " [ 4  5  6]\n",
      " [ 7  8  9]\n",
      " [10 11 12]\n",
      " [13 14 15]]\n"
     ]
    }
   ],
   "source": [
    "# Define a 5x3 matrix\n",
    "a = np.arange(1,16).reshape(5,3)\n",
    "print(\"The rectangular form of 5x3 matrix :\\n\", a)"
   ]
  },
  {
   "cell_type": "code",
   "execution_count": 6,
   "metadata": {
    "ExecuteTime": {
     "end_time": "2021-05-10T09:14:38.294767Z",
     "start_time": "2021-05-10T09:14:38.290629Z"
    }
   },
   "outputs": [
    {
     "name": "stdout",
     "output_type": "stream",
     "text": [
      "The diagonal elements of a rectangular matrix  a :\n",
      " [1 5 9]\n"
     ]
    }
   ],
   "source": [
    "# Diagonal elements \n",
    "diagonal_vector = np.diag(a)\n",
    "print(\"The diagonal elements of a rectangular matrix  a :\\n\",diagonal_vector)"
   ]
  },
  {
   "cell_type": "code",
   "execution_count": 7,
   "metadata": {
    "ExecuteTime": {
     "end_time": "2021-05-10T09:14:38.302655Z",
     "start_time": "2021-05-10T09:14:38.297281Z"
    }
   },
   "outputs": [
    {
     "name": "stdout",
     "output_type": "stream",
     "text": [
      "The diagonal matrix from diagonal vector is : \n",
      " [[1 0 0]\n",
      " [0 5 0]\n",
      " [0 0 9]]\n"
     ]
    }
   ],
   "source": [
    "# create the diagonal matrix with diagonal elements\n",
    "diagonal_matrix = np.diag(diagonal_vector )\n",
    "print(\"The diagonal matrix from diagonal vector is : \\n\", diagonal_matrix)"
   ]
  },
  {
   "cell_type": "markdown",
   "metadata": {
    "id": "h_HhOCsJs3ll"
   },
   "source": [
    "# create a Identiy matrix\n",
    "\n",
    "- An identity matrix is a square matrix with diagonal elements 1.\n",
    "- The rows and columns of the Identity matrix is linearly independent\n",
    "- It can be expressed as \n",
    "   $A \\cdot A^{-1} = A^{-1} \\cdot A = \\mathcal{I}$ \n",
    "- it is also called unit matrix. \n",
    "\n",
    "- The identity matrix of size n is the n × n square matrix with ones on the main diagonal and zeros elsewhere.\n",
    " $\\begin{bmatrix}\n",
    "        1 & 0 & 0  \\\\\n",
    "        0 & 1 & 0  \\\\\n",
    "        0 & 0 & 1\n",
    "     \\end{bmatrix}$"
   ]
  },
  {
   "cell_type": "code",
   "execution_count": 8,
   "metadata": {
    "ExecuteTime": {
     "end_time": "2021-05-10T09:14:38.318011Z",
     "start_time": "2021-05-10T09:14:38.305668Z"
    }
   },
   "outputs": [
    {
     "data": {
      "text/plain": [
       "array([[1., 0., 0.],\n",
       "       [0., 1., 0.],\n",
       "       [0., 0., 1.]])"
      ]
     },
     "execution_count": 8,
     "metadata": {},
     "output_type": "execute_result"
    }
   ],
   "source": [
    "identity_matrix = np.identity(3)\n",
    "identity_matrix "
   ]
  },
  {
   "cell_type": "code",
   "execution_count": 9,
   "metadata": {
    "ExecuteTime": {
     "end_time": "2021-05-10T09:14:38.326838Z",
     "start_time": "2021-05-10T09:14:38.321062Z"
    }
   },
   "outputs": [
    {
     "data": {
      "text/plain": [
       "array([[2, 4],\n",
       "       [5, 6]])"
      ]
     },
     "execution_count": 9,
     "metadata": {},
     "output_type": "execute_result"
    }
   ],
   "source": [
    "A = np.random.randint(2,10, size =(2,2))\n",
    "A"
   ]
  },
  {
   "cell_type": "code",
   "execution_count": 10,
   "metadata": {
    "ExecuteTime": {
     "end_time": "2021-05-10T09:14:38.334994Z",
     "start_time": "2021-05-10T09:14:38.328925Z"
    }
   },
   "outputs": [
    {
     "data": {
      "text/plain": [
       "array([[-0.75 ,  0.5  ],\n",
       "       [ 0.625, -0.25 ]])"
      ]
     },
     "execution_count": 10,
     "metadata": {},
     "output_type": "execute_result"
    }
   ],
   "source": [
    "A_= np.linalg.inv(A)\n",
    "A_"
   ]
  },
  {
   "cell_type": "code",
   "execution_count": 11,
   "metadata": {
    "ExecuteTime": {
     "end_time": "2021-05-10T09:14:38.342531Z",
     "start_time": "2021-05-10T09:14:38.337320Z"
    }
   },
   "outputs": [
    {
     "data": {
      "text/plain": [
       "array([[ 1.00000000e+00,  0.00000000e+00],\n",
       "       [-2.22044605e-16,  1.00000000e+00]])"
      ]
     },
     "execution_count": 11,
     "metadata": {},
     "output_type": "execute_result"
    }
   ],
   "source": [
    "A.dot(A_)"
   ]
  },
  {
   "cell_type": "code",
   "execution_count": 12,
   "metadata": {
    "ExecuteTime": {
     "end_time": "2021-05-10T09:14:38.350412Z",
     "start_time": "2021-05-10T09:14:38.345087Z"
    }
   },
   "outputs": [
    {
     "data": {
      "text/plain": [
       "array([1., 2., 3.])"
      ]
     },
     "execution_count": 12,
     "metadata": {},
     "output_type": "execute_result"
    }
   ],
   "source": [
    "a = np.array([1,2,3])\n",
    "b = np.identity(3)\n",
    "a.dot(b)"
   ]
  },
  {
   "cell_type": "markdown",
   "metadata": {
    "id": "sHCpZNcIs3ll"
   },
   "source": [
    "# Define a orthogonal matrix and get:\n",
    "- inverse of matrix\n",
    "- show that\n",
    " $Q.Q^T=I$ \n",
    " \n",
    " where Q is the orthogonal matrix"
   ]
  },
  {
   "cell_type": "code",
   "execution_count": null,
   "metadata": {},
   "outputs": [],
   "source": []
  },
  {
   "cell_type": "markdown",
   "metadata": {},
   "source": [
    "- An orthogonal or orthonormal matrix is a real square matrix whose columns and rows are orthonormal vectors. \n",
    "- Two vectors are orthonormal if they are perpendicular to each other and are unit vectors.\n",
    "\n",
    "- Mathematically it implies, $Q_{n\\times n}$ is a orthogonal matrix if $Q^TQ = Q Q^T = \\mathcal{I} \\implies Q^T = Q^{-1}$.\n",
    "\n",
    "__Properties:__\n",
    "    - The determinant of an orgthogonal matrix is $\\pm 1$.\n",
    "    - A real square matrix is orthogonal if and only if its columns form an orthonormal basis of the Euclidean space ℝn with the ordinary Euclidean dot product.\n",
    "    "
   ]
  },
  {
   "cell_type": "code",
   "execution_count": 13,
   "metadata": {
    "ExecuteTime": {
     "end_time": "2021-05-10T09:14:38.359959Z",
     "start_time": "2021-05-10T09:14:38.352500Z"
    }
   },
   "outputs": [
    {
     "name": "stdout",
     "output_type": "stream",
     "text": [
      "A random orthogonal matrix: \n",
      "  [[-0.102  0.62   0.778]\n",
      " [-0.87   0.323 -0.372]\n",
      " [ 0.482  0.715 -0.507]] \n",
      "\n",
      "Transpose of q matrix :\n",
      "  [[-0.102 -0.87   0.482]\n",
      " [ 0.62   0.323  0.715]\n",
      " [ 0.778 -0.372 -0.507]] \n",
      "\n",
      "The dot product of q and transpose of q is : \n",
      " [[ 1.  0.  0.]\n",
      " [ 0.  1. -0.]\n",
      " [ 0. -0.  1.]]\n"
     ]
    }
   ],
   "source": [
    "np.set_printoptions(suppress=True, precision = 3) # Remove precision errors with the dot product\n",
    "\n",
    "# Create a orthogonal matrix \n",
    "q = ortho_group.rvs(dim=3) # This creates a orthogonal matrix of size nxn\n",
    "\n",
    "\n",
    "print(\"A random orthogonal matrix: \\n \", q, \"\\n\")\n",
    "\n",
    "\n",
    "# Create tranpose of orthogonal matrix\n",
    "q_t = q.T\n",
    "print(\"Transpose of q matrix :\\n \", q_t, \"\\n\")\n",
    "\n",
    "print(\"The dot product of q and transpose of q is : \\n\", np.dot(q, q_t))"
   ]
  },
  {
   "cell_type": "code",
   "execution_count": 14,
   "metadata": {
    "ExecuteTime": {
     "end_time": "2021-05-10T09:14:38.366601Z",
     "start_time": "2021-05-10T09:14:38.361535Z"
    }
   },
   "outputs": [
    {
     "name": "stdout",
     "output_type": "stream",
     "text": [
      "Inverse of q:\n",
      " [[-0.102 -0.87   0.482]\n",
      " [ 0.62   0.323  0.715]\n",
      " [ 0.778 -0.372 -0.507]]\n"
     ]
    }
   ],
   "source": [
    "print(\"Inverse of q:\\n\", np.linalg.inv(q))"
   ]
  },
  {
   "cell_type": "code",
   "execution_count": 15,
   "metadata": {
    "ExecuteTime": {
     "end_time": "2021-05-10T09:14:38.373615Z",
     "start_time": "2021-05-10T09:14:38.368594Z"
    }
   },
   "outputs": [
    {
     "data": {
      "text/plain": [
       "array([[ 1,  0],\n",
       "       [ 0, -1]])"
      ]
     },
     "execution_count": 15,
     "metadata": {},
     "output_type": "execute_result"
    }
   ],
   "source": [
    "q = np.array([[1,0],[0,-1]])\n",
    "q"
   ]
  },
  {
   "cell_type": "code",
   "execution_count": 16,
   "metadata": {
    "ExecuteTime": {
     "end_time": "2021-05-10T09:14:38.381464Z",
     "start_time": "2021-05-10T09:14:38.376056Z"
    }
   },
   "outputs": [
    {
     "data": {
      "text/plain": [
       "array([[1, 0],\n",
       "       [0, 1]])"
      ]
     },
     "execution_count": 16,
     "metadata": {},
     "output_type": "execute_result"
    }
   ],
   "source": [
    "q.dot(q.T)"
   ]
  },
  {
   "cell_type": "code",
   "execution_count": 17,
   "metadata": {
    "ExecuteTime": {
     "end_time": "2021-05-10T09:14:38.388912Z",
     "start_time": "2021-05-10T09:14:38.384018Z"
    }
   },
   "outputs": [
    {
     "data": {
      "text/plain": [
       "array([[ True,  True],\n",
       "       [ True,  True]])"
      ]
     },
     "execution_count": 17,
     "metadata": {},
     "output_type": "execute_result"
    }
   ],
   "source": [
    "q ==q.T"
   ]
  },
  {
   "cell_type": "code",
   "execution_count": 18,
   "metadata": {
    "ExecuteTime": {
     "end_time": "2021-05-10T09:14:38.399943Z",
     "start_time": "2021-05-10T09:14:38.392015Z"
    }
   },
   "outputs": [
    {
     "data": {
      "text/plain": [
       "array([[ 1.,  0.],\n",
       "       [-0., -1.]])"
      ]
     },
     "execution_count": 18,
     "metadata": {},
     "output_type": "execute_result"
    }
   ],
   "source": [
    "b = np.linalg.inv(q)\n",
    "b"
   ]
  },
  {
   "cell_type": "code",
   "execution_count": 19,
   "metadata": {
    "ExecuteTime": {
     "end_time": "2021-05-10T09:14:38.406559Z",
     "start_time": "2021-05-10T09:14:38.402397Z"
    }
   },
   "outputs": [
    {
     "data": {
      "text/plain": [
       "array([[ True,  True],\n",
       "       [ True,  True]])"
      ]
     },
     "execution_count": 19,
     "metadata": {},
     "output_type": "execute_result"
    }
   ],
   "source": [
    "q==b"
   ]
  },
  {
   "cell_type": "markdown",
   "metadata": {},
   "source": [
    "The above code example proves the condition is true for orthogonal matrix."
   ]
  },
  {
   "cell_type": "markdown",
   "metadata": {
    "id": "OjpKIV_Cs3ll"
   },
   "source": [
    "# Define a matrix and calulate the trace of matrix"
   ]
  },
  {
   "cell_type": "markdown",
   "metadata": {},
   "source": [
    "__A matrix__ is defined as a rectangular array or table of numbers, symbols, or expressions, arranged in rows and columns.\n",
    "\n",
    "__The trace__ of a square matrix is defined as the sum of its diagonal elements.\n",
    "Mathematically,\n",
    "    \\begin{equation}\n",
    "    trace(A_{n\\times n}) = \\sum_{i=0}^n a_{i,i}\n",
    "    \\end{equation}\n",
    "    where $a_{i,j}$ is the element of $i^{th}$ row and $j^{th}$ column of the matrix A.\n",
    "__Properties of trace :__\n",
    "- The trace of a sum of two matrices is equal to the sum of their trace.\n",
    "    \\begin{equation}\n",
    "    trace(A_{n\\times n} + B_{n \\times n}) = trace{(A_{n \\times n})} + trace{(B_{n \\times n})}\n",
    "    \\end{equation}\n",
    "- Trace of a matrix is invariant under transpose\n",
    "    \n",
    "- A scalar is equal to its trace :\n",
    "    \\begin{equation}\n",
    "    A_{1\\times n}B_{n \\times 1} = trace(AB) = trace(BA)\n",
    "    \\end{equation}"
   ]
  },
  {
   "cell_type": "code",
   "execution_count": 20,
   "metadata": {
    "ExecuteTime": {
     "end_time": "2021-05-10T09:14:38.413733Z",
     "start_time": "2021-05-10T09:14:38.408173Z"
    }
   },
   "outputs": [
    {
     "name": "stdout",
     "output_type": "stream",
     "text": [
      "[[1 2 3]\n",
      " [4 5 6]\n",
      " [7 8 9]]\n",
      "Trace of matrix is 15\n"
     ]
    }
   ],
   "source": [
    "a = np.array([1,2,3,4,5,6,7,8,9]).reshape(3,3)\n",
    "print(a)\n",
    "print(\"Trace of matrix is\", np.trace(a))"
   ]
  },
  {
   "cell_type": "markdown",
   "metadata": {
    "id": "NDjYXWk1s3ll"
   },
   "source": [
    "# define a 3x3 matrix and calc determinant, ie not invertable\n",
    "- Determinant is defined as a scaler value from a square matrix, identity matrix, transpose matrix. \n",
    "- A non invertible matrix is one which has determinant=0\n",
    "-use case: solution of linear regression"
   ]
  },
  {
   "cell_type": "code",
   "execution_count": 21,
   "metadata": {
    "ExecuteTime": {
     "end_time": "2021-05-10T09:14:38.421360Z",
     "start_time": "2021-05-10T09:14:38.415924Z"
    }
   },
   "outputs": [
    {
     "name": "stdout",
     "output_type": "stream",
     "text": [
      "[[0 1 2]\n",
      " [3 4 5]\n",
      " [6 7 8]]\n",
      "Determinant of a matrix is : \n",
      "  0.0\n"
     ]
    }
   ],
   "source": [
    "a = np.arange(9).reshape(3,3)\n",
    "print(a)\n",
    "print(\"Determinant of a matrix is : \\n \", np.linalg.det(a))"
   ]
  },
  {
   "cell_type": "markdown",
   "metadata": {},
   "source": [
    "As result shows the determinant is zero, so its not invertible matrix."
   ]
  },
  {
   "cell_type": "markdown",
   "metadata": {
    "id": "aakzfS25s3lo"
   },
   "source": [
    "# create a 2x2 matrix , 1x3 matrix and calculate the rank of the matrix\n",
    "\n",
    "__Rank of a matrix:__ The dimension (number of linear independent columns) of the range of A-matrix is called the rank of A matrix.\n",
    "- rank 3 of matrix A: when A is non-singular and A is not eqaul to zero.\n",
    "- rank 2 of a matrix A: when A is singular(A=0) and at least one of its sub-matrix is non zero.\n",
    "- rank 1 of a matrix A: when A is singular,i.e. identity matrix."
   ]
  },
  {
   "cell_type": "code",
   "execution_count": 22,
   "metadata": {
    "ExecuteTime": {
     "end_time": "2021-05-10T09:14:38.431597Z",
     "start_time": "2021-05-10T09:14:38.424892Z"
    }
   },
   "outputs": [
    {
     "name": "stdout",
     "output_type": "stream",
     "text": [
      "The matrices A and B are:\n",
      " A: \n",
      " <module 'numpy.random' from '/home/mamun216/miniconda3/lib/python3.8/site-packages/numpy/random/__init__.py'> \n",
      " B: \n",
      " [[ 22  83 -24]]\n",
      "Ranks of A is 1 and that of B is 1\n"
     ]
    }
   ],
   "source": [
    "A = np.random\n",
    "B = np.random.randint(low=-100, high=100, size=(1,3))\n",
    "\n",
    "print(\"The matrices A and B are:\\n A: \\n\",A, \"\\n B: \\n\", B)\n",
    "\n",
    "print(f\"Ranks of A is {np.linalg.matrix_rank(A)} and that of B is {np.linalg.matrix_rank(B)}\")"
   ]
  },
  {
   "cell_type": "code",
   "execution_count": 23,
   "metadata": {
    "ExecuteTime": {
     "end_time": "2021-05-10T09:14:38.442978Z",
     "start_time": "2021-05-10T09:14:38.437381Z"
    }
   },
   "outputs": [
    {
     "name": "stdout",
     "output_type": "stream",
     "text": [
      "The matrix of a_2x2 is : \n",
      " [[6 8]\n",
      " [2 4]]\n",
      "\n",
      "\n",
      "The matrix of a_1x3 is : \n",
      " [[23 28 28]]\n"
     ]
    }
   ],
   "source": [
    "a_2x2 = np.random.randint(1, 10, size= (2,2))\n",
    "\n",
    "a_1x3 = np.random.randint(20, 30, size = (1,3))\n",
    "\n",
    "print(\"The matrix of a_2x2 is : \\n\", a_2x2)\n",
    "print(\"\\n\")\n",
    "print(\"The matrix of a_1x3 is : \\n\", a_1x3)"
   ]
  },
  {
   "cell_type": "code",
   "execution_count": 24,
   "metadata": {
    "ExecuteTime": {
     "end_time": "2021-05-10T09:14:38.450934Z",
     "start_time": "2021-05-10T09:14:38.445483Z"
    }
   },
   "outputs": [
    {
     "name": "stdout",
     "output_type": "stream",
     "text": [
      "The rank of a_2x2 matrix is 2\n",
      "\n",
      "\n",
      "The rank of a_1x3  matrix is 1\n"
     ]
    }
   ],
   "source": [
    "print(f\"The rank of a_2x2 matrix is {np.linalg.matrix_rank(a_2x2)}\")\n",
    "print(\"\\n\")     \n",
    "print(f\"The rank of a_1x3  matrix is {np.linalg.matrix_rank(a_1x3)}\")"
   ]
  },
  {
   "cell_type": "code",
   "execution_count": 25,
   "metadata": {
    "ExecuteTime": {
     "end_time": "2021-05-10T09:14:38.457722Z",
     "start_time": "2021-05-10T09:14:38.453108Z"
    }
   },
   "outputs": [
    {
     "data": {
      "text/plain": [
       "array([[1., 0.],\n",
       "       [0., 1.]])"
      ]
     },
     "execution_count": 25,
     "metadata": {},
     "output_type": "execute_result"
    }
   ],
   "source": [
    "a = np.identity(2)\n",
    "a"
   ]
  },
  {
   "cell_type": "code",
   "execution_count": 26,
   "metadata": {
    "ExecuteTime": {
     "end_time": "2021-05-10T09:14:38.489282Z",
     "start_time": "2021-05-10T09:14:38.459541Z"
    }
   },
   "outputs": [
    {
     "data": {
      "text/plain": [
       "2"
      ]
     },
     "execution_count": 26,
     "metadata": {},
     "output_type": "execute_result"
    }
   ],
   "source": [
    "np.linalg.matrix_rank(a)"
   ]
  },
  {
   "cell_type": "code",
   "execution_count": 27,
   "metadata": {
    "ExecuteTime": {
     "end_time": "2021-05-10T09:14:38.495124Z",
     "start_time": "2021-05-10T09:14:38.490993Z"
    }
   },
   "outputs": [
    {
     "data": {
      "text/plain": [
       "array([[0., 0., 0.],\n",
       "       [0., 0., 0.],\n",
       "       [0., 0., 0.]])"
      ]
     },
     "execution_count": 27,
     "metadata": {},
     "output_type": "execute_result"
    }
   ],
   "source": [
    "b = np.zeros([3,3])\n",
    "b"
   ]
  },
  {
   "cell_type": "code",
   "execution_count": 28,
   "metadata": {
    "ExecuteTime": {
     "end_time": "2021-05-10T09:14:38.504260Z",
     "start_time": "2021-05-10T09:14:38.497168Z"
    }
   },
   "outputs": [
    {
     "data": {
      "text/plain": [
       "0"
      ]
     },
     "execution_count": 28,
     "metadata": {},
     "output_type": "execute_result"
    }
   ],
   "source": [
    "np.linalg.matrix_rank(b)"
   ]
  },
  {
   "cell_type": "markdown",
   "metadata": {
    "id": "rKhig5RAs3lo"
   },
   "source": [
    "# create a 3*6 matrix with zeros and ones and count the zeros in matrix \n",
    "- also find the size of matrix\n",
    "- calculate the matrix sparsity: count of zeros/size of matrix"
   ]
  },
  {
   "cell_type": "code",
   "execution_count": 29,
   "metadata": {
    "ExecuteTime": {
     "end_time": "2021-05-10T09:14:38.514279Z",
     "start_time": "2021-05-10T09:14:38.506842Z"
    }
   },
   "outputs": [
    {
     "name": "stdout",
     "output_type": "stream",
     "text": [
      "Matrix with zeros and ones: \n",
      " [[0 1 0 0 0 1]\n",
      " [0 1 0 0 1 0]\n",
      " [0 1 1 0 1 0]]\n",
      "counts for zeros 11\n",
      "Size of the matrix, ie. the number of rows and columns : 18\n",
      "Sparsity of the matrix : [0.    0.056]\n"
     ]
    }
   ],
   "source": [
    "one_zero = np.random.choice([0,1], size = (3,6))\n",
    "\n",
    "print(\"Matrix with zeros and ones: \\n\", one_zero)\n",
    "\n",
    "print(\"counts for zeros\", np.sum(one_zero==0))\n",
    "\n",
    "print(\"Size of the matrix, ie. the number of rows and columns :\", one_zero.size)\n",
    "\n",
    "print(\"Sparsity of the matrix :\", np.unique(one_zero, return_counts = True)[0]/one_zero.size)"
   ]
  },
  {
   "cell_type": "markdown",
   "metadata": {
    "id": "jznBaWxcs3lo"
   },
   "source": [
    "# convert the sparse using csr method and again reconstruct to dense\n",
    "A = array([\n",
    "    [1, 0, 0, 1, 0, 0],\n",
    "    [0, 0, 2, 0, 0, 1],\n",
    "    [0, 0, 0, 2, 0, 0]\n",
    "]) #dense matrix\n",
    "\n",
    "https://www.youtube.com/watch?v=fy_dSZb-Xx8"
   ]
  },
  {
   "cell_type": "code",
   "execution_count": 30,
   "metadata": {
    "ExecuteTime": {
     "end_time": "2021-05-10T09:14:38.523586Z",
     "start_time": "2021-05-10T09:14:38.516726Z"
    }
   },
   "outputs": [
    {
     "data": {
      "text/plain": [
       "array([[1, 0, 0, 1, 0, 0],\n",
       "       [0, 0, 2, 0, 0, 1],\n",
       "       [0, 0, 0, 2, 0, 0]])"
      ]
     },
     "execution_count": 30,
     "metadata": {},
     "output_type": "execute_result"
    }
   ],
   "source": [
    "A = np.array([[1, 0, 0, 1, 0, 0], [0, 0, 2, 0, 0, 1], [0, 0, 0, 2, 0, 0]]) \n",
    "A"
   ]
  },
  {
   "cell_type": "code",
   "execution_count": 31,
   "metadata": {
    "ExecuteTime": {
     "end_time": "2021-05-10T09:14:38.530427Z",
     "start_time": "2021-05-10T09:14:38.525337Z"
    }
   },
   "outputs": [
    {
     "name": "stdout",
     "output_type": "stream",
     "text": [
      "  (0, 0)\t1\n",
      "  (0, 3)\t1\n",
      "  (1, 2)\t2\n",
      "  (1, 5)\t1\n",
      "  (2, 3)\t2\n"
     ]
    }
   ],
   "source": [
    "# Create sparse matrix with csr (compressed spaced row) method\n",
    "sparse_mat = csr(A)\n",
    "print(sparse_mat)"
   ]
  },
  {
   "cell_type": "code",
   "execution_count": 32,
   "metadata": {
    "ExecuteTime": {
     "end_time": "2021-05-10T09:14:38.540074Z",
     "start_time": "2021-05-10T09:14:38.533860Z"
    }
   },
   "outputs": [
    {
     "name": "stdout",
     "output_type": "stream",
     "text": [
      "reconstructing to dense \n",
      " [[1 0 0 1 0 0]\n",
      " [0 0 2 0 0 1]\n",
      " [0 0 0 2 0 0]]\n"
     ]
    }
   ],
   "source": [
    "print(\"reconstructing to dense \\n\", sparse_mat.todense())"
   ]
  },
  {
   "cell_type": "markdown",
   "metadata": {
    "id": "MZjROVz-s3lo"
   },
   "source": [
    "# define a tensor of matrix of shape (3,3,3)"
   ]
  },
  {
   "cell_type": "code",
   "execution_count": 33,
   "metadata": {
    "ExecuteTime": {
     "end_time": "2021-05-10T09:14:38.545986Z",
     "start_time": "2021-05-10T09:14:38.541837Z"
    }
   },
   "outputs": [
    {
     "name": "stdout",
     "output_type": "stream",
     "text": [
      "[[[ 0  1  2]\n",
      "  [ 3  4  5]\n",
      "  [ 6  7  8]]\n",
      "\n",
      " [[ 9 10 11]\n",
      "  [12 13 14]\n",
      "  [15 16 17]]\n",
      "\n",
      " [[18 19 20]\n",
      "  [21 22 23]\n",
      "  [24 25 26]]]\n"
     ]
    }
   ],
   "source": [
    "tensor1 = np.arange(27).reshape((3,3,3))\n",
    "print(tensor1)"
   ]
  },
  {
   "cell_type": "markdown",
   "metadata": {
    "id": "Zktph68Us3lp"
   },
   "source": [
    "# create a 2 tensor of size (3,3,3) and perform:\n",
    "- tensor additon\n",
    "- tensor substraction\n"
   ]
  },
  {
   "cell_type": "code",
   "execution_count": 34,
   "metadata": {
    "ExecuteTime": {
     "end_time": "2021-05-10T09:14:38.553498Z",
     "start_time": "2021-05-10T09:14:38.548125Z"
    },
    "id": "frCTZX_7s3lp"
   },
   "outputs": [
    {
     "name": "stdout",
     "output_type": "stream",
     "text": [
      "Tensor1 :\n",
      " [[[ 0  1  2]\n",
      "  [ 3  4  5]\n",
      "  [ 6  7  8]]\n",
      "\n",
      " [[ 9 10 11]\n",
      "  [12 13 14]\n",
      "  [15 16 17]]\n",
      "\n",
      " [[18 19 20]\n",
      "  [21 22 23]\n",
      "  [24 25 26]]] \n",
      " Tensor2 :\n",
      " [[[ 0  1  2]\n",
      "  [ 3  4  5]\n",
      "  [ 6  7  8]]\n",
      "\n",
      " [[ 9 10 11]\n",
      "  [12 13 14]\n",
      "  [15 16 17]]\n",
      "\n",
      " [[18 19 20]\n",
      "  [21 22 23]\n",
      "  [24 25 26]]]\n"
     ]
    }
   ],
   "source": [
    "tensor1 = np.arange(27).reshape(3,3,3)\n",
    "tensor2 = np.arange(27).reshape(3,3,3)\n",
    "print(\"Tensor1 :\\n\", tensor1, \"\\n\", \"Tensor2 :\\n\", tensor2)"
   ]
  },
  {
   "cell_type": "code",
   "execution_count": 35,
   "metadata": {
    "ExecuteTime": {
     "end_time": "2021-05-10T09:14:38.558740Z",
     "start_time": "2021-05-10T09:14:38.555229Z"
    }
   },
   "outputs": [
    {
     "name": "stdout",
     "output_type": "stream",
     "text": [
      "Addition : \n",
      " [[[ 0  2  4]\n",
      "  [ 6  8 10]\n",
      "  [12 14 16]]\n",
      "\n",
      " [[18 20 22]\n",
      "  [24 26 28]\n",
      "  [30 32 34]]\n",
      "\n",
      " [[36 38 40]\n",
      "  [42 44 46]\n",
      "  [48 50 52]]]\n"
     ]
    }
   ],
   "source": [
    "# Tensor addition\n",
    "print(\"Addition : \\n\", np.add(tensor1,tensor2))"
   ]
  },
  {
   "cell_type": "code",
   "execution_count": 36,
   "metadata": {
    "ExecuteTime": {
     "end_time": "2021-05-10T09:14:38.565170Z",
     "start_time": "2021-05-10T09:14:38.560841Z"
    }
   },
   "outputs": [
    {
     "name": "stdout",
     "output_type": "stream",
     "text": [
      "subtraction:\n",
      " [[[0 0 0]\n",
      "  [0 0 0]\n",
      "  [0 0 0]]\n",
      "\n",
      " [[0 0 0]\n",
      "  [0 0 0]\n",
      "  [0 0 0]]\n",
      "\n",
      " [[0 0 0]\n",
      "  [0 0 0]\n",
      "  [0 0 0]]]\n"
     ]
    }
   ],
   "source": [
    "# Subtraction Tensor subtraction\n",
    "print(\"subtraction:\\n\",np.subtract(tensor1, tensor2))"
   ]
  },
  {
   "cell_type": "markdown",
   "metadata": {
    "id": "Hk1Pp4u_s3lp"
   },
   "source": [
    "# perform a Hadamard Product for the above tensor\n",
    "\n",
    "- For two matrices A and B, the Hadamard product A∘B is the matrix obtained by (A∘B)i,j=Ai,jBi,j.\n",
    "- The Hadamard product is a binary operation between 2 matrices (or tensors) of same dimensions \n",
    "- and produces an elementwise product of the 2 matrices(or tensors) such that the output matrix (or tensor) has the same dimention of the input."
   ]
  },
  {
   "cell_type": "code",
   "execution_count": 37,
   "metadata": {
    "ExecuteTime": {
     "end_time": "2021-05-10T09:14:38.570566Z",
     "start_time": "2021-05-10T09:14:38.567003Z"
    }
   },
   "outputs": [
    {
     "name": "stdout",
     "output_type": "stream",
     "text": [
      "The Hadamard product between the 2 above tensors :\n",
      " [[[  0   1   4]\n",
      "  [  9  16  25]\n",
      "  [ 36  49  64]]\n",
      "\n",
      " [[ 81 100 121]\n",
      "  [144 169 196]\n",
      "  [225 256 289]]\n",
      "\n",
      " [[324 361 400]\n",
      "  [441 484 529]\n",
      "  [576 625 676]]]\n"
     ]
    }
   ],
   "source": [
    "print(\"The Hadamard product between the 2 above tensors :\\n\", tensor1*tensor2)"
   ]
  },
  {
   "cell_type": "markdown",
   "metadata": {
    "ExecuteTime": {
     "end_time": "2020-04-27T06:58:51.714494Z",
     "start_time": "2020-04-27T06:58:51.708674Z"
    },
    "id": "PlR978e5s3lp"
   },
   "source": [
    "# Perform a Tensor division for a tensor of shape  T1 and T2 of shape(4,3,3) "
   ]
  },
  {
   "cell_type": "code",
   "execution_count": 38,
   "metadata": {
    "ExecuteTime": {
     "end_time": "2021-05-10T09:14:38.577698Z",
     "start_time": "2021-05-10T09:14:38.572459Z"
    }
   },
   "outputs": [
    {
     "name": "stdout",
     "output_type": "stream",
     "text": [
      "The tensors are Tensor 1 : \n",
      "[[[11 16 15]\n",
      "  [15 18 11]\n",
      "  [11 17 19]]\n",
      "\n",
      " [[17 18 19]\n",
      "  [18 17 15]\n",
      "  [15 16 16]]\n",
      "\n",
      " [[17 17 17]\n",
      "  [18 14 10]\n",
      "  [16 10 17]]\n",
      "\n",
      " [[19 14 10]\n",
      "  [17 19 11]\n",
      "  [18 17 10]]]\n",
      " and Tensor 2 : \n",
      " [[[19 14 10]\n",
      "  [19 12 19]\n",
      "  [17 12 17]]\n",
      "\n",
      " [[11 11 19]\n",
      "  [16 12 19]\n",
      "  [13 14 11]]\n",
      "\n",
      " [[12 17 14]\n",
      "  [12 16 17]\n",
      "  [17 17 12]]\n",
      "\n",
      " [[15 16 18]\n",
      "  [19 15 16]\n",
      "  [12 10 10]]] and the division is \n",
      "[[[0.579 1.143 1.5  ]\n",
      "  [0.789 1.5   0.579]\n",
      "  [0.647 1.417 1.118]]\n",
      "\n",
      " [[1.545 1.636 1.   ]\n",
      "  [1.125 1.417 0.789]\n",
      "  [1.154 1.143 1.455]]\n",
      "\n",
      " [[1.417 1.    1.214]\n",
      "  [1.5   0.875 0.588]\n",
      "  [0.941 0.588 1.417]]\n",
      "\n",
      " [[1.267 0.875 0.556]\n",
      "  [0.895 1.267 0.688]\n",
      "  [1.5   1.7   1.   ]]]\n"
     ]
    }
   ],
   "source": [
    "T1 = np.random.randint(low= 10, high = 20, size=(4,3,3))\n",
    "T2 = np.random.randint(low= 10, high = 20, size=(4,3,3))\n",
    "\n",
    "print(f\"The tensors are Tensor 1 : \\n{T1}\\n and Tensor 2 : \\n {T2} and the division is \\n{np.divide(T1, T2)}\")"
   ]
  },
  {
   "cell_type": "markdown",
   "metadata": {
    "id": "pLUUQDBSs3lq"
   },
   "source": [
    "# define a 2 tensor of 2x2 and calculate the tensor product"
   ]
  },
  {
   "cell_type": "code",
   "execution_count": 39,
   "metadata": {
    "ExecuteTime": {
     "end_time": "2021-05-10T09:14:38.584362Z",
     "start_time": "2021-05-10T09:14:38.579407Z"
    }
   },
   "outputs": [
    {
     "name": "stdout",
     "output_type": "stream",
     "text": [
      "Tensor product [[[[24 18]\n",
      "   [ 3 12]]\n",
      "\n",
      "  [[72 54]\n",
      "   [ 9 36]]]\n",
      "\n",
      "\n",
      " [[[72 54]\n",
      "   [ 9 36]]\n",
      "\n",
      "  [[40 30]\n",
      "   [ 5 20]]]]\n"
     ]
    }
   ],
   "source": [
    "T3 = np.random.randint(low= 1, high = 10, size=(2,2))\n",
    "T4 = np.random.randint(low= 1, high = 10, size=(2,2))\n",
    "\n",
    "tensor_product = np.tensordot(T3,T4, axes = 0)\n",
    "print(\"Tensor product\", tensor_product)"
   ]
  },
  {
   "cell_type": "markdown",
   "metadata": {
    "id": "n9x4-GROs3lq"
   },
   "source": [
    "# calulate the factorization factors a matrix(Lu) decompostion for an array of shape 3x3\n",
    "- reconstruct the original matrix from the decompostion"
   ]
  },
  {
   "cell_type": "markdown",
   "metadata": {},
   "source": [
    "The LU decompostion of a matrix is a type of factorization which factors the matrix into a product of an upper triangular and lower triangular matrix.\n",
    "\n",
    "   For a matrix $A_{n \\times n}$, An LU factorization refers to the factorization of A, with proper row and/or column orderings or permutations, into two factors – a lower triangular matrix L and an upper triangular matrix U\n",
    "    \\begin{equation}\n",
    "    A = L U\n",
    "    \\end{equation}\n",
    "    \n",
    "   where $L$ is a lower-triangular matrix and $U$ is a upper-triangular matrix."
   ]
  },
  {
   "cell_type": "code",
   "execution_count": 40,
   "metadata": {
    "ExecuteTime": {
     "end_time": "2021-05-10T09:14:38.590484Z",
     "start_time": "2021-05-10T09:14:38.585880Z"
    }
   },
   "outputs": [
    {
     "data": {
      "text/plain": [
       "array([[0., 1., 2.],\n",
       "       [3., 4., 5.],\n",
       "       [6., 7., 8.]])"
      ]
     },
     "execution_count": 40,
     "metadata": {},
     "output_type": "execute_result"
    }
   ],
   "source": [
    "M = np.arange(9.0).reshape(3,3)\n",
    "M"
   ]
  },
  {
   "cell_type": "code",
   "execution_count": 41,
   "metadata": {
    "ExecuteTime": {
     "end_time": "2021-05-10T09:14:38.600269Z",
     "start_time": "2021-05-10T09:14:38.592037Z"
    }
   },
   "outputs": [
    {
     "name": "stdout",
     "output_type": "stream",
     "text": [
      "permutation  [[0. 1. 0.]\n",
      " [0. 0. 1.]\n",
      " [1. 0. 0.]]\n",
      "\n",
      "\n",
      "lower triangle [[1.  0.  0. ]\n",
      " [0.  1.  0. ]\n",
      " [0.5 0.5 1. ]]\n",
      "\n",
      "\n",
      "upper triangle [[6. 7. 8.]\n",
      " [0. 1. 2.]\n",
      " [0. 0. 0.]]\n"
     ]
    }
   ],
   "source": [
    "permu,lowerT, upperT = la.lu(M, permute_l = False)\n",
    "print(\"permutation \", permu)\n",
    "print(\"\\n\")\n",
    "print(\"lower triangle\", lowerT)\n",
    "print(\"\\n\")\n",
    "print(\"upper triangle\", upperT)"
   ]
  },
  {
   "cell_type": "code",
   "execution_count": 42,
   "metadata": {
    "ExecuteTime": {
     "end_time": "2021-05-10T09:14:38.608193Z",
     "start_time": "2021-05-10T09:14:38.602644Z"
    }
   },
   "outputs": [
    {
     "name": "stdout",
     "output_type": "stream",
     "text": [
      "original matrix : \n",
      " [[0. 1. 2.]\n",
      " [3. 4. 5.]\n",
      " [6. 7. 8.]]\n"
     ]
    }
   ],
   "source": [
    "# Recontruction to the original matrix\n",
    "origin = np.dot(permu,lowerT)\n",
    "print(\"original matrix : \\n\", origin.dot(upperT))"
   ]
  },
  {
   "cell_type": "markdown",
   "metadata": {
    "id": "zuJl5FpHs3lq"
   },
   "source": [
    "# from a matrix of shape 3x2\n",
    "- calculate the QR decompostion\n",
    "- reconstruct the original matrix"
   ]
  },
  {
   "cell_type": "markdown",
   "metadata": {},
   "source": [
    "The QR decompostion of the matrix decomposes a matrix to a product of 2 components, an orthogonal matrix and an upper triangular matrix.\n",
    "\n",
    "- For a matrix $A_{m \\times n}$, the QR decomposition gives $A = QR$ where $Q$ is an orthogonal matrix and $R$ is an upper triangular matrix.\n",
    "- The QR decompostion can be achieved by numerous algorithms - Gram–Schmidt process, Householder transformations, or Givens rotations.\n",
    "\n",
    "-- use case svd"
   ]
  },
  {
   "cell_type": "code",
   "execution_count": 43,
   "metadata": {
    "ExecuteTime": {
     "end_time": "2021-05-10T09:14:38.614767Z",
     "start_time": "2021-05-10T09:14:38.610157Z"
    }
   },
   "outputs": [
    {
     "name": "stdout",
     "output_type": "stream",
     "text": [
      "The matrix of shape 3x2 is \n",
      " [[2 3]\n",
      " [5 1]\n",
      " [9 8]]\n"
     ]
    }
   ],
   "source": [
    "A = np.random.randint(low=0, high=10, size=(3,2))\n",
    "print(\"The matrix of shape 3x2 is \\n\", A)\n",
    "\n",
    "q,r = np.linalg.qr(A)"
   ]
  },
  {
   "cell_type": "code",
   "execution_count": 44,
   "metadata": {
    "ExecuteTime": {
     "end_time": "2021-05-10T09:14:38.621049Z",
     "start_time": "2021-05-10T09:14:38.617223Z"
    }
   },
   "outputs": [
    {
     "name": "stdout",
     "output_type": "stream",
     "text": [
      "Orthogonal part [[-0.191  0.442]\n",
      " [-0.477 -0.822]\n",
      " [-0.858  0.359]]\n"
     ]
    }
   ],
   "source": [
    "q,r = np.linalg.qr(A)\n",
    "\n",
    "print(\"Orthogonal part\", q)"
   ]
  },
  {
   "cell_type": "code",
   "execution_count": 45,
   "metadata": {
    "ExecuteTime": {
     "end_time": "2021-05-10T09:14:38.626767Z",
     "start_time": "2021-05-10T09:14:38.622880Z"
    }
   },
   "outputs": [
    {
     "name": "stdout",
     "output_type": "stream",
     "text": [
      "Upper triangular part  [[-10.488  -7.914]\n",
      " [  0.      3.372]]\n"
     ]
    }
   ],
   "source": [
    "print(\"Upper triangular part \", r)"
   ]
  },
  {
   "cell_type": "code",
   "execution_count": 46,
   "metadata": {
    "ExecuteTime": {
     "end_time": "2021-05-10T09:14:38.633305Z",
     "start_time": "2021-05-10T09:14:38.628598Z"
    }
   },
   "outputs": [
    {
     "data": {
      "text/plain": [
       "array([[2., 3.],\n",
       "       [5., 1.],\n",
       "       [9., 8.]])"
      ]
     },
     "execution_count": 46,
     "metadata": {},
     "output_type": "execute_result"
    }
   ],
   "source": [
    "# Reconstruction\n",
    "b = q.dot(r)\n",
    "b"
   ]
  },
  {
   "cell_type": "markdown",
   "metadata": {
    "id": "99QMfb6_s3lq"
   },
   "source": [
    "# define a 3x3 matrix calculate\n",
    "- cholesky decomposition using lower factorize\n",
    "- reconstruct the original matrix"
   ]
  },
  {
   "cell_type": "markdown",
   "metadata": {},
   "source": [
    "The Cholesky decomposition is a decomposition of a Hermitian, positive-definite matrix into the product of a lower triangular matrix and its conjugate transpose.\n",
    "\n",
    "   Mathematically, the cholesky decompostion of a positive-definite matrix, $A_{n \\times n}$ is $A = L L^*$ (for $A$ in complex space ) and $A = LL^T$ ($A$ in real space),    \n",
    "    where $L$ is a lower triangular matrix with real and positive diagonal entries, and $L^*$ denotes the conjugate transpose of $L$. \n",
    "- use case: earlier to solve OLS(ordinary least square)"
   ]
  },
  {
   "cell_type": "code",
   "execution_count": 47,
   "metadata": {
    "ExecuteTime": {
     "end_time": "2021-05-10T09:14:38.642074Z",
     "start_time": "2021-05-10T09:14:38.635839Z"
    }
   },
   "outputs": [
    {
     "name": "stdout",
     "output_type": "stream",
     "text": [
      "Matrix:\n",
      " [[76 56 32]\n",
      " [56 79 31]\n",
      " [32 31 19]]\n"
     ]
    }
   ],
   "source": [
    "A= np.random.randint(0,5, size=(3,3))\n",
    "\n",
    "D = np.diag(np.random.randint(1,5, size=(3)))\n",
    "positive_definite = A.T.dot(D).dot(A)\n",
    "\n",
    "print(\"Matrix:\\n\",positive_definite)"
   ]
  },
  {
   "cell_type": "code",
   "execution_count": 48,
   "metadata": {
    "ExecuteTime": {
     "end_time": "2021-05-10T09:14:38.654488Z",
     "start_time": "2021-05-10T09:14:38.645310Z"
    }
   },
   "outputs": [
    {
     "name": "stdout",
     "output_type": "stream",
     "text": [
      "The Cholesky decompositon using lower factorize leads to :\n",
      " [[8.718 0.    0.   ]\n",
      " [6.424 6.143 0.   ]\n",
      " [3.671 1.208 2.017]]\n",
      "\n",
      "\n",
      "Reconstruction of the matrix from the decompositon\n",
      " [[76. 56. 32.]\n",
      " [56. 79. 31.]\n",
      " [32. 31. 19.]]\n"
     ]
    }
   ],
   "source": [
    "Cholesky = np.linalg.cholesky(positive_definite)\n",
    "print(\"The Cholesky decompositon using lower factorize leads to :\\n\", Cholesky)\n",
    "print(\"\\n\")\n",
    "print(\"Reconstruction of the matrix from the decompositon\\n\", Cholesky.dot(Cholesky.T))"
   ]
  },
  {
   "cell_type": "markdown",
   "metadata": {
    "id": "BwH1DeKgs3lq"
   },
   "source": [
    "# define a 3x3 matrix and calculate the:\n",
    "- eigendecomposition \n"
   ]
  },
  {
   "cell_type": "markdown",
   "metadata": {},
   "source": [
    "- Eigendecomposition is a method of factorization of a matrix into a canonical form, representing the matrix into eigenvectors and eigenvalues.\n",
    "- A (non-zero) vector v of dimension N is an eigenvector of a square N × N matrix A if it satisfies the linear equation :\n",
    "\\begin{equation}\n",
    "    A\\mathbf{v} = \\lambda \\mathbf{v}\n",
    "\\end{equation}\n",
    "where $\\lambda$ is a scalar, the eigenvalue corresponding to the eigenvector $\\mathbf{v}$. In a similar fashion we can define a polynomial defining the equation for eigenvalues :\n",
    "\n",
    "\\begin{equation}\n",
    " p(\\lambda) = determinant(A - \\lambda \\mathcal{I}) = 0\n",
    "\\end{equation}\n",
    "\n",
    "   Corresponding to each eigenvalue $\\lambda_i$, we havea a specific eigenvalue equation :\n",
    "   \\begin{equation}\n",
    "   ( A -\\lambda _{i}\\mathcal {I} )\\mathbf {v} =0\n",
    "   \\end{equation}\n",
    "    \n",
    " Given a square matrix $A_{n \\times n}$, with $n$ linearly independent eigenvectors, the matrix $A$ can be factorized as :\n",
    " \\begin{equation}\n",
    " A = Q\\Lambda Q^{-1}\n",
    " \\end{equation}"
   ]
  },
  {
   "cell_type": "code",
   "execution_count": 70,
   "metadata": {
    "ExecuteTime": {
     "end_time": "2021-05-10T09:19:52.729900Z",
     "start_time": "2021-05-10T09:19:52.721912Z"
    }
   },
   "outputs": [
    {
     "name": "stdout",
     "output_type": "stream",
     "text": [
      "The matrix of shape 3x3 is \n",
      " [[2 8 0]\n",
      " [8 8 2]\n",
      " [3 9 3]]\n",
      "\n",
      "\n",
      "The eigendecomposition leads to the eigenvalues \n",
      "  [14.828 -4.034  2.207] \n",
      "and eigenvectors \n",
      " [[-0.417 -0.733 -0.238]\n",
      " [-0.669  0.553 -0.006]\n",
      " [-0.615 -0.395  0.971]] \n",
      "\n"
     ]
    }
   ],
   "source": [
    "data = np.random.randint(low=0, high=10, size=(3,3))\n",
    "print(\"The matrix of shape 3x3 is \\n\", data)\n",
    "print(\"\\n\")\n",
    "\n",
    "w,v = np.linalg.eig(data)\n",
    "\n",
    "print(\"The eigendecomposition leads to the eigenvalues \\n \", w, \"\\nand eigenvectors \\n\", v, \"\\n\")"
   ]
  },
  {
   "cell_type": "markdown",
   "metadata": {
    "id": "TBG1AS5Ks3lq"
   },
   "source": [
    "# from the above eigendecomposition conform an eigenvector and eigenvalue"
   ]
  },
  {
   "cell_type": "code",
   "execution_count": 71,
   "metadata": {
    "ExecuteTime": {
     "end_time": "2021-05-10T09:19:54.148971Z",
     "start_time": "2021-05-10T09:19:54.142798Z"
    }
   },
   "outputs": [
    {
     "name": "stdout",
     "output_type": "stream",
     "text": [
      "Eigen value : [14.828 -4.034  2.207]\n",
      "\n",
      "\n",
      "Each row of the eigenvector corresponds to each element of the eigenvalue array indexed sequentially.\n",
      "Eigen vector : [[-0.417 -0.733 -0.238]\n",
      " [-0.669  0.553 -0.006]\n",
      " [-0.615 -0.395  0.971]]\n"
     ]
    }
   ],
   "source": [
    "print(\"Eigen value :\", w)\n",
    "print(\"\\n\")\n",
    "print(\"Each row of the eigenvector corresponds to each element of the eigenvalue array indexed sequentially.\")\n",
    "print(\"Eigen vector :\", v)"
   ]
  },
  {
   "cell_type": "code",
   "execution_count": 72,
   "metadata": {
    "ExecuteTime": {
     "end_time": "2021-05-10T09:27:57.761027Z",
     "start_time": "2021-05-10T09:27:57.757078Z"
    }
   },
   "outputs": [
    {
     "data": {
      "text/plain": [
       "array([[2, 8, 0],\n",
       "       [8, 8, 2],\n",
       "       [3, 9, 3]])"
      ]
     },
     "execution_count": 72,
     "metadata": {},
     "output_type": "execute_result"
    }
   ],
   "source": [
    "data"
   ]
  },
  {
   "cell_type": "code",
   "execution_count": 73,
   "metadata": {
    "ExecuteTime": {
     "end_time": "2021-05-10T09:19:55.511666Z",
     "start_time": "2021-05-10T09:19:55.504565Z"
    }
   },
   "outputs": [
    {
     "data": {
      "text/plain": [
       "array([-6.187, -9.921, -9.119])"
      ]
     },
     "execution_count": 73,
     "metadata": {},
     "output_type": "execute_result"
    }
   ],
   "source": [
    "AV= data.dot(v[:,0])\n",
    "AV"
   ]
  },
  {
   "cell_type": "code",
   "execution_count": 74,
   "metadata": {
    "ExecuteTime": {
     "end_time": "2021-05-10T09:19:56.165463Z",
     "start_time": "2021-05-10T09:19:56.155543Z"
    }
   },
   "outputs": [
    {
     "data": {
      "text/plain": [
       "array([-6.187, -9.921, -9.119])"
      ]
     },
     "execution_count": 74,
     "metadata": {},
     "output_type": "execute_result"
    }
   ],
   "source": [
    "LV= v[:,0]*w[0]\n",
    "LV"
   ]
  },
  {
   "cell_type": "code",
   "execution_count": 75,
   "metadata": {
    "ExecuteTime": {
     "end_time": "2021-05-10T09:19:56.773558Z",
     "start_time": "2021-05-10T09:19:56.767679Z"
    }
   },
   "outputs": [
    {
     "data": {
      "text/plain": [
       "array([False, False, False])"
      ]
     },
     "execution_count": 75,
     "metadata": {},
     "output_type": "execute_result"
    }
   ],
   "source": [
    "AV==LV"
   ]
  },
  {
   "cell_type": "markdown",
   "metadata": {
    "id": "l3HgqRACs3lr"
   },
   "source": [
    "# Reconstruct the matrix from the Eigendecompostion"
   ]
  },
  {
   "cell_type": "code",
   "execution_count": 76,
   "metadata": {
    "ExecuteTime": {
     "end_time": "2021-05-10T09:19:59.158692Z",
     "start_time": "2021-05-10T09:19:59.151526Z"
    }
   },
   "outputs": [
    {
     "name": "stdout",
     "output_type": "stream",
     "text": [
      "The reconstructed matrix from the eigendecompostion is \n",
      " [[ 2.  8. -0.]\n",
      " [ 8.  8.  2.]\n",
      " [ 3.  9.  3.]]\n"
     ]
    }
   ],
   "source": [
    "recons = np.diag(w)\n",
    "print(\"The reconstructed matrix from the eigendecompostion is \\n\",v.dot(recons)@np.linalg.inv(v))"
   ]
  },
  {
   "cell_type": "markdown",
   "metadata": {
    "id": "uKaI2M-Cs3lr"
   },
   "source": [
    "# calculate the L1 norm for a 1x3 matrix\n",
    "- __L1 norm__ is the total distance covered by a vector from its origin to destination point \n",
    "- and it calculated by adding vector manually towards its target point."
   ]
  },
  {
   "cell_type": "code",
   "execution_count": 81,
   "metadata": {
    "ExecuteTime": {
     "end_time": "2021-05-10T09:25:16.761035Z",
     "start_time": "2021-05-10T09:25:16.754821Z"
    }
   },
   "outputs": [
    {
     "name": "stdout",
     "output_type": "stream",
     "text": [
      "Matrix : \n",
      " [1 3 3] \n",
      "\n",
      "L1 norm :  7.0\n"
     ]
    }
   ],
   "source": [
    "L1 = np.array([1,3,3])\n",
    "print(\"Matrix : \\n\", L1, \"\\n\")\n",
    "print(\"L1 norm : \", np.linalg.norm(L1,1))"
   ]
  },
  {
   "cell_type": "markdown",
   "metadata": {
    "id": "QFu_pfyVs3lr"
   },
   "source": [
    "# calculate the L2 norm for the 1x4 matrix\n",
    "\n",
    "- __L2 norm__ is the shortest total distance covered by a vector from its origin to destination point \n",
    "- and it calculated by eucleadian distance, squarring vector, adding, sum and then square-root."
   ]
  },
  {
   "cell_type": "code",
   "execution_count": 82,
   "metadata": {
    "ExecuteTime": {
     "end_time": "2021-05-10T09:25:33.978644Z",
     "start_time": "2021-05-10T09:25:33.973385Z"
    },
    "id": "zb4581iBs3lr"
   },
   "outputs": [
    {
     "name": "stdout",
     "output_type": "stream",
     "text": [
      "1x4 matrix:\n",
      " [1 3 3 5]\n",
      "L2 norm calculation result : \n",
      " 6.6332495807108\n"
     ]
    }
   ],
   "source": [
    "L2 = np.array([1,3,3,5])\n",
    "print(\"1x4 matrix:\\n\", L2)\n",
    "print(\"L2 norm calculation result : \\n\", np.linalg.norm(L2,2))"
   ]
  },
  {
   "cell_type": "markdown",
   "metadata": {},
   "source": [
    "# Calculate the singular value decomposition(SVD)"
   ]
  },
  {
   "cell_type": "code",
   "execution_count": 83,
   "metadata": {
    "ExecuteTime": {
     "end_time": "2021-05-10T09:27:57.761027Z",
     "start_time": "2021-05-10T09:27:57.757078Z"
    }
   },
   "outputs": [
    {
     "data": {
      "text/plain": [
       "array([[2, 8, 0],\n",
       "       [8, 8, 2],\n",
       "       [3, 9, 3]])"
      ]
     },
     "execution_count": 83,
     "metadata": {},
     "output_type": "execute_result"
    }
   ],
   "source": [
    "data"
   ]
  },
  {
   "cell_type": "code",
   "execution_count": 84,
   "metadata": {
    "ExecuteTime": {
     "end_time": "2021-05-10T09:28:13.000737Z",
     "start_time": "2021-05-10T09:28:12.993468Z"
    }
   },
   "outputs": [
    {
     "data": {
      "text/plain": [
       "(array([[-0.469,  0.539, -0.699],\n",
       "        [-0.664, -0.738, -0.123],\n",
       "        [-0.583,  0.406,  0.704]]),\n",
       " array([16.675,  4.164,  1.901]),\n",
       " array([[-0.48 , -0.858, -0.184],\n",
       "        [-0.866,  0.497, -0.062],\n",
       "        [-0.144, -0.13 ,  0.981]]))"
      ]
     },
     "execution_count": 84,
     "metadata": {},
     "output_type": "execute_result"
    }
   ],
   "source": [
    "np.linalg.svd(data)"
   ]
  },
  {
   "cell_type": "markdown",
   "metadata": {},
   "source": [
    "# Pseudoinverse"
   ]
  },
  {
   "cell_type": "code",
   "execution_count": null,
   "metadata": {},
   "outputs": [],
   "source": []
  }
 ],
 "metadata": {
  "colab": {
   "name": "Lin_alg-question.ipynb",
   "provenance": []
  },
  "kernelspec": {
   "display_name": "Python 3",
   "language": "python",
   "name": "python3"
  },
  "language_info": {
   "codemirror_mode": {
    "name": "ipython",
    "version": 3
   },
   "file_extension": ".py",
   "mimetype": "text/x-python",
   "name": "python",
   "nbconvert_exporter": "python",
   "pygments_lexer": "ipython3",
   "version": "3.8.5"
  },
  "toc": {
   "base_numbering": "1",
   "nav_menu": {},
   "number_sections": true,
   "sideBar": true,
   "skip_h1_title": false,
   "title_cell": "Table of Contents",
   "title_sidebar": "Contents",
   "toc_cell": false,
   "toc_position": {},
   "toc_section_display": true,
   "toc_window_display": false
  },
  "varInspector": {
   "cols": {
    "lenName": 16,
    "lenType": 16,
    "lenVar": 40
   },
   "kernels_config": {
    "python": {
     "delete_cmd_postfix": "",
     "delete_cmd_prefix": "del ",
     "library": "var_list.py",
     "varRefreshCmd": "print(var_dic_list())"
    },
    "r": {
     "delete_cmd_postfix": ") ",
     "delete_cmd_prefix": "rm(",
     "library": "var_list.r",
     "varRefreshCmd": "cat(var_dic_list()) "
    }
   },
   "types_to_exclude": [
    "module",
    "function",
    "builtin_function_or_method",
    "instance",
    "_Feature"
   ],
   "window_display": false
  }
 },
 "nbformat": 4,
 "nbformat_minor": 1
}
