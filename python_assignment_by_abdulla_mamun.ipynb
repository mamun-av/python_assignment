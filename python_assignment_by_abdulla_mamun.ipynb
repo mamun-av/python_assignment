{
 "cells": [
  {
   "cell_type": "markdown",
   "id": "db0ca7ef",
   "metadata": {},
   "source": [
    "__Python Practice Assignment__"
   ]
  },
  {
   "cell_type": "markdown",
   "id": "ce544c89",
   "metadata": {},
   "source": [
    "# Calculate the area of a circle\n",
    "\n",
    "Area of a circle equation is :\n",
    "\n",
    "$A =\\pi r^2$"
   ]
  },
  {
   "cell_type": "code",
   "execution_count": 1,
   "id": "aee30f9a",
   "metadata": {
    "ExecuteTime": {
     "end_time": "2021-05-01T14:33:41.342674Z",
     "start_time": "2021-05-01T14:33:37.638873Z"
    }
   },
   "outputs": [
    {
     "name": "stdout",
     "output_type": "stream",
     "text": [
      "Enter the radius value of a circle :5\n",
      "Area of a circle is 78.50 sqm.\n"
     ]
    }
   ],
   "source": [
    "# Constant value of pi\n",
    "\n",
    "pi = 3.14 \n",
    "\n",
    "# Radius of a circle(r)\n",
    "\n",
    "r = float(input(\"Enter the radius value of a circle :\"))\n",
    "\n",
    "# Area of a circle will be (A)\n",
    "\n",
    "A = pi*(r**2)\n",
    "\n",
    "print(\"Area of a circle is %.2f\" %A, \"sqm.\")"
   ]
  },
  {
   "cell_type": "markdown",
   "id": "ccdd669a",
   "metadata": {},
   "source": [
    "# Say Hello to user, Expected, ‘Hello name’"
   ]
  },
  {
   "cell_type": "code",
   "execution_count": 2,
   "id": "a82b7562",
   "metadata": {
    "ExecuteTime": {
     "end_time": "2021-05-01T14:33:42.645844Z",
     "start_time": "2021-05-01T14:33:41.344238Z"
    }
   },
   "outputs": [
    {
     "name": "stdout",
     "output_type": "stream",
     "text": [
      "Enter your name : 5\n",
      "Hello 5\n"
     ]
    }
   ],
   "source": [
    "name = input(\"Enter your name : \")\n",
    "print(\"Hello \"+name)"
   ]
  },
  {
   "cell_type": "markdown",
   "id": "18daebf3",
   "metadata": {},
   "source": [
    "# Calculate Volume of Sphere\n",
    "\n",
    "The equation for volume of sphere is--\n",
    "\n",
    "$V = \\frac{{4\\pi r^3 }}{3}$\n"
   ]
  },
  {
   "cell_type": "code",
   "execution_count": 3,
   "id": "e1a11433",
   "metadata": {
    "ExecuteTime": {
     "end_time": "2021-05-01T14:33:43.965977Z",
     "start_time": "2021-05-01T14:33:42.648206Z"
    }
   },
   "outputs": [
    {
     "name": "stdout",
     "output_type": "stream",
     "text": [
      "Enter the radius value of a circle :5\n",
      "The volume of a sphere is 523.33 cubm.\n"
     ]
    }
   ],
   "source": [
    "# Constant value of pi\n",
    "\n",
    "pi = 3.14 \n",
    "\n",
    "# Radius of a circle(r)\n",
    "\n",
    "r = float(input(\"Enter the radius value of a circle :\"))\n",
    "\n",
    "# Volume of a sphere (V) is\n",
    "\n",
    "V = (4*pi*(r**3))/3\n",
    "\n",
    "print(\"The volume of a sphere is %.2f\" %V, \"cubm.\")"
   ]
  },
  {
   "cell_type": "markdown",
   "id": "2109b209",
   "metadata": {},
   "source": [
    "# Copy string in n times"
   ]
  },
  {
   "cell_type": "code",
   "execution_count": 4,
   "id": "a6718bd8",
   "metadata": {
    "ExecuteTime": {
     "end_time": "2021-05-01T14:33:45.355261Z",
     "start_time": "2021-05-01T14:33:43.968012Z"
    }
   },
   "outputs": [
    {
     "name": "stdout",
     "output_type": "stream",
     "text": [
      "Enter the number of times to copy strings: 5\n",
      "\n",
      "\n",
      "I am happy to join with Integrify.\n",
      "I am happy to join with Integrify.\n",
      "I am happy to join with Integrify.\n",
      "I am happy to join with Integrify.\n",
      "I am happy to join with Integrify.\n",
      "\n"
     ]
    }
   ],
   "source": [
    "string = \"I am happy to join with Integrify.\\n\"\n",
    "\n",
    "n = int(input(\"Enter the number of times to copy strings: \"))\n",
    "\n",
    "print(\"\\n\")\n",
    "print(string*n, sep =\",\")"
   ]
  },
  {
   "cell_type": "markdown",
   "id": "e879890e",
   "metadata": {},
   "source": [
    "# Calculate the area of a triangle\n",
    "\n",
    "Area of a triangle equation :\n",
    "\n",
    "$A = \\frac{1}{2}bh$\n",
    "\n",
    "Where\n",
    "- A = Area\n",
    "- b = Base\n",
    "- h = Height"
   ]
  },
  {
   "cell_type": "code",
   "execution_count": 5,
   "id": "ea537901",
   "metadata": {
    "ExecuteTime": {
     "end_time": "2021-05-01T14:33:48.558734Z",
     "start_time": "2021-05-01T14:33:45.358914Z"
    }
   },
   "outputs": [
    {
     "name": "stdout",
     "output_type": "stream",
     "text": [
      "Enter the base of a triangle in meter : 5\n",
      "Enter the height of a triangle in meter : 5\n",
      "12.5\n"
     ]
    }
   ],
   "source": [
    "# Base of a triangle in meter\n",
    "b = float(input(\"Enter the base of a triangle in meter : \"))\n",
    "\n",
    "# Height of a triangle in meter\n",
    "h = float(input(\"Enter the height of a triangle in meter : \"))\n",
    "\n",
    "# Area \n",
    "A = 0.5*b*h\n",
    "print(A)"
   ]
  },
  {
   "cell_type": "markdown",
   "id": "2356a12e",
   "metadata": {},
   "source": [
    "# Calculate the interest"
   ]
  },
  {
   "cell_type": "code",
   "execution_count": 6,
   "id": "2cfebeb9",
   "metadata": {
    "ExecuteTime": {
     "end_time": "2021-05-01T14:33:51.356806Z",
     "start_time": "2021-05-01T14:33:48.560282Z"
    }
   },
   "outputs": [
    {
     "name": "stdout",
     "output_type": "stream",
     "text": [
      "Please enter the capital amount in kr : 5\n",
      "Please enter the rate of interest in percent : 5\n",
      "Please enter the time period in years : 5\n",
      "\n",
      "Simple interest for capital amount 5.0 = 1.25\n"
     ]
    }
   ],
   "source": [
    "# Calculate the simple interest\n",
    "capital_amount = float(input(\"Please enter the capital amount in kr : \"))\n",
    "rate_of_interest = float(input(\"Please enter the rate of interest in percent : \"))\n",
    "time_period = int(input(\"Please enter the time period in years : \"))\n",
    "\n",
    "simple_interest = (capital_amount*rate_of_interest*time_period)/100\n",
    "\n",
    "print(\"\\nSimple interest for capital amount {} = {}\".format(capital_amount, simple_interest))\n"
   ]
  },
  {
   "cell_type": "markdown",
   "id": "818242b8",
   "metadata": {},
   "source": [
    "# Calculate Euclidean distance (-Shortest distance between two points )\n",
    "\n",
    "Formula : \n",
    "\n",
    "$d\\left( p,q\\right)   = \\sqrt {\\sum _{i=1}^{n}  \\left( q_{i}-p_{i}\\right)^2 }$"
   ]
  },
  {
   "cell_type": "code",
   "execution_count": 7,
   "id": "815d9e3a",
   "metadata": {
    "ExecuteTime": {
     "end_time": "2021-05-01T14:33:51.362413Z",
     "start_time": "2021-05-01T14:33:51.358678Z"
    }
   },
   "outputs": [
    {
     "name": "stdout",
     "output_type": "stream",
     "text": [
      "Euclidean distance from p to q is : 5.20 \n"
     ]
    }
   ],
   "source": [
    "import math\n",
    "\n",
    "# First Point (p)\n",
    "p = (4,5,6)\n",
    "\n",
    "# Second point (q)\n",
    "q = (1,2,3)\n",
    "\n",
    "# Calculate the distance between points p & q\n",
    "distance = math.sqrt(sum([(a - b) ** 2 for a, b in zip(p, q)]))\n",
    "\n",
    "print(\"Euclidean distance from p to q is : %.2f \" %distance)"
   ]
  },
  {
   "cell_type": "markdown",
   "id": "5c603ea5",
   "metadata": {},
   "source": [
    "# Feet to centimeter converter\n",
    "\n",
    "- 1 feet = 30.48 cm\n",
    "- 1 feet = 12 inches\n",
    "- 1 inch = 2.54 cm"
   ]
  },
  {
   "cell_type": "code",
   "execution_count": 1,
   "id": "5fc1d573",
   "metadata": {
    "ExecuteTime": {
     "end_time": "2021-05-03T07:15:24.948047Z",
     "start_time": "2021-05-03T07:15:24.938588Z"
    }
   },
   "outputs": [
    {
     "data": {
      "text/plain": [
       "152.4"
      ]
     },
     "execution_count": 1,
     "metadata": {},
     "output_type": "execute_result"
    }
   ],
   "source": [
    "def convert_feet_to_cm(feet):\n",
    "    return feet*30.48\n",
    "convert_feet_to_cm(5)"
   ]
  },
  {
   "cell_type": "markdown",
   "id": "fd77c3a4",
   "metadata": {},
   "source": [
    "# BMI (Body Mass Index) calculator\n",
    "\n",
    "$BMI = weight/height^2$\n"
   ]
  },
  {
   "cell_type": "code",
   "execution_count": 9,
   "id": "a25a5c55",
   "metadata": {
    "ExecuteTime": {
     "end_time": "2021-05-01T14:33:57.742089Z",
     "start_time": "2021-05-01T14:33:53.371572Z"
    }
   },
   "outputs": [
    {
     "name": "stdout",
     "output_type": "stream",
     "text": [
      "Input your height in feet : 5\n",
      "Input your weight in kilogram : 5\n",
      "Your body mass index is:  0.2\n"
     ]
    }
   ],
   "source": [
    "# Height\n",
    "height = float(input(\"Input your height in feet : \"))\n",
    "\n",
    "# Weight\n",
    "weight = float(input(\"Input your weight in kilogram : \"))\n",
    "\n",
    "# Calculate the BMI\n",
    "print(\"Your body mass index is: \", round(weight / (height * height), 2))"
   ]
  },
  {
   "cell_type": "code",
   "execution_count": 10,
   "id": "bcc5c59d",
   "metadata": {
    "ExecuteTime": {
     "end_time": "2021-05-01T14:33:57.747457Z",
     "start_time": "2021-05-01T14:33:57.743857Z"
    }
   },
   "outputs": [
    {
     "name": "stdout",
     "output_type": "stream",
     "text": [
      "Body mass index will be : 1.81\n"
     ]
    }
   ],
   "source": [
    "def bmi(height, weight):\n",
    "    a = round(int(weight)/int(height**2),2)\n",
    "    print(\"Body mass index will be :\", a)\n",
    "bmi(6,65)"
   ]
  },
  {
   "cell_type": "markdown",
   "id": "de93ad66",
   "metadata": {},
   "source": [
    "# Binary to Decimal conversion (Using function)\n"
   ]
  },
  {
   "cell_type": "code",
   "execution_count": 11,
   "id": "bf5972bc",
   "metadata": {
    "ExecuteTime": {
     "end_time": "2021-05-01T14:34:00.879473Z",
     "start_time": "2021-05-01T14:33:57.748906Z"
    }
   },
   "outputs": [
    {
     "name": "stdout",
     "output_type": "stream",
     "text": [
      "Enter the Binary Number: Enter the binary number to convert decimal: 1100\n",
      "\n",
      "Equivalent Decimal Value for inserted binary number =  12\n"
     ]
    }
   ],
   "source": [
    "# Define a function name BintoDec with one parameter\n",
    "def BinToDec(b):\n",
    "    return int(b, 2)\n",
    "\n",
    "print(\"Enter the Binary Number: \", end=\"\")\n",
    "binary_num = input(\"Enter the binary number to convert decimal: \")\n",
    "\n",
    "decimal_num = BinToDec(binary_num)\n",
    "print(\"\\nEquivalent Decimal Value for inserted binary number = \", decimal_num)"
   ]
  },
  {
   "cell_type": "markdown",
   "id": "4749faf4",
   "metadata": {},
   "source": [
    "# Receive two integral numbers in string form and compute their sum and then print it in console."
   ]
  },
  {
   "cell_type": "code",
   "execution_count": 12,
   "id": "d7dc5aac",
   "metadata": {
    "ExecuteTime": {
     "end_time": "2021-05-01T14:34:00.885613Z",
     "start_time": "2021-05-01T14:34:00.881198Z"
    }
   },
   "outputs": [
    {
     "name": "stdout",
     "output_type": "stream",
     "text": [
      "Sum =  30\n"
     ]
    }
   ],
   "source": [
    "# function to calculate and return the sum parameters:\n",
    "# a, b - integral numbers in string format\n",
    "\n",
    "# return: sum of the numbers in integer format\n",
    "\n",
    "def calculateSum(a,b):\n",
    "    s = int(a) + int(b)\n",
    "    return s\n",
    "\n",
    "# take two integral numbers as strings\n",
    "num1 = \"10\"\n",
    "num2 = \"20\"\n",
    "\n",
    "# calculate sum\n",
    "sum = calculateSum (num1, num2)\n",
    "\n",
    "# print sum\n",
    "print (\"Sum = \", sum)"
   ]
  },
  {
   "cell_type": "code",
   "execution_count": 2,
   "id": "2f5addba",
   "metadata": {
    "ExecuteTime": {
     "end_time": "2021-05-03T07:32:54.784566Z",
     "start_time": "2021-05-03T07:32:54.781460Z"
    }
   },
   "outputs": [
    {
     "name": "stdout",
     "output_type": "stream",
     "text": [
      "12\n"
     ]
    }
   ],
   "source": [
    "def sum_of(a,b):\n",
    "    print(int(a) + int(b))\n",
    "sum_of(5,7)"
   ]
  },
  {
   "cell_type": "markdown",
   "id": "fd6d23b9",
   "metadata": {},
   "source": [
    "# Bitwise operators for any two variable all the bitwise operator that are there"
   ]
  },
  {
   "cell_type": "markdown",
   "id": "b4ff6719",
   "metadata": {},
   "source": [
    "# Shift operators"
   ]
  },
  {
   "cell_type": "code",
   "execution_count": 13,
   "id": "1688c495",
   "metadata": {
    "ExecuteTime": {
     "end_time": "2021-05-01T14:34:00.897324Z",
     "start_time": "2021-05-01T14:34:00.887182Z"
    }
   },
   "outputs": [
    {
     "name": "stdout",
     "output_type": "stream",
     "text": [
      "binary of value 12 is : 0b1100\n",
      "move to the left 0b11000000\n",
      "move to the right 0b0\n"
     ]
    }
   ],
   "source": [
    "a = 12\n",
    "print(\"binary of value 12 is :\", bin(a))\n",
    "\n",
    "# Shift 4 step to the left\n",
    "print(\"move to the left\", bin(a<<4))\n",
    "\n",
    "# Shift 4 step to the right\n",
    "print(\"move to the right\",bin(a>>4))"
   ]
  },
  {
   "cell_type": "markdown",
   "id": "0ab6387a",
   "metadata": {
    "ExecuteTime": {
     "end_time": "2021-04-20T11:53:54.947976Z",
     "start_time": "2021-04-20T11:53:54.944550Z"
    }
   },
   "source": [
    "## Bitwise AND"
   ]
  },
  {
   "cell_type": "code",
   "execution_count": 14,
   "id": "1c0aa9dd",
   "metadata": {
    "ExecuteTime": {
     "end_time": "2021-05-01T14:34:00.901930Z",
     "start_time": "2021-05-01T14:34:00.898702Z"
    }
   },
   "outputs": [
    {
     "name": "stdout",
     "output_type": "stream",
     "text": [
      "Bitwise addition with AND is :  4\n"
     ]
    }
   ],
   "source": [
    "a = 15\n",
    "b = 20\n",
    "print(\"Bitwise addition with AND is : \", a & b)"
   ]
  },
  {
   "cell_type": "markdown",
   "id": "cad64894",
   "metadata": {},
   "source": [
    "## Bitwise OR"
   ]
  },
  {
   "cell_type": "code",
   "execution_count": 15,
   "id": "79921405",
   "metadata": {
    "ExecuteTime": {
     "end_time": "2021-05-01T14:34:00.907091Z",
     "start_time": "2021-05-01T14:34:00.903431Z"
    }
   },
   "outputs": [
    {
     "name": "stdout",
     "output_type": "stream",
     "text": [
      "Bitwise add operation with OR is : 31\n"
     ]
    }
   ],
   "source": [
    "print(\"Bitwise add operation with OR is :\", a|b)"
   ]
  },
  {
   "cell_type": "markdown",
   "id": "29d426a6",
   "metadata": {},
   "source": [
    "## Bitwise XOR"
   ]
  },
  {
   "cell_type": "code",
   "execution_count": 16,
   "id": "b77c7d33",
   "metadata": {
    "ExecuteTime": {
     "end_time": "2021-05-01T14:34:00.913996Z",
     "start_time": "2021-05-01T14:34:00.909184Z"
    }
   },
   "outputs": [
    {
     "name": "stdout",
     "output_type": "stream",
     "text": [
      "Bitwise XOR operation :  34\n",
      "Not bitwise operation :  -61\n"
     ]
    }
   ],
   "source": [
    "\n",
    "a = 60\n",
    "b = 30\n",
    "print(\"Bitwise XOR operation : \", a^b)\n",
    "\n",
    "print(\"Not bitwise operation : \", ~a)"
   ]
  },
  {
   "cell_type": "markdown",
   "id": "47d5b048",
   "metadata": {},
   "source": [
    "# Check 'is' present in str1"
   ]
  },
  {
   "cell_type": "code",
   "execution_count": 17,
   "id": "eb5f9b94",
   "metadata": {
    "ExecuteTime": {
     "end_time": "2021-05-01T14:34:00.918729Z",
     "start_time": "2021-05-01T14:34:00.915207Z"
    }
   },
   "outputs": [
    {
     "name": "stdout",
     "output_type": "stream",
     "text": [
      "3\n"
     ]
    }
   ],
   "source": [
    "str1=\" this is a sample daTaa to test for the task\"\n",
    "\n",
    "# Check 'is' present in str1\n",
    "print(str1.find(\"is\"))"
   ]
  },
  {
   "cell_type": "markdown",
   "id": "86bd6e2b",
   "metadata": {},
   "source": [
    "# Check 'was' not present in str1"
   ]
  },
  {
   "cell_type": "code",
   "execution_count": 18,
   "id": "bb52b855",
   "metadata": {
    "ExecuteTime": {
     "end_time": "2021-05-01T14:34:00.923338Z",
     "start_time": "2021-05-01T14:34:00.919873Z"
    }
   },
   "outputs": [
    {
     "name": "stdout",
     "output_type": "stream",
     "text": [
      "-1\n"
     ]
    }
   ],
   "source": [
    "# Check 'was' not present in str1\n",
    "print(str1.find(\"was\"))"
   ]
  },
  {
   "cell_type": "markdown",
   "id": "27e050be",
   "metadata": {},
   "source": [
    "# Print str1 as uppercase"
   ]
  },
  {
   "cell_type": "code",
   "execution_count": 19,
   "id": "7a750609",
   "metadata": {
    "ExecuteTime": {
     "end_time": "2021-05-01T14:34:00.928407Z",
     "start_time": "2021-05-01T14:34:00.924566Z"
    }
   },
   "outputs": [
    {
     "name": "stdout",
     "output_type": "stream",
     "text": [
      " THIS IS A SAMPLE DATAA TO TEST FOR THE TASK\n"
     ]
    }
   ],
   "source": [
    "print(str1.upper())"
   ]
  },
  {
   "cell_type": "markdown",
   "id": "bb8f92e4",
   "metadata": {},
   "source": [
    "# Print str1 as a title"
   ]
  },
  {
   "cell_type": "code",
   "execution_count": 20,
   "id": "322266b0",
   "metadata": {
    "ExecuteTime": {
     "end_time": "2021-05-01T14:34:00.933410Z",
     "start_time": "2021-05-01T14:34:00.929884Z"
    }
   },
   "outputs": [
    {
     "name": "stdout",
     "output_type": "stream",
     "text": [
      " This Is A Sample Dataa To Test For The Task\n"
     ]
    }
   ],
   "source": [
    "title = str1.title()\n",
    "print(title)"
   ]
  },
  {
   "cell_type": "markdown",
   "id": "5efecbe0",
   "metadata": {},
   "source": [
    "# Get a new string from str1 ‘DatTaa’ as ‘Data’"
   ]
  },
  {
   "cell_type": "code",
   "execution_count": 21,
   "id": "435d2506",
   "metadata": {
    "ExecuteTime": {
     "end_time": "2021-05-01T14:34:00.939831Z",
     "start_time": "2021-05-01T14:34:00.935766Z"
    }
   },
   "outputs": [
    {
     "name": "stdout",
     "output_type": "stream",
     "text": [
      "Dataa \n"
     ]
    }
   ],
   "source": [
    "Data = title[18:24]\n",
    "print(Data)"
   ]
  },
  {
   "cell_type": "markdown",
   "id": "cc5692dd",
   "metadata": {},
   "source": [
    "# Print a new string with extra \"a\" removed form previous task"
   ]
  },
  {
   "cell_type": "code",
   "execution_count": 22,
   "id": "0786125b",
   "metadata": {
    "ExecuteTime": {
     "end_time": "2021-05-01T14:34:00.944390Z",
     "start_time": "2021-05-01T14:34:00.941127Z"
    }
   },
   "outputs": [
    {
     "name": "stdout",
     "output_type": "stream",
     "text": [
      "Data\n"
     ]
    }
   ],
   "source": [
    "Data1 = Data[0:4]\n",
    "print(Data1)"
   ]
  },
  {
   "cell_type": "markdown",
   "id": "43f192c5",
   "metadata": {},
   "source": [
    "# Display ‘sample’ word from ‘ this is another sample string ‘\n"
   ]
  },
  {
   "cell_type": "code",
   "execution_count": 23,
   "id": "771192d2",
   "metadata": {
    "ExecuteTime": {
     "end_time": "2021-05-01T14:34:00.953599Z",
     "start_time": "2021-05-01T14:34:00.950553Z"
    }
   },
   "outputs": [
    {
     "name": "stdout",
     "output_type": "stream",
     "text": [
      "sample\n"
     ]
    }
   ],
   "source": [
    "sample = \"this is another sample string\"\n",
    "\n",
    "sample_word = sample[16:22]\n",
    "print(sample_word)\n"
   ]
  },
  {
   "cell_type": "markdown",
   "id": "b592469e",
   "metadata": {},
   "source": [
    "#  Display date, month and year form 21-oct-2020"
   ]
  },
  {
   "cell_type": "code",
   "execution_count": 24,
   "id": "e65a06d9",
   "metadata": {
    "ExecuteTime": {
     "end_time": "2021-05-01T14:34:00.960524Z",
     "start_time": "2021-05-01T14:34:00.956385Z"
    },
    "slideshow": {
     "slide_type": "subslide"
    }
   },
   "outputs": [
    {
     "name": "stdout",
     "output_type": "stream",
     "text": [
      "Formated date : 21-Oct-2020\n"
     ]
    }
   ],
   "source": [
    "import datetime\n",
    "\n",
    "dt = datetime.datetime(2020, 10, 21)\n",
    "\n",
    "dt1 = dt.strftime(\"%d-%b-%Y\")\n",
    "print(\"Formated date :\", dt1)"
   ]
  },
  {
   "cell_type": "code",
   "execution_count": 3,
   "id": "23c0531b",
   "metadata": {
    "ExecuteTime": {
     "end_time": "2021-05-03T07:53:16.442975Z",
     "start_time": "2021-05-03T07:53:16.437534Z"
    }
   },
   "outputs": [
    {
     "name": "stdout",
     "output_type": "stream",
     "text": [
      "Date :  21  Month :  oct  Year :  2020\n",
      "['21', 'oct', '2020']\n"
     ]
    }
   ],
   "source": [
    "def extract_date_month_year(string):\n",
    "    '''Given a string it extracts the date, month and year\n",
    "     Input : string: the original string \n",
    "     Output: date, month and year\n",
    "    '''\n",
    "    date_vals = string.split(\"-\")\n",
    "    print(\"Date : \", date_vals[0], \" Month : \", date_vals[1], \" Year : \", date_vals[2])\n",
    "    return(date_vals)\n",
    "\n",
    "date_string = '21-oct-2020'\n",
    "print(extract_date_month_year(date_string))\n"
   ]
  },
  {
   "cell_type": "markdown",
   "id": "e1573686",
   "metadata": {},
   "source": [
    "# arr = “10,20,30,40,50,60,70”, get “50,60”"
   ]
  },
  {
   "cell_type": "code",
   "execution_count": 25,
   "id": "dd99f2b6",
   "metadata": {
    "ExecuteTime": {
     "end_time": "2021-05-01T14:34:01.682037Z",
     "start_time": "2021-05-01T14:34:00.961781Z"
    }
   },
   "outputs": [
    {
     "name": "stdout",
     "output_type": "stream",
     "text": [
      "Requirement already satisfied: numpy in ./miniconda3/lib/python3.8/site-packages (1.20.2)\r\n"
     ]
    },
    {
     "data": {
      "text/plain": [
       "array([50, 60])"
      ]
     },
     "execution_count": 25,
     "metadata": {},
     "output_type": "execute_result"
    }
   ],
   "source": [
    "!pip install numpy\n",
    "import numpy as np\n",
    "arr = np.array([10,20,30,40,50,60,70])\n",
    "arr[4:6]"
   ]
  },
  {
   "cell_type": "markdown",
   "id": "c6af28cd",
   "metadata": {},
   "source": [
    "# using negative index get \"50 ,60\""
   ]
  },
  {
   "cell_type": "code",
   "execution_count": 26,
   "id": "d7ea137c",
   "metadata": {
    "ExecuteTime": {
     "end_time": "2021-05-01T14:34:01.703391Z",
     "start_time": "2021-05-01T14:34:01.683450Z"
    }
   },
   "outputs": [
    {
     "data": {
      "text/plain": [
       "array([50, 60])"
      ]
     },
     "execution_count": 26,
     "metadata": {},
     "output_type": "execute_result"
    }
   ],
   "source": [
    "arr[-3:-1]"
   ]
  },
  {
   "cell_type": "markdown",
   "id": "867a0ef3",
   "metadata": {},
   "source": [
    "#  From credit_str get ‘8888’ credit_str = \"xxxx----xxxx-8888------xxxx\"\n"
   ]
  },
  {
   "cell_type": "code",
   "execution_count": 27,
   "id": "e64a2c63",
   "metadata": {
    "ExecuteTime": {
     "end_time": "2021-05-01T14:34:01.736948Z",
     "start_time": "2021-05-01T14:34:01.704582Z"
    }
   },
   "outputs": [
    {
     "data": {
      "text/plain": [
       "'8888'"
      ]
     },
     "execution_count": 27,
     "metadata": {},
     "output_type": "execute_result"
    }
   ],
   "source": [
    "credit_str = \"xxxx----xxxx-8888------xxxx\"\n",
    "credit_str[13:17]"
   ]
  },
  {
   "cell_type": "markdown",
   "id": "1472079a",
   "metadata": {},
   "source": [
    "# From credit_str get ‘0’ credit_str = \"1234-5678-9878-0434"
   ]
  },
  {
   "cell_type": "code",
   "execution_count": 28,
   "id": "4b22f830",
   "metadata": {
    "ExecuteTime": {
     "end_time": "2021-05-01T14:34:01.748132Z",
     "start_time": "2021-05-01T14:34:01.738064Z"
    }
   },
   "outputs": [
    {
     "data": {
      "text/plain": [
       "'0'"
      ]
     },
     "execution_count": 28,
     "metadata": {},
     "output_type": "execute_result"
    }
   ],
   "source": [
    "credit_str = \"1234-5678-9878-0434\"\n",
    "credit_str[-4]"
   ]
  },
  {
   "cell_type": "markdown",
   "id": "0cf777e6",
   "metadata": {},
   "source": [
    "# convert a integer into a string and print it in console.\n",
    "\n"
   ]
  },
  {
   "cell_type": "code",
   "execution_count": 29,
   "id": "5eac17b6",
   "metadata": {
    "ExecuteTime": {
     "end_time": "2021-05-01T14:34:01.753855Z",
     "start_time": "2021-05-01T14:34:01.749857Z"
    }
   },
   "outputs": [
    {
     "name": "stdout",
     "output_type": "stream",
     "text": [
      "123\n",
      "<class 'str'>\n"
     ]
    }
   ],
   "source": [
    "x = 123\n",
    "y = str(x)\n",
    "print(y)\n",
    "print(type(y))"
   ]
  },
  {
   "cell_type": "markdown",
   "id": "28428bd4",
   "metadata": {},
   "source": [
    "# Take two strings as input and concatenate them and then print it"
   ]
  },
  {
   "cell_type": "code",
   "execution_count": 30,
   "id": "02870093",
   "metadata": {
    "ExecuteTime": {
     "end_time": "2021-05-01T14:34:09.623459Z",
     "start_time": "2021-05-01T14:34:01.755631Z"
    }
   },
   "outputs": [
    {
     "name": "stdout",
     "output_type": "stream",
     "text": [
      "Enter the first string : bs\n",
      "Enter the 2nd string : bd\n",
      "Concatenate teh strins :  bs bd\n"
     ]
    }
   ],
   "source": [
    "str1 = input(\"Enter the first string : \")\n",
    "str2 = input(\"Enter the 2nd string : \")\n",
    "\n",
    "print(\"Concatenate teh strins : \", str1 +\" \" + str2)"
   ]
  },
  {
   "cell_type": "markdown",
   "id": "c580e9d1",
   "metadata": {},
   "source": [
    "# convert the given string into list given_string = \" Apples is differnt from Apple Inc\""
   ]
  },
  {
   "cell_type": "code",
   "execution_count": 31,
   "id": "adf4801c",
   "metadata": {
    "ExecuteTime": {
     "end_time": "2021-05-01T14:34:09.628846Z",
     "start_time": "2021-05-01T14:34:09.625207Z"
    }
   },
   "outputs": [
    {
     "data": {
      "text/plain": [
       "['Apples', 'is', 'differnt', 'from', 'Apple', 'Inc']"
      ]
     },
     "execution_count": 31,
     "metadata": {},
     "output_type": "execute_result"
    }
   ],
   "source": [
    "given_string = \" Apples is differnt from Apple Inc\"\n",
    "given_string.split()"
   ]
  },
  {
   "cell_type": "markdown",
   "id": "6190f825",
   "metadata": {},
   "source": [
    "# print type of a and get the 1 element a = {(1,2):1,(2,3):2}"
   ]
  },
  {
   "cell_type": "code",
   "execution_count": 32,
   "id": "416fecd9",
   "metadata": {
    "ExecuteTime": {
     "end_time": "2021-05-01T14:34:09.633178Z",
     "start_time": "2021-05-01T14:34:09.630263Z"
    }
   },
   "outputs": [
    {
     "name": "stdout",
     "output_type": "stream",
     "text": [
      "<class 'dict'>\n"
     ]
    }
   ],
   "source": [
    "a = {(1,2):1,(2,3):2}\n",
    "print(type(a))"
   ]
  },
  {
   "cell_type": "code",
   "execution_count": 33,
   "id": "27d56009",
   "metadata": {
    "ExecuteTime": {
     "end_time": "2021-05-01T14:34:09.638289Z",
     "start_time": "2021-05-01T14:34:09.634486Z"
    }
   },
   "outputs": [
    {
     "data": {
      "text/plain": [
       "1"
      ]
     },
     "execution_count": 33,
     "metadata": {},
     "output_type": "execute_result"
    }
   ],
   "source": [
    "# Get the 1 element from dictionary\n",
    "a[(1,2)]"
   ]
  },
  {
   "cell_type": "code",
   "execution_count": 34,
   "id": "6339bd76",
   "metadata": {
    "ExecuteTime": {
     "end_time": "2021-05-01T14:34:09.643245Z",
     "start_time": "2021-05-01T14:34:09.639525Z"
    }
   },
   "outputs": [
    {
     "data": {
      "text/plain": [
       "dict_values([1, 2])"
      ]
     },
     "execution_count": 34,
     "metadata": {},
     "output_type": "execute_result"
    }
   ],
   "source": [
    "a.values()"
   ]
  },
  {
   "cell_type": "code",
   "execution_count": 35,
   "id": "95db5c75",
   "metadata": {
    "ExecuteTime": {
     "end_time": "2021-05-01T14:34:09.647949Z",
     "start_time": "2021-05-01T14:34:09.644683Z"
    }
   },
   "outputs": [
    {
     "data": {
      "text/plain": [
       "dict_keys([(1, 2), (2, 3)])"
      ]
     },
     "execution_count": 35,
     "metadata": {},
     "output_type": "execute_result"
    }
   ],
   "source": [
    "a.keys()"
   ]
  },
  {
   "cell_type": "code",
   "execution_count": 36,
   "id": "b98a537f",
   "metadata": {
    "ExecuteTime": {
     "end_time": "2021-05-01T14:34:09.652596Z",
     "start_time": "2021-05-01T14:34:09.649539Z"
    }
   },
   "outputs": [],
   "source": [
    "a.get(1)"
   ]
  },
  {
   "cell_type": "markdown",
   "id": "3cf441a1",
   "metadata": {},
   "source": [
    "# write a program to get list as 4,3,2 from the list below a=1,2,3,4,5"
   ]
  },
  {
   "cell_type": "code",
   "execution_count": 12,
   "id": "7a01f47f",
   "metadata": {
    "ExecuteTime": {
     "end_time": "2021-05-03T08:02:46.451288Z",
     "start_time": "2021-05-03T08:02:46.447021Z"
    }
   },
   "outputs": [
    {
     "data": {
      "text/plain": [
       "[4, 3, 2]"
      ]
     },
     "execution_count": 12,
     "metadata": {},
     "output_type": "execute_result"
    }
   ],
   "source": [
    "a=[1,2,3,4,5]\n",
    "b = a[1:4]\n",
    "b[::-1]"
   ]
  },
  {
   "cell_type": "markdown",
   "id": "42294a93",
   "metadata": {},
   "source": [
    "# write a program to get odd number only using a slicing a=1,2,3,4,5,6,7,8,9"
   ]
  },
  {
   "cell_type": "code",
   "execution_count": 41,
   "id": "4346874a",
   "metadata": {
    "ExecuteTime": {
     "end_time": "2021-05-01T14:34:09.677756Z",
     "start_time": "2021-05-01T14:34:09.673780Z"
    }
   },
   "outputs": [
    {
     "data": {
      "text/plain": [
       "[1, 3, 5, 7, 9]"
      ]
     },
     "execution_count": 41,
     "metadata": {},
     "output_type": "execute_result"
    }
   ],
   "source": [
    "a=[1,2,3,4,5,6,7,8,9]\n",
    "\n",
    "# Show Odd numbers only\n",
    "a[:10:2]"
   ]
  },
  {
   "cell_type": "markdown",
   "id": "2c12187e",
   "metadata": {},
   "source": [
    "# create a tuple with (1,2) 5 times"
   ]
  },
  {
   "cell_type": "code",
   "execution_count": 14,
   "id": "f3f82397",
   "metadata": {
    "ExecuteTime": {
     "end_time": "2021-05-03T08:06:11.738592Z",
     "start_time": "2021-05-03T08:06:11.733053Z"
    }
   },
   "outputs": [
    {
     "name": "stdout",
     "output_type": "stream",
     "text": [
      "((1, 2), (1, 2), (1, 2), (1, 2), (1, 2))\n"
     ]
    }
   ],
   "source": [
    "tup = (1,2)\n",
    "print((tup,)*5)"
   ]
  },
  {
   "cell_type": "markdown",
   "id": "fc35ba89",
   "metadata": {},
   "source": [
    "# from given list create separate lists of strings and numbers.use list comprehension "
   ]
  },
  {
   "cell_type": "code",
   "execution_count": 43,
   "id": "97b35ca2",
   "metadata": {
    "ExecuteTime": {
     "end_time": "2021-05-01T14:34:09.689743Z",
     "start_time": "2021-05-01T14:34:09.685330Z"
    }
   },
   "outputs": [
    {
     "data": {
      "text/plain": [
       "['Camera',\n",
       " 'Camera Lens',\n",
       " 'Laptop',\n",
       " 'Laptop Case',\n",
       " 'Mobile',\n",
       " 'Speakers',\n",
       " 'Television']"
      ]
     },
     "execution_count": 43,
     "metadata": {},
     "output_type": "execute_result"
    }
   ],
   "source": [
    "gadgets = [\"Mobile\", \"Laptop\", 100, \"Camera\", 310.28, \"Speakers\", 27.00, \"Television\", 1000, \"Laptop Case\", \"Camera Lens\"]\n",
    "\n",
    "# Show the strings in separate list\n",
    "strings = sorted([x for x in gadgets if type(x) is str])\n",
    "strings"
   ]
  },
  {
   "cell_type": "code",
   "execution_count": 44,
   "id": "c014858e",
   "metadata": {
    "ExecuteTime": {
     "end_time": "2021-05-01T14:34:09.695009Z",
     "start_time": "2021-05-01T14:34:09.691385Z"
    }
   },
   "outputs": [
    {
     "data": {
      "text/plain": [
       "[27.0, 100, 310.28, 1000]"
      ]
     },
     "execution_count": 44,
     "metadata": {},
     "output_type": "execute_result"
    }
   ],
   "source": [
    "# Show the numbers in a new list\n",
    "numbers = sorted([x for x in gadgets if type(x) is not str])\n",
    "numbers"
   ]
  },
  {
   "cell_type": "markdown",
   "id": "200f41d9",
   "metadata": {},
   "source": [
    "# An array is given from the array find the sum of diagonal using list comprehension."
   ]
  },
  {
   "cell_type": "code",
   "execution_count": 13,
   "id": "246eb028",
   "metadata": {
    "ExecuteTime": {
     "end_time": "2021-05-03T08:03:10.223181Z",
     "start_time": "2021-05-03T08:03:10.217707Z"
    }
   },
   "outputs": [
    {
     "name": "stdout",
     "output_type": "stream",
     "text": [
      "first diagonal sum = 15\n",
      "second diagonal sum = 15\n"
     ]
    }
   ],
   "source": [
    "a_2d = [[1,2,3],\n",
    "        [4,5,6],\n",
    "        [7,8,9]]\n",
    "first_diagonal_sum = sum([a_2d[i][i] for i in range(3)])\n",
    "second_diagonal_sum = sum([a_2d[i][3-i-1] for i in range(3)])\n",
    "print(f\"first diagonal sum = {first_diagonal_sum}\")\n",
    "print(f\"second diagonal sum = {second_diagonal_sum}\")"
   ]
  },
  {
   "cell_type": "markdown",
   "id": "86e0de29",
   "metadata": {},
   "source": [
    "# convert number into tuple of words using comprehension "
   ]
  },
  {
   "cell_type": "code",
   "execution_count": 48,
   "id": "b6b4c5b5",
   "metadata": {
    "ExecuteTime": {
     "end_time": "2021-05-01T14:38:14.447365Z",
     "start_time": "2021-05-01T14:38:14.443485Z"
    }
   },
   "outputs": [
    {
     "name": "stdout",
     "output_type": "stream",
     "text": [
      "()\n"
     ]
    }
   ],
   "source": [
    "ref_num= [(0,'zero'),(1,'one'),(2,'two'),(3,'three'),(4,'four'), (5,'five'),(6,'six'),(7,'seven'),(8,'eight'),(9,'nine')] \n",
    "num = str(8976543201)\n",
    "num_list= [x for x in num]\n",
    "tuple_word_list_tuple = tuple([j[1] for i in range(len(num_list)) for j in ref_num if num_list[i] == j[0]])\n",
    "print(tuple_word_list_tuple)"
   ]
  },
  {
   "cell_type": "markdown",
   "id": "ba3891ce",
   "metadata": {},
   "source": [
    "# print the numbers which are divisible by 2 but are not a multiple of 5 \n",
    "\n"
   ]
  },
  {
   "cell_type": "code",
   "execution_count": 49,
   "id": "d5db1850",
   "metadata": {
    "ExecuteTime": {
     "end_time": "2021-05-01T14:38:23.550747Z",
     "start_time": "2021-05-01T14:38:23.546489Z"
    }
   },
   "outputs": [
    {
     "data": {
      "text/plain": [
       "[2, 4, 6, 8, 12, 14, 16, 18, 22, 24]"
      ]
     },
     "execution_count": 49,
     "metadata": {},
     "output_type": "execute_result"
    }
   ],
   "source": [
    "numbers = range(1, 25)\n",
    "nums = [i for i in numbers if i%2==0 and i%5!=0]\n",
    "nums"
   ]
  },
  {
   "cell_type": "markdown",
   "id": "bc16793d",
   "metadata": {},
   "source": [
    "# Print the sum of tuple : use comprehension "
   ]
  },
  {
   "cell_type": "code",
   "execution_count": 17,
   "id": "794c8fd5",
   "metadata": {
    "ExecuteTime": {
     "end_time": "2021-05-03T08:11:14.771609Z",
     "start_time": "2021-05-03T08:11:14.767671Z"
    }
   },
   "outputs": [
    {
     "data": {
      "text/plain": [
       "(1, 3, 5)"
      ]
     },
     "execution_count": 17,
     "metadata": {},
     "output_type": "execute_result"
    }
   ],
   "source": [
    "init_tuple = [(0, 1), (1, 2), (2, 3)]\n",
    "\n",
    "# Show the output as tuple then convert to tuple after comprehension\n",
    "tuple_sum = tuple([sum(x) for x in init_tuple])\n",
    "tuple_sum"
   ]
  },
  {
   "cell_type": "code",
   "execution_count": 18,
   "id": "f65d6923",
   "metadata": {
    "ExecuteTime": {
     "end_time": "2021-05-03T08:11:18.653889Z",
     "start_time": "2021-05-03T08:11:18.648666Z"
    }
   },
   "outputs": [
    {
     "data": {
      "text/plain": [
       "tuple"
      ]
     },
     "execution_count": 18,
     "metadata": {},
     "output_type": "execute_result"
    }
   ],
   "source": [
    "type(tuple_sum)"
   ]
  },
  {
   "cell_type": "markdown",
   "id": "1546805d",
   "metadata": {},
   "source": [
    "# delete the last coumn from the given 4*4 matrix "
   ]
  },
  {
   "cell_type": "code",
   "execution_count": 19,
   "id": "34b694a6",
   "metadata": {
    "ExecuteTime": {
     "end_time": "2021-05-03T08:11:28.191853Z",
     "start_time": "2021-05-03T08:11:28.143882Z"
    }
   },
   "outputs": [
    {
     "data": {
      "text/plain": [
       "array([[ 1,  2,  3],\n",
       "       [ 4,  5,  6],\n",
       "       [ 8,  9, 10],\n",
       "       [12, 13, 14]])"
      ]
     },
     "execution_count": 19,
     "metadata": {},
     "output_type": "execute_result"
    }
   ],
   "source": [
    "arr = [[1, 2, 3, 4], \n",
    "       [4, 5, 6, 7], \n",
    "       [8, 9, 10, 11], \n",
    "       [12, 13, 14, 15]]\n",
    "b = np.delete(arr, -1, axis = 1)\n",
    "b"
   ]
  },
  {
   "cell_type": "markdown",
   "id": "f005049e",
   "metadata": {},
   "source": [
    "# Get the list of value of dict in sorted way "
   ]
  },
  {
   "cell_type": "code",
   "execution_count": 20,
   "id": "18a73a40",
   "metadata": {
    "ExecuteTime": {
     "end_time": "2021-05-03T08:13:12.103673Z",
     "start_time": "2021-05-03T08:13:12.099720Z"
    }
   },
   "outputs": [
    {
     "data": {
      "text/plain": [
       "[('a', 96), ('b', 98), ('c', 97)]"
      ]
     },
     "execution_count": 20,
     "metadata": {},
     "output_type": "execute_result"
    }
   ],
   "source": [
    "dict = {'c': 97, 'a': 96, 'b': 98}\n",
    "dict1 = sorted(dict.items())\n",
    "dict1"
   ]
  },
  {
   "cell_type": "code",
   "execution_count": 21,
   "id": "de4f05a0",
   "metadata": {
    "ExecuteTime": {
     "end_time": "2021-05-03T08:13:12.646531Z",
     "start_time": "2021-05-03T08:13:12.642227Z"
    }
   },
   "outputs": [
    {
     "data": {
      "text/plain": [
       "[('a', 96), ('c', 97), ('b', 98)]"
      ]
     },
     "execution_count": 21,
     "metadata": {},
     "output_type": "execute_result"
    }
   ],
   "source": [
    "# Sorted by values\n",
    "dict2 = sorted(dict.items(), key = lambda x:x[1])\n",
    "dict2"
   ]
  },
  {
   "cell_type": "code",
   "execution_count": 23,
   "id": "1cc5e211",
   "metadata": {
    "ExecuteTime": {
     "end_time": "2021-05-03T08:13:13.744023Z",
     "start_time": "2021-05-03T08:13:13.740910Z"
    }
   },
   "outputs": [
    {
     "name": "stdout",
     "output_type": "stream",
     "text": [
      "[('a', 96), ('b', 98), ('c', 97)]\n"
     ]
    }
   ],
   "source": [
    "# Sorted by keys\n",
    "dict4 = sorted(dict.items())\n",
    "print(dict4)"
   ]
  },
  {
   "cell_type": "markdown",
   "id": "a68063c8",
   "metadata": {},
   "source": [
    "# Creating a Dictionary with Integer Keys and print it"
   ]
  },
  {
   "cell_type": "code",
   "execution_count": 24,
   "id": "39bb8e02",
   "metadata": {
    "ExecuteTime": {
     "end_time": "2021-05-03T08:13:21.939761Z",
     "start_time": "2021-05-03T08:13:21.933195Z"
    }
   },
   "outputs": [
    {
     "data": {
      "text/plain": [
       "{1: 'ab', 2: 'bc', 3: 'de'}"
      ]
     },
     "execution_count": 24,
     "metadata": {},
     "output_type": "execute_result"
    }
   ],
   "source": [
    "dict_int = {1:\"ab\", 2:\"bc\", 3:\"de\"}\n",
    "dict_int"
   ]
  },
  {
   "cell_type": "markdown",
   "id": "197f7afb",
   "metadata": {},
   "source": [
    "# Creating a Dictionary with Mixed keys"
   ]
  },
  {
   "cell_type": "code",
   "execution_count": 25,
   "id": "75ea6fe5",
   "metadata": {
    "ExecuteTime": {
     "end_time": "2021-05-03T08:13:31.680495Z",
     "start_time": "2021-05-03T08:13:31.674417Z"
    }
   },
   "outputs": [
    {
     "data": {
      "text/plain": [
       "{1: 'ab', 'Name': 'bc', 3.0: 'de'}"
      ]
     },
     "execution_count": 25,
     "metadata": {},
     "output_type": "execute_result"
    }
   ],
   "source": [
    "dict_mix = {1:\"ab\", \"Name\":\"bc\", 3.0:\"de\"}\n",
    "dict_mix"
   ]
  },
  {
   "cell_type": "markdown",
   "id": "2ec57cbb",
   "metadata": {},
   "source": [
    "# Create an empty dictionary"
   ]
  },
  {
   "cell_type": "code",
   "execution_count": 26,
   "id": "d9e9348f",
   "metadata": {
    "ExecuteTime": {
     "end_time": "2021-05-03T08:13:33.661362Z",
     "start_time": "2021-05-03T08:13:33.655691Z"
    }
   },
   "outputs": [
    {
     "data": {
      "text/plain": [
       "{}"
      ]
     },
     "execution_count": 26,
     "metadata": {},
     "output_type": "execute_result"
    }
   ],
   "source": [
    "# Create an empty dictionary\n",
    "empty_dic = {}\n",
    "empty_dic"
   ]
  },
  {
   "cell_type": "markdown",
   "id": "dca63753",
   "metadata": {},
   "source": [
    "# Creating a Dictionary with dict() method"
   ]
  },
  {
   "cell_type": "code",
   "execution_count": null,
   "id": "0edcc4a4",
   "metadata": {
    "ExecuteTime": {
     "end_time": "2021-05-01T14:34:09.756421Z",
     "start_time": "2021-05-01T14:33:38.004Z"
    }
   },
   "outputs": [],
   "source": [
    "emptyDict = dict()\n",
    "print(emptyDict)"
   ]
  },
  {
   "cell_type": "markdown",
   "id": "6322608d",
   "metadata": {},
   "source": [
    "# Creating a Dictionary with each item as a Pair"
   ]
  },
  {
   "cell_type": "code",
   "execution_count": null,
   "id": "75036695",
   "metadata": {
    "ExecuteTime": {
     "end_time": "2021-05-01T14:34:09.757041Z",
     "start_time": "2021-05-01T14:33:38.008Z"
    }
   },
   "outputs": [],
   "source": [
    "mydict = {\"apple\":12, \"banana\": 24, \"orange\": 20, \"paron\": \"Green\"}\n",
    "mydict"
   ]
  },
  {
   "cell_type": "markdown",
   "id": "70fb6778",
   "metadata": {},
   "source": [
    "# Creating a Nested Dictionary as shown in the below image {1: 'python', 2: 'For', 3: {'A': 'Welcome', 'B': 'To', 'C': 'Python', 'D': 'class'}}\n",
    "\n"
   ]
  },
  {
   "cell_type": "code",
   "execution_count": null,
   "id": "1de604c7",
   "metadata": {
    "ExecuteTime": {
     "end_time": "2021-05-01T14:34:09.757634Z",
     "start_time": "2021-05-01T14:33:38.011Z"
    }
   },
   "outputs": [],
   "source": [
    "nested_dic = {1:\"python\",\n",
    "             2:\"For\",\n",
    "             3: {\"A\":\"Welcome\", \"B\":\"To\", \"C\":\"Python\", \"D\":\"Class\"}}\n",
    "nested_dic"
   ]
  },
  {
   "cell_type": "markdown",
   "id": "8edc3019",
   "metadata": {},
   "source": [
    "# Add a Nested Key value to nested dictionary Dictionary"
   ]
  },
  {
   "cell_type": "code",
   "execution_count": null,
   "id": "967bedce",
   "metadata": {
    "ExecuteTime": {
     "end_time": "2021-05-01T14:34:09.758239Z",
     "start_time": "2021-05-01T14:33:38.014Z"
    }
   },
   "outputs": [],
   "source": [
    "nested_dic[\"E\"] = \"Integrify\"\n",
    "nested_dic"
   ]
  },
  {
   "cell_type": "code",
   "execution_count": null,
   "id": "c1184ab3",
   "metadata": {
    "ExecuteTime": {
     "end_time": "2021-05-01T14:34:09.758804Z",
     "start_time": "2021-05-01T14:33:38.017Z"
    }
   },
   "outputs": [],
   "source": [
    "nested_dic[3][\"E\"] = \"Integrify\"\n",
    "nested_dic"
   ]
  },
  {
   "cell_type": "markdown",
   "id": "3bbbf782",
   "metadata": {},
   "source": [
    "# create a dictionary with id:num and value: square for range (0,6) using dict comprehension"
   ]
  },
  {
   "cell_type": "code",
   "execution_count": null,
   "id": "b4b1cae0",
   "metadata": {
    "ExecuteTime": {
     "end_time": "2021-05-01T14:34:09.759437Z",
     "start_time": "2021-05-01T14:33:38.020Z"
    }
   },
   "outputs": [],
   "source": [
    "new_dict_comp = {num:num**2 for num in range(0,6)}\n",
    "\n",
    "print(new_dict_comp)"
   ]
  },
  {
   "cell_type": "markdown",
   "id": "6f4419b2",
   "metadata": {},
   "source": [
    "# create a dictionary using dict comprehension to get the odd square only"
   ]
  },
  {
   "cell_type": "code",
   "execution_count": null,
   "id": "5b5dccf9",
   "metadata": {
    "ExecuteTime": {
     "end_time": "2021-05-01T14:34:09.760011Z",
     "start_time": "2021-05-01T14:33:38.023Z"
    }
   },
   "outputs": [],
   "source": [
    "odd_dict_comp = {num:num**2 for num in range(0,6) if num%2!=0}\n",
    "\n",
    "print(odd_dict_comp)"
   ]
  },
  {
   "cell_type": "markdown",
   "id": "bf23d0a8",
   "metadata": {},
   "source": [
    "# from a given dict {1: 'a', 2: 'b', 3: 'c'} change the key into item and viceversa"
   ]
  },
  {
   "cell_type": "code",
   "execution_count": 54,
   "id": "d5fdfd7a",
   "metadata": {
    "ExecuteTime": {
     "end_time": "2021-05-01T14:41:06.589320Z",
     "start_time": "2021-05-01T14:41:06.586148Z"
    }
   },
   "outputs": [
    {
     "name": "stdout",
     "output_type": "stream",
     "text": [
      "{'first': 1, '2nd': 2, '3rd': 3}\n"
     ]
    }
   ],
   "source": [
    "# Change the value of a dictionary\n",
    "\n",
    "dict1[\"first\"] = 1\n",
    "dict1[\"2nd\"] = 2\n",
    "dict1[\"3rd\"] = 3\n",
    "print(dict1)"
   ]
  },
  {
   "cell_type": "code",
   "execution_count": 55,
   "id": "6fc0aaac",
   "metadata": {
    "ExecuteTime": {
     "end_time": "2021-05-01T14:41:16.263833Z",
     "start_time": "2021-05-01T14:41:16.260131Z"
    }
   },
   "outputs": [
    {
     "name": "stdout",
     "output_type": "stream",
     "text": [
      "{'a': 1, 'b': 2, 'c': 3}\n"
     ]
    }
   ],
   "source": [
    "dict_given = {1: 'a', 2: 'b', 3: 'c'}\n",
    "dict_given = {dict_given[j]:j for i,j in enumerate(dict_given)}\n",
    "print(dict_given)"
   ]
  },
  {
   "cell_type": "markdown",
   "id": "55e96b88",
   "metadata": {},
   "source": [
    "# get a hello from the given dict \n",
    "\n",
    "d = {'k1':[{'nest_key':['this is deep','hello']}]}\n",
    "\n",
    "d1 = {'k1':[1,2,{'k2':['this is tricky',{'tough':[1,2,'hello']}]}]}"
   ]
  },
  {
   "cell_type": "code",
   "execution_count": null,
   "id": "812c8d85",
   "metadata": {
    "ExecuteTime": {
     "end_time": "2021-05-01T14:34:09.761987Z",
     "start_time": "2021-05-01T14:33:38.032Z"
    }
   },
   "outputs": [],
   "source": [
    "d = {'k1':[{'nest_key':['this is deep','hello']}]}\n",
    "d[\"k1\"][0][\"nest_key\"][1]"
   ]
  },
  {
   "cell_type": "code",
   "execution_count": null,
   "id": "84461847",
   "metadata": {
    "ExecuteTime": {
     "end_time": "2021-05-01T14:34:09.762639Z",
     "start_time": "2021-05-01T14:33:38.035Z"
    }
   },
   "outputs": [],
   "source": [
    "d1 = {'k1':[1,2,{'k2':['this is tricky',{'tough':[1,2,'hello']}]}]}\n",
    "d1[\"k1\"][2][\"k2\"][1][\"tough\"][2]"
   ]
  },
  {
   "cell_type": "markdown",
   "id": "c638c851",
   "metadata": {},
   "source": [
    "# Divisibility Check of user given 2 input of numbers"
   ]
  },
  {
   "cell_type": "code",
   "execution_count": null,
   "id": "73d7c64c",
   "metadata": {
    "ExecuteTime": {
     "end_time": "2021-05-01T14:34:09.763339Z",
     "start_time": "2021-05-01T14:33:38.039Z"
    }
   },
   "outputs": [],
   "source": [
    "num1 = int(input(\"Enter the first number : \"))\n",
    "num2 = int(input(\"Enter the 2nd number : \"))\n",
    "if num1%num2==0:\n",
    "    print(num1, \" is divisable by\", num2)\n",
    "elif num2%num1==0:\n",
    "    print(num2,\"is divisible by\", num1)\n",
    "else:\n",
    "    print(\"Not divisible\")"
   ]
  },
  {
   "cell_type": "code",
   "execution_count": 56,
   "id": "3edabdc4",
   "metadata": {
    "ExecuteTime": {
     "end_time": "2021-05-01T14:42:14.982333Z",
     "start_time": "2021-05-01T14:42:06.104910Z"
    }
   },
   "outputs": [
    {
     "name": "stdout",
     "output_type": "stream",
     "text": [
      "Enter the diviser: 25\n",
      "Enter the divident: 5\n",
      "False\n",
      "Enter the diviser: 5\n",
      "Enter the divident: 5\n",
      "True\n"
     ]
    }
   ],
   "source": [
    "def divisibility_checker():\n",
    "    diviser = int(input('Enter the diviser: '))\n",
    "    divident = int(input('Enter the divident: '))\n",
    "    if (divident % diviser == 0):\n",
    "        return True\n",
    "    else:\n",
    "        return False\n",
    "print(divisibility_checker())\n",
    "print(divisibility_checker())"
   ]
  },
  {
   "cell_type": "markdown",
   "id": "3cb3a863",
   "metadata": {},
   "source": [
    "# Check if number is even or odd"
   ]
  },
  {
   "cell_type": "code",
   "execution_count": null,
   "id": "daffb8d3",
   "metadata": {
    "ExecuteTime": {
     "end_time": "2021-05-01T14:34:09.763946Z",
     "start_time": "2021-05-01T14:33:38.042Z"
    }
   },
   "outputs": [],
   "source": [
    "odd_even= lambda x: \"even\" if x%2==0 else \"Odd\"\n",
    "print(odd_even(5))\n"
   ]
  },
  {
   "cell_type": "markdown",
   "id": "c4a42134",
   "metadata": {},
   "source": [
    "# Check whether Entered character is Vowel or not"
   ]
  },
  {
   "cell_type": "code",
   "execution_count": null,
   "id": "29f9315c",
   "metadata": {
    "ExecuteTime": {
     "end_time": "2021-05-01T14:34:09.764561Z",
     "start_time": "2021-05-01T14:33:38.045Z"
    }
   },
   "outputs": [],
   "source": [
    "char = input(\"Please enter a character : \")\n",
    "vowel = \"aeiou\"\n",
    "if char in vowel:\n",
    "    print(\"vowel\")\n",
    "else:\n",
    "    print(\"Not vowel\")"
   ]
  },
  {
   "cell_type": "markdown",
   "id": "d3c17e6b",
   "metadata": {},
   "source": [
    "# calculate Sum of n positive Integer example: Sum of n positive Integer till 2 is 3\n"
   ]
  },
  {
   "cell_type": "code",
   "execution_count": 58,
   "id": "def3a8d5",
   "metadata": {
    "ExecuteTime": {
     "end_time": "2021-05-01T14:43:53.925167Z",
     "start_time": "2021-05-01T14:43:53.921733Z"
    }
   },
   "outputs": [
    {
     "name": "stdout",
     "output_type": "stream",
     "text": [
      "The Sum of 20 positive integers from 1 to 20 = 190 \n"
     ]
    }
   ],
   "source": [
    "# find Sum of positive integer numbers\n",
    "total = 0\n",
    "\n",
    "for value in range(1, 20):\n",
    "    total = total + value\n",
    "\n",
    "print(\"The Sum of 20 positive integers from 1 to 20 = {} \".format(total))"
   ]
  },
  {
   "cell_type": "code",
   "execution_count": 27,
   "id": "39b60c0f",
   "metadata": {
    "ExecuteTime": {
     "end_time": "2021-05-03T08:21:36.797116Z",
     "start_time": "2021-05-03T08:21:34.814871Z"
    }
   },
   "outputs": [
    {
     "name": "stdout",
     "output_type": "stream",
     "text": [
      "Enter the n: 5\n",
      "Sum of the n numbers is: 15\n"
     ]
    }
   ],
   "source": [
    "def calculating_sum_of_n_numbers():\n",
    "    n = int(input('Enter the n: '))\n",
    "    sum_of_n = sum([(x) for x in range (n+1)])\n",
    "    print(f\"Sum of the n numbers is: {sum_of_n}\")\n",
    "calculating_sum_of_n_numbers()"
   ]
  },
  {
   "cell_type": "markdown",
   "id": "ccefc497",
   "metadata": {},
   "source": [
    "# calculate the Digit Sum of a number (eg: 123 print 1+2+3=6)"
   ]
  },
  {
   "cell_type": "code",
   "execution_count": 28,
   "id": "63cc3443",
   "metadata": {
    "ExecuteTime": {
     "end_time": "2021-05-03T08:21:43.633884Z",
     "start_time": "2021-05-03T08:21:43.628053Z"
    }
   },
   "outputs": [
    {
     "name": "stdout",
     "output_type": "stream",
     "text": [
      "6\n",
      "15\n"
     ]
    }
   ],
   "source": [
    "def sum_digits(n):\n",
    "    sum = 0\n",
    "    while n:\n",
    "        last_digit = n % 10\n",
    "        sum = sum + last_digit\n",
    "        n = n// 10\n",
    "    return sum\n",
    "print(sum_digits(123))\n",
    "print(sum_digits(12345))"
   ]
  },
  {
   "cell_type": "markdown",
   "id": "61f87398",
   "metadata": {},
   "source": [
    "# Count Numbers, Alphabets, and Special Character from user input string"
   ]
  },
  {
   "cell_type": "code",
   "execution_count": 29,
   "id": "0ae2f001",
   "metadata": {
    "ExecuteTime": {
     "end_time": "2021-05-03T08:21:58.033517Z",
     "start_time": "2021-05-03T08:21:47.593718Z"
    }
   },
   "outputs": [
    {
     "name": "stdout",
     "output_type": "stream",
     "text": [
      " Write something that you like to do : i am mamun\n",
      "\n",
      "Total Number of Alphabets in this String :   8\n",
      "Total Number of Digits in this String :   0\n",
      "Total Number of Special Characters in this String :   2\n"
     ]
    }
   ],
   "source": [
    "string = input(\" Write something that you like to do : \")\n",
    "\n",
    "alphabets = digits = special = 0\n",
    "\n",
    "for i in range(len(string)):\n",
    "    if(string[i].isalpha()):\n",
    "        alphabets = alphabets + 1\n",
    "    elif(string[i].isdigit()):\n",
    "        digits = digits + 1\n",
    "    else:\n",
    "        special = special + 1\n",
    "        \n",
    "print(\"\\nTotal Number of Alphabets in this String :  \", alphabets)\n",
    "print(\"Total Number of Digits in this String :  \", digits)\n",
    "print(\"Total Number of Special Characters in this String :  \", special)\n",
    "    \n",
    "    "
   ]
  },
  {
   "cell_type": "markdown",
   "id": "7f16d012",
   "metadata": {},
   "source": [
    "# Construct the given pattern\n",
    "```\n",
    "* \n",
    "* * \n",
    "* * * \n",
    "* * * * \n",
    "* * * * * \n",
    "* * * * \n",
    "* * * \n",
    "* * \n",
    "* \n",
    "````"
   ]
  },
  {
   "cell_type": "code",
   "execution_count": null,
   "id": "0cdd925e",
   "metadata": {
    "ExecuteTime": {
     "end_time": "2021-05-01T14:34:09.767085Z",
     "start_time": "2021-05-01T14:33:38.061Z"
    }
   },
   "outputs": [],
   "source": [
    "print(\"*\")\n",
    "print(\"* *\")\n",
    "print(\"* * *\")\n",
    "print(\"* * * *\")\n",
    "print(\"* * * * *\")\n",
    "print(\"* * * *\")\n",
    "print(\"* * *\")\n",
    "print(\"* *\")\n",
    "print(\"*\")"
   ]
  },
  {
   "cell_type": "code",
   "execution_count": 64,
   "id": "3f3692e4",
   "metadata": {
    "ExecuteTime": {
     "end_time": "2021-05-01T14:45:44.721802Z",
     "start_time": "2021-05-01T14:45:44.715584Z"
    }
   },
   "outputs": [
    {
     "name": "stdout",
     "output_type": "stream",
     "text": [
      "\n",
      "* \n",
      "* * \n",
      "* * * \n",
      "* * * * \n",
      "* * * * * \n",
      "* * * * * * \n",
      "* * * * * \n",
      "* * * * \n",
      "* * * \n",
      "* * \n",
      "* \n"
     ]
    },
    {
     "data": {
      "text/plain": [
       "[None, None, None, None, None, None]"
      ]
     },
     "execution_count": 64,
     "metadata": {},
     "output_type": "execute_result"
    }
   ],
   "source": [
    "[print('* '*x) for x in range(6)]\n",
    "[print('* ' * (6-x)) for x in range(6)]"
   ]
  },
  {
   "cell_type": "markdown",
   "id": "d9831199",
   "metadata": {},
   "source": [
    "# Count number of characters in a string\n",
    "eg : {'h': 1, 'e': 1, 'l': 2, 'o': 1}"
   ]
  },
  {
   "cell_type": "code",
   "execution_count": 30,
   "id": "432024ae",
   "metadata": {
    "ExecuteTime": {
     "end_time": "2021-05-03T08:23:46.323818Z",
     "start_time": "2021-05-03T08:23:46.320543Z"
    }
   },
   "outputs": [
    {
     "name": "stdout",
     "output_type": "stream",
     "text": [
      "{'I': 2, ' ': 9, 'a': 7, 'm': 2, 'l': 2, 'e': 6, 'r': 3, 'n': 8, 'i': 6, 'g': 3, 'c': 3, 'h': 2, 'd': 2, 't': 3, 's': 1, 'w': 1, 'f': 1, 'y': 1}\n"
     ]
    }
   ],
   "source": [
    "sentence = \"I am learning machine learning and data science with Integrify\"\n",
    "\n",
    "count={}\n",
    "for i in sentence:\n",
    "    if i in count:\n",
    "        count[i]+=1\n",
    "    else:\n",
    "        count[i]=1\n",
    "print(count)"
   ]
  },
  {
   "cell_type": "markdown",
   "id": "ffa06851",
   "metadata": {},
   "source": [
    "# write a program to compute 5/0 using try except\n"
   ]
  },
  {
   "cell_type": "code",
   "execution_count": 31,
   "id": "a0bce8c6",
   "metadata": {
    "ExecuteTime": {
     "end_time": "2021-05-03T08:23:58.067058Z",
     "start_time": "2021-05-03T08:23:58.063908Z"
    }
   },
   "outputs": [
    {
     "name": "stdout",
     "output_type": "stream",
     "text": [
      " number is not divisible by zero\n"
     ]
    }
   ],
   "source": [
    "\n",
    "try:\n",
    "    div = 5/0\n",
    "    print(div)\n",
    "except:\n",
    "    print(\" number is not divisible by zero\")\n"
   ]
  },
  {
   "cell_type": "markdown",
   "id": "c0fb7916",
   "metadata": {},
   "source": [
    "# Handle the exception thrown by the code below by using try and except blocks.\n",
    "\n",
    "li=[\"hello\",\"class\"]\n",
    "\n",
    "for i in li:\n",
    "    \n",
    "    print (i**2)"
   ]
  },
  {
   "cell_type": "code",
   "execution_count": 32,
   "id": "05b67856",
   "metadata": {
    "ExecuteTime": {
     "end_time": "2021-05-03T08:23:59.489745Z",
     "start_time": "2021-05-03T08:23:59.485982Z"
    }
   },
   "outputs": [
    {
     "name": "stdout",
     "output_type": "stream",
     "text": [
      "'hello class' is string  which cannot be powered\n"
     ]
    }
   ],
   "source": [
    "try:\n",
    "    li=[\"hello\",\"class\"]\n",
    "    \n",
    "    for i in li:\n",
    "        print (i**2)\n",
    "except:\n",
    "    print(\"'hello class' is string  which cannot be powered\")"
   ]
  },
  {
   "cell_type": "markdown",
   "id": "54ea4c30",
   "metadata": {},
   "source": [
    "# Write a function that asks for an integer and prints the square of it. Use a while loop with a try,except, else block to account for incorrect inputs.\n",
    "\n",
    " example: Input an integer: null\n",
    "An error occurred! Please try again!\n",
    "Input an integer: 2\n",
    "Thank you, you number squared is: 4"
   ]
  },
  {
   "cell_type": "code",
   "execution_count": 35,
   "id": "df5f3405",
   "metadata": {
    "ExecuteTime": {
     "end_time": "2021-05-03T08:24:39.385222Z",
     "start_time": "2021-05-03T08:24:35.941127Z"
    }
   },
   "outputs": [
    {
     "name": "stdout",
     "output_type": "stream",
     "text": [
      "Please enter an integer : 6\n",
      "Sqaure of the integer is  36\n",
      "Please enter an integer: 5\n",
      "Great, you successfully entered an integer!\n"
     ]
    }
   ],
   "source": [
    "def check_int():\n",
    "    n = int(input(\"Please enter an integer : \"))\n",
    "    print(\"Sqaure of the integer is \", n**2)\n",
    "    \n",
    "    while True:\n",
    "        try:\n",
    "            n1 = int(input(\"Please enter an integer: \"))\n",
    "            break\n",
    "        except ValueError:\n",
    "            print(\"No valid integer! Please try again ...\")\n",
    "            \n",
    "    print(\"Great, you successfully entered an integer!\")\n",
    "check_int()"
   ]
  },
  {
   "cell_type": "markdown",
   "id": "298b82c2",
   "metadata": {},
   "source": [
    "# Accept the String and print the words composed of digits only"
   ]
  },
  {
   "cell_type": "code",
   "execution_count": 37,
   "id": "a79f9fcb",
   "metadata": {
    "ExecuteTime": {
     "end_time": "2021-05-03T08:46:17.306186Z",
     "start_time": "2021-05-03T08:46:17.302826Z"
    }
   },
   "outputs": [
    {
     "name": "stdout",
     "output_type": "stream",
     "text": [
      "['hell021,', 'hell021,', 'hell021']\n"
     ]
    }
   ],
   "source": [
    "strings = \"this is hell021, this is hell021, this is hell021\"\n",
    "\n",
    "res = []\n",
    "temp = strings.split()\n",
    "for idx in temp:\n",
    "    if any(chr.isalpha() for chr in idx) and any(chr.isdigit() for chr in idx):\n",
    "        res.append(idx)\n",
    "print(res)"
   ]
  },
  {
   "cell_type": "markdown",
   "id": "b1d441c7",
   "metadata": {},
   "source": [
    "# find the parity outlier from the given sequence use list comprehension seq=1,2,3,5,7"
   ]
  },
  {
   "cell_type": "code",
   "execution_count": 39,
   "id": "152c6f79",
   "metadata": {
    "ExecuteTime": {
     "end_time": "2021-05-03T08:47:16.413534Z",
     "start_time": "2021-05-03T08:47:16.408706Z"
    }
   },
   "outputs": [
    {
     "name": "stdout",
     "output_type": "stream",
     "text": [
      "Evens:  [2]\n",
      "Odds:  [1, 3, 5, 7]\n",
      "Outlier: 2\n"
     ]
    }
   ],
   "source": [
    "def find_outlier(li):\n",
    "    evens = []\n",
    "    odds = []\n",
    "    for i in li:\n",
    "        if i % 2 > 0:\n",
    "            odds.append(i)\n",
    "        if i % 2 == 0:\n",
    "            evens.append(i)\n",
    "    print(\"Evens: \", evens)\n",
    "    print(\"Odds: \", odds)\n",
    "    \n",
    "    if len(evens) > len(odds):\n",
    "        return odds[0]\n",
    "    else:\n",
    "        return evens[0]\n",
    "\n",
    "print(\"Outlier:\", find_outlier([1, 2, 3, 5, 7]))"
   ]
  },
  {
   "cell_type": "markdown",
   "id": "1427c000",
   "metadata": {},
   "source": [
    "# Get the complement where T--->A, A-->T, C--->G, G--->C for the given DNA dna =\"ATTGC\""
   ]
  },
  {
   "cell_type": "code",
   "execution_count": 40,
   "id": "6321d0cb",
   "metadata": {
    "ExecuteTime": {
     "end_time": "2021-05-03T08:47:21.467502Z",
     "start_time": "2021-05-03T08:47:21.462029Z"
    }
   },
   "outputs": [
    {
     "name": "stdout",
     "output_type": "stream",
     "text": [
      "GCAAT\n"
     ]
    }
   ],
   "source": [
    "complement = {'A': 'T', 'C': 'G', 'G': 'C', 'T': 'A'}\n",
    "dna = \"ATTGC\"\n",
    "reverse_complement = \"\".join(complement.get(base) for base in reversed(dna))\n",
    "print(reverse_complement)"
   ]
  },
  {
   "cell_type": "code",
   "execution_count": 41,
   "id": "71523d54",
   "metadata": {
    "ExecuteTime": {
     "end_time": "2021-05-03T08:48:38.362418Z",
     "start_time": "2021-05-03T08:48:38.357579Z"
    }
   },
   "outputs": [
    {
     "name": "stdout",
     "output_type": "stream",
     "text": [
      "['T', 'A', 'A', 'G', 'C']\n"
     ]
    }
   ],
   "source": [
    "def getting_compliment(dna):\n",
    "    return_list = []\n",
    "    for i in dna:\n",
    "        if i == 'A':\n",
    "            return_list.append('T')\n",
    "        elif i == 'T':\n",
    "            return_list.append('A')\n",
    "        elif i == 'C':\n",
    "            return_list.append('G')\n",
    "        elif i == 'G':\n",
    "            return_list.append('C')\n",
    "    return return_list\n",
    "print(getting_compliment('ATTCG'))"
   ]
  },
  {
   "cell_type": "markdown",
   "id": "cc20d0c1",
   "metadata": {},
   "source": [
    "# Write a program that inputs a number from the user and displays the factorial of that number using while loop."
   ]
  },
  {
   "cell_type": "code",
   "execution_count": 43,
   "id": "dd1ee63f",
   "metadata": {
    "ExecuteTime": {
     "end_time": "2021-05-03T08:48:58.773635Z",
     "start_time": "2021-05-03T08:48:56.503923Z"
    }
   },
   "outputs": [
    {
     "name": "stdout",
     "output_type": "stream",
     "text": [
      "enter a number: 5\n",
      "factorial of  5  is  120\n"
     ]
    }
   ],
   "source": [
    "num = int(input(\"enter a number: \"))\n",
    " \n",
    "fac = 1\n",
    "i = 1\n",
    " \n",
    "while i <= num:\n",
    "    fac = fac * i\n",
    "    i = i + 1\n",
    " \n",
    "print(\"factorial of \", num, \" is \", fac)"
   ]
  },
  {
   "cell_type": "markdown",
   "id": "5b2ce7f8",
   "metadata": {},
   "source": [
    "# Ask the user for a number,to pick the color from the list print the color.\n",
    "color= Blue, Green, Orange, Red\n"
   ]
  },
  {
   "cell_type": "code",
   "execution_count": 44,
   "id": "c763ebb8",
   "metadata": {
    "ExecuteTime": {
     "end_time": "2021-05-03T08:49:15.406038Z",
     "start_time": "2021-05-03T08:49:01.661666Z"
    }
   },
   "outputs": [
    {
     "name": "stdout",
     "output_type": "stream",
     "text": [
      "What is your favorite color? 5\n",
      "Oh. I guess we’re not soul mates after all.\n",
      "What is your favorite color? 5\n",
      "Oh. I guess we’re not soul mates after all.\n",
      "What is your favorite color? Blue\n",
      "That’s my favorite color too!\n",
      "Goodbye!\n"
     ]
    }
   ],
   "source": [
    "color= [\"Blue\", \"Green\", \"Orange\", \"Red\"]\n",
    "def choose_color():\n",
    "\n",
    "    rightGuess = 0 ##set an opening condition that you will be able to change once the user gets the right answer\n",
    "\n",
    "    while rightGuess == 0: ##start the while loop\n",
    "\n",
    "        guess = input(\"What is your favorite color? \")\n",
    "\n",
    "        if guess in color:\n",
    "\n",
    "            print (\"That’s my favorite color too!\")\n",
    "\n",
    "            rightGuess = rightGuess + 1 ##(this changes the counter and therefore the condition in which the loop will run)\n",
    "\n",
    "        else:\n",
    "\n",
    "            print(\"Oh. I guess we’re not soul mates after all.\")\n",
    "\n",
    "    print(\"Goodbye!\")\n",
    "    \n",
    "choose_color()"
   ]
  },
  {
   "cell_type": "markdown",
   "id": "346bddb9",
   "metadata": {},
   "source": [
    "#  Write a program that computes the value of a+aa+aaa+aaaa with a given digit as the value of a."
   ]
  },
  {
   "cell_type": "code",
   "execution_count": 47,
   "id": "63edf07c",
   "metadata": {
    "ExecuteTime": {
     "end_time": "2021-05-03T08:53:25.714064Z",
     "start_time": "2021-05-03T08:53:23.412194Z"
    }
   },
   "outputs": [
    {
     "name": "stdout",
     "output_type": "stream",
     "text": [
      "Enter value as a : 5\n",
      "6170\n"
     ]
    }
   ],
   "source": [
    "value = input(\"Enter value as a : \")\n",
    "\n",
    "n1 = value * 1\n",
    "n2 = value * 2\n",
    "n3 = value * 3\n",
    "n4 = value * 4\n",
    "\n",
    "total = int(n1) + int(n2) + int(n3) + int(n4)\n",
    "print(total)"
   ]
  },
  {
   "cell_type": "code",
   "execution_count": 46,
   "id": "2a4ebcd7",
   "metadata": {
    "ExecuteTime": {
     "end_time": "2021-05-03T08:53:15.929586Z",
     "start_time": "2021-05-03T08:53:12.237213Z"
    }
   },
   "outputs": [
    {
     "name": "stdout",
     "output_type": "stream",
     "text": [
      "Enter digit:6\n",
      "enter a number:6\n",
      "6\n",
      "66\n",
      "666\n",
      "6666\n",
      "66666\n",
      "666666\n",
      "________________+\n",
      "\n",
      "740736\n"
     ]
    }
   ],
   "source": [
    "# Any number of times \n",
    "digit=int(input(\"Enter digit:\"))\n",
    "num=input(\"enter a number:\")\n",
    " \n",
    " \n",
    "result=0\n",
    "for i in range(1,digit+1):\n",
    "  result= result + int(str(num*i))\n",
    "  print(num*i)\n",
    " \n",
    "print(\"________________+\\n\")\n",
    "print(result)\n",
    " "
   ]
  },
  {
   "cell_type": "markdown",
   "id": "5d6a141b",
   "metadata": {},
   "source": [
    "# write a program that lets user to input the value seperate by \",\" and create a list from it using list comprehension"
   ]
  },
  {
   "cell_type": "code",
   "execution_count": null,
   "id": "bd880ad4",
   "metadata": {
    "ExecuteTime": {
     "end_time": "2021-05-01T14:34:09.775417Z",
     "start_time": "2021-05-01T14:33:38.099Z"
    }
   },
   "outputs": [],
   "source": [
    "# For numbers list\n",
    "num_list = [int(num) for num in input(\"Enter the list items separated by comma \").strip().split(\",\")]\n",
    "\n",
    "print(\"User list: \", num_list)"
   ]
  },
  {
   "cell_type": "code",
   "execution_count": null,
   "id": "3ed0cedb",
   "metadata": {
    "ExecuteTime": {
     "end_time": "2021-05-01T14:34:09.776152Z",
     "start_time": "2021-05-01T14:33:38.102Z"
    }
   },
   "outputs": [],
   "source": [
    "# For string list\n",
    "string_list = [str(i) for i in input(\"Enter the list items separated by comma \").strip().split(\",\")]\n",
    "\n",
    "print(\"User list: \", string_list)"
   ]
  },
  {
   "cell_type": "markdown",
   "id": "b503d8e0",
   "metadata": {},
   "source": [
    "# Write a program that calculates and prints the value according to the given formula:\n",
    "\n",
    "```\n",
    "Q = Square root of (2 C D)/H\n",
    "given,\n",
    "c=50\n",
    "h=30\n",
    "D is the variable whose values should be input to your program in a comma-separated sequence.\n",
    "Example 100,150,180\n",
    "The output : 18,22,24```\n"
   ]
  },
  {
   "cell_type": "code",
   "execution_count": null,
   "id": "c7357a59",
   "metadata": {
    "ExecuteTime": {
     "end_time": "2021-05-01T14:34:09.776919Z",
     "start_time": "2021-05-01T14:33:38.105Z"
    }
   },
   "outputs": [],
   "source": [
    "import math\n",
    "\n",
    "numbers = input(\"Input the value of D: \")\n",
    "numbers = numbers.split(',')\n",
    "\n",
    "result_list = []\n",
    "for D in numbers:\n",
    "    Q = round(math.sqrt(2 * 50 * int(D) / 30))\n",
    "    result_list.append(Q)\n",
    "\n",
    "print(result_list)"
   ]
  },
  {
   "cell_type": "markdown",
   "id": "664f42e5",
   "metadata": {},
   "source": [
    "# Write a program that accepts a sequence of whitespace separated words as input and prints the words after removing all duplicate words and sorting them alphanumerically."
   ]
  },
  {
   "cell_type": "code",
   "execution_count": null,
   "id": "f38aaed7",
   "metadata": {
    "ExecuteTime": {
     "end_time": "2021-05-01T14:34:09.777529Z",
     "start_time": "2021-05-01T14:33:38.109Z"
    }
   },
   "outputs": [],
   "source": [
    "words = input(\"Type in: \")\n",
    "words_splited = words.split(' ')\n",
    "\n",
    "word_list = []\n",
    "for i in words_splited:\n",
    "    if i not in word_list:\n",
    "        word_list.append(i)\n",
    "    else:\n",
    "        continue\n",
    "word_list.sort()\n",
    "print((' ').join(word_list))"
   ]
  },
  {
   "cell_type": "markdown",
   "id": "f62b110e",
   "metadata": {},
   "source": [
    "# Write a program which accepts a sequence of comma separated 4 digit binary numbers and then check whether they are divisible by 5 or not. print the number\n",
    "Example: 0100,0011,1010,1001 Then the output should be: 1010"
   ]
  },
  {
   "cell_type": "code",
   "execution_count": 48,
   "id": "dc216887",
   "metadata": {
    "ExecuteTime": {
     "end_time": "2021-05-03T08:55:48.185308Z",
     "start_time": "2021-05-03T08:55:32.877782Z"
    }
   },
   "outputs": [
    {
     "name": "stdout",
     "output_type": "stream",
     "text": [
      "0100,0010\n",
      "\n"
     ]
    }
   ],
   "source": [
    "items = []\n",
    "num = [x for x in input().split(',')]\n",
    "for p in num:\n",
    "    x = int(p, 2)\n",
    "    if not x%5:\n",
    "        items.append(p)\n",
    "print(','.join(items))"
   ]
  },
  {
   "cell_type": "code",
   "execution_count": 49,
   "id": "53dd14a2",
   "metadata": {
    "ExecuteTime": {
     "end_time": "2021-05-03T08:57:00.234122Z",
     "start_time": "2021-05-03T08:57:00.229899Z"
    }
   },
   "outputs": [
    {
     "name": "stdout",
     "output_type": "stream",
     "text": [
      "Which is divisible by 5 among ['0100', '0011', '1010', '1001']: ['1010']\n"
     ]
    }
   ],
   "source": [
    "def is_divisible_5(str_list, n=5):\n",
    "    '''Given a list of binary strings, this function outputs the string which is divisible by n\n",
    "        Input : str_list : A list of strings with binary values\n",
    "            n(Optional) : A number whose divisibility to check with\n",
    "        Output : Binary String which is divisible by n\n",
    "    '''\n",
    "    return([i for i in str_list if int(i,2)%n==0])\n",
    "        \n",
    "        \n",
    "s = ['0100','0011','1010','1001']\n",
    "\n",
    "print(f\"Which is divisible by 5 among {s}:\", is_divisible_5(s))\n"
   ]
  },
  {
   "cell_type": "markdown",
   "id": "060a02d0",
   "metadata": {},
   "source": [
    "# By using list comprehension, please write a program to print the list after removing the even index numbers\n",
    "li=range(10)"
   ]
  },
  {
   "cell_type": "code",
   "execution_count": 54,
   "id": "452f45c5",
   "metadata": {
    "ExecuteTime": {
     "end_time": "2021-05-03T09:01:02.652322Z",
     "start_time": "2021-05-03T09:01:02.648183Z"
    }
   },
   "outputs": [
    {
     "name": "stdout",
     "output_type": "stream",
     "text": [
      "[1, 3, 5, 7, 9]\n"
     ]
    }
   ],
   "source": [
    "li = range(10)\n",
    "odd_num = [li[x] for x in li if x%2!=0]\n",
    "print(odd_num)"
   ]
  },
  {
   "cell_type": "code",
   "execution_count": 55,
   "id": "770de87e",
   "metadata": {
    "ExecuteTime": {
     "end_time": "2021-05-03T09:01:03.168919Z",
     "start_time": "2021-05-03T09:01:03.165200Z"
    }
   },
   "outputs": [
    {
     "data": {
      "text/plain": [
       "[1, 3, 5, 7, 9]"
      ]
     },
     "execution_count": 55,
     "metadata": {},
     "output_type": "execute_result"
    }
   ],
   "source": [
    "li = range(10) ## user defined\n",
    "[li[x] for x in range(len(li)) if x%2!=0]\n"
   ]
  },
  {
   "cell_type": "markdown",
   "id": "d80f5503",
   "metadata": {},
   "source": [
    "# write a function to get the sum of two num(use lambda)"
   ]
  },
  {
   "cell_type": "code",
   "execution_count": null,
   "id": "04bf4844",
   "metadata": {
    "ExecuteTime": {
     "end_time": "2021-05-01T14:34:09.779389Z",
     "start_time": "2021-05-01T14:33:38.119Z"
    }
   },
   "outputs": [],
   "source": [
    "a = lambda x,y: x+y \n",
    "a(4,5)"
   ]
  },
  {
   "cell_type": "markdown",
   "id": "e58584e9",
   "metadata": {},
   "source": [
    "# write a function to print if leap year or not"
   ]
  },
  {
   "cell_type": "code",
   "execution_count": null,
   "id": "9fac5033",
   "metadata": {
    "ExecuteTime": {
     "end_time": "2021-05-01T14:34:09.779982Z",
     "start_time": "2021-05-01T14:33:38.122Z"
    }
   },
   "outputs": [],
   "source": [
    "# User enters the year\n",
    "year = int(input(\"Enter Year: \"))\n",
    "\n",
    "# Leap Year Check\n",
    "if year % 4 == 0 and year % 100 != 0:\n",
    "    print(year, \"is a Leap Year\")\n",
    "elif year % 100 == 0:\n",
    "    print(year, \"is not a Leap Year\")\n",
    "elif year % 400 ==0:\n",
    "    print(year, \"is a Leap Year\")\n",
    "else:\n",
    "    print(year, \"is not a Leap Year\")"
   ]
  },
  {
   "cell_type": "markdown",
   "id": "34791117",
   "metadata": {},
   "source": [
    "# write a function to count a bit(number of 1) in number (use lambda)"
   ]
  },
  {
   "cell_type": "code",
   "execution_count": null,
   "id": "effad888",
   "metadata": {
    "ExecuteTime": {
     "end_time": "2021-05-01T14:34:09.780533Z",
     "start_time": "2021-05-01T14:33:38.125Z"
    }
   },
   "outputs": [],
   "source": [
    "b = lambda x: bin(x)\n",
    "b(10)"
   ]
  },
  {
   "cell_type": "markdown",
   "id": "5984d510",
   "metadata": {},
   "source": [
    "# Write a program to get the area of a circle from the radius (use lambda"
   ]
  },
  {
   "cell_type": "code",
   "execution_count": null,
   "id": "653e77ed",
   "metadata": {
    "ExecuteTime": {
     "end_time": "2021-05-01T14:34:09.781114Z",
     "start_time": "2021-05-01T14:33:38.129Z"
    }
   },
   "outputs": [],
   "source": [
    "circle_area = lambda x:round(math.pi*x**2,2)\n",
    "circle_area(5)"
   ]
  },
  {
   "cell_type": "markdown",
   "id": "8d5ea9c9",
   "metadata": {},
   "source": [
    "# write a function to get the factorial of given number use recurssion"
   ]
  },
  {
   "cell_type": "code",
   "execution_count": 62,
   "id": "8fbe92a7",
   "metadata": {
    "ExecuteTime": {
     "end_time": "2021-05-03T09:06:53.314956Z",
     "start_time": "2021-05-03T09:06:53.311265Z"
    }
   },
   "outputs": [
    {
     "data": {
      "text/plain": [
       "720"
      ]
     },
     "execution_count": 62,
     "metadata": {},
     "output_type": "execute_result"
    }
   ],
   "source": [
    "def factorial(n):\n",
    "    if n == 1:\n",
    "        return n\n",
    "    else:\n",
    "        return n*factorial(n-1)\n",
    "factorial(6)\n",
    "    "
   ]
  },
  {
   "cell_type": "markdown",
   "id": "b877f0a8",
   "metadata": {},
   "source": [
    "# write a program to remove a duplicate word in a list or user input sentences."
   ]
  },
  {
   "cell_type": "code",
   "execution_count": 68,
   "id": "d3185be9",
   "metadata": {
    "ExecuteTime": {
     "end_time": "2021-05-01T14:52:11.016036Z",
     "start_time": "2021-05-01T14:52:11.011689Z"
    }
   },
   "outputs": [
    {
     "data": {
      "text/plain": [
       "['apple', 'orange', 'banana', 'kiwi']"
      ]
     },
     "execution_count": 68,
     "metadata": {},
     "output_type": "execute_result"
    }
   ],
   "source": [
    "def Remove(duplicate):\n",
    "    final_list = []\n",
    "    for num in duplicate:\n",
    "        if num not in final_list:\n",
    "            final_list.append(num)\n",
    "    return final_list\n",
    "\n",
    "duplicate = [\"apple\", \"orange\", \"banana\", \"apple\", \"orange\",\"kiwi\"]\n",
    "Remove(duplicate)"
   ]
  },
  {
   "cell_type": "code",
   "execution_count": 70,
   "id": "6baa4172",
   "metadata": {
    "ExecuteTime": {
     "end_time": "2021-05-01T14:53:07.580697Z",
     "start_time": "2021-05-01T14:53:07.576928Z"
    }
   },
   "outputs": [
    {
     "name": "stdout",
     "output_type": "stream",
     "text": [
      "Python is usefull for data analysis\n"
     ]
    }
   ],
   "source": [
    "s = \"Python is usefull for data analysis\"\n",
    "l = s.split()\n",
    "k = []\n",
    "for i in l:\n",
    "    if (s.count(i)>1 and (i not in k)or s.count(i)==1):\n",
    "        k.append(i)\n",
    "print(' '.join(k))"
   ]
  },
  {
   "cell_type": "markdown",
   "id": "7ab947b1",
   "metadata": {},
   "source": [
    "# calculate fibonacci\n",
    "what is fibonacci? Its a cumulative sum of numbers. "
   ]
  },
  {
   "cell_type": "code",
   "execution_count": null,
   "id": "6d42d7c4",
   "metadata": {
    "ExecuteTime": {
     "end_time": "2021-05-01T14:34:09.785340Z",
     "start_time": "2021-05-01T14:33:38.144Z"
    }
   },
   "outputs": [],
   "source": [
    "# Calculate fibonacci numbers total with recursion function\n",
    "def fib(n):\n",
    "    if n <=1:\n",
    "        return n\n",
    "    else:\n",
    "        return (fib(n-1) + fib(n-2))\n",
    "print(\"Tota----->\", fib(9))\n",
    "    \n",
    "# Change this value to adjust the number of terms in the sequence.\n",
    "number_of_terms = 10\n",
    "for i in range(number_of_terms):\n",
    "    print(fib(i))"
   ]
  },
  {
   "cell_type": "markdown",
   "id": "3d43d54f",
   "metadata": {},
   "source": [
    "# write a function to get the premutation and combination"
   ]
  },
  {
   "cell_type": "code",
   "execution_count": null,
   "id": "33670b64",
   "metadata": {
    "ExecuteTime": {
     "end_time": "2021-05-01T14:34:09.786342Z",
     "start_time": "2021-05-01T14:33:38.147Z"
    }
   },
   "outputs": [],
   "source": [
    "#  Calculate Permutation\n",
    "def permutation(lst):\n",
    "    # If lst is empty then there are no permutations\n",
    "    if len(lst) == 0:\n",
    "        return []\n",
    "  \n",
    "    # If there is only one element in lst then, only\n",
    "    # one permuatation is possible\n",
    "    if len(lst) == 1:\n",
    "        return [lst]\n",
    "  \n",
    "    # Find the permutations for lst if there are\n",
    "    # more than 1 characters\n",
    "    l = []\n",
    "    for i in range(len(lst)):\n",
    "        m = lst[i]\n",
    "        # Remaining list\n",
    "        rem_list = lst[:i] + lst[i+1:]\n",
    "        # Generating all permutations where m is first element\n",
    "        for p in permutation(rem_list):\n",
    "            l.append([m] + p)\n",
    "    return l\n",
    "data = list(\"123\")\n",
    "for p in permutation(data):\n",
    "    print(p)\n",
    "            "
   ]
  },
  {
   "cell_type": "code",
   "execution_count": null,
   "id": "20929cd3",
   "metadata": {
    "ExecuteTime": {
     "end_time": "2021-05-01T14:34:09.787363Z",
     "start_time": "2021-05-01T14:33:38.150Z"
    }
   },
   "outputs": [],
   "source": [
    "# Calculate combination\n",
    "def combination(lst, n):\n",
    "      \n",
    "    if n == 0:\n",
    "        return [[]]\n",
    "      \n",
    "    l =[]\n",
    "    for i in range(0, len(lst)):\n",
    "          \n",
    "        m = lst[i]\n",
    "        remLst = lst[i + 1:]\n",
    "          \n",
    "        for p in combination(remLst, n-1):\n",
    "            l.append([m]+p)\n",
    "              \n",
    "    return l\n",
    "  \n",
    "# Driver code\n",
    "arr =\"abc\"\n",
    "print(combination([x for x in arr], 2))"
   ]
  },
  {
   "cell_type": "markdown",
   "id": "fc1958c8",
   "metadata": {},
   "source": [
    "# write a function to draw a diamond shape from a user given number: hint: only odd number can draw a diamond shape"
   ]
  },
  {
   "cell_type": "code",
   "execution_count": null,
   "id": "acfb6626",
   "metadata": {
    "ExecuteTime": {
     "end_time": "2021-05-01T14:34:09.788161Z",
     "start_time": "2021-05-01T14:33:38.154Z"
    }
   },
   "outputs": [],
   "source": [
    "n = int(input(\"Enter a valid number : \"))\n",
    "def diamond():\n",
    "    \n",
    "    main = ''\n",
    "    \n",
    "    if n%2 == 0:\n",
    "        return None\n",
    "    if n<0:\n",
    "        return None\n",
    "    else:\n",
    "        for i in range(1,n+1):\n",
    "            string = ''\n",
    "            space = abs(i - int((n+1)/2))\n",
    "            star = n - 2 * space\n",
    "            string = space * ' ' + star * '*' + '\\n'\n",
    "            main += string\n",
    "        return main\n",
    "print(diamond())"
   ]
  },
  {
   "cell_type": "markdown",
   "id": "3aad0e33",
   "metadata": {},
   "source": [
    "# build a simple calculator which can: add subtract multiply divide"
   ]
  },
  {
   "cell_type": "code",
   "execution_count": null,
   "id": "aa6a08d7",
   "metadata": {
    "ExecuteTime": {
     "end_time": "2021-05-01T14:34:09.788857Z",
     "start_time": "2021-05-01T14:33:38.157Z"
    }
   },
   "outputs": [],
   "source": [
    "def add(a,b):\n",
    "    return a+b\n",
    "def subtract(a,b):\n",
    "    return a-b\n",
    "def multiply(a,b):\n",
    "    return a*b\n",
    "def divide(a,b):\n",
    "    return a/b"
   ]
  },
  {
   "cell_type": "code",
   "execution_count": null,
   "id": "e191b98c",
   "metadata": {
    "ExecuteTime": {
     "end_time": "2021-05-01T14:34:09.789489Z",
     "start_time": "2021-05-01T14:33:38.160Z"
    }
   },
   "outputs": [],
   "source": [
    "print(\"Select operation.\")\n",
    "print(\"1.Add\")\n",
    "print(\"2.Subtract\")\n",
    "print(\"3.Multiply\")\n",
    "print(\"4.Divide\")\n",
    "\n",
    "while True:\n",
    "    # Take input from the user\n",
    "    choice = input(\"Enter choice(1/2/3/4): \")\n",
    "\n",
    "    # Check if choice is one of the four options\n",
    "    if choice in ('1', '2', '3', '4'):\n",
    "        num1 = float(input(\"Enter first number: \"))\n",
    "        num2 = float(input(\"Enter second number: \"))\n",
    "\n",
    "        if choice == '1':\n",
    "            print(num1, \"+\", num2, \"=\", add(num1, num2))\n",
    "\n",
    "        elif choice == '2':\n",
    "            print(num1, \"-\", num2, \"=\", subtract(num1, num2))\n",
    "\n",
    "        elif choice == '3':\n",
    "            print(num1, \"*\", num2, \"=\", multiply(num1, num2))\n",
    "\n",
    "        elif choice == '4':\n",
    "            print(num1, \"/\", num2, \"=\", divide(num1, num2))\n",
    "        break\n",
    "    else:\n",
    "        print(\"Invalid Input\")"
   ]
  },
  {
   "cell_type": "markdown",
   "id": "c1b881db",
   "metadata": {},
   "source": [
    "# define a function which can print a given string in a circular rotation"
   ]
  },
  {
   "cell_type": "code",
   "execution_count": 63,
   "id": "13c6e420",
   "metadata": {
    "ExecuteTime": {
     "end_time": "2021-05-03T09:16:17.838984Z",
     "start_time": "2021-05-03T09:16:17.835375Z"
    }
   },
   "outputs": [
    {
     "name": "stdout",
     "output_type": "stream",
     "text": [
      "mamun\n",
      "amunm\n",
      "munma\n",
      "unmam\n",
      "nmamu\n"
     ]
    }
   ],
   "source": [
    "def rotation():\n",
    "    a = \"mamun\"\n",
    "    b = len(a)\n",
    "    for i in range (b):\n",
    "        c = a[i:]+a[:i]\n",
    "        print(c)\n",
    "rotation()"
   ]
  },
  {
   "cell_type": "code",
   "execution_count": 75,
   "id": "02845eed",
   "metadata": {
    "ExecuteTime": {
     "end_time": "2021-05-03T09:19:27.405023Z",
     "start_time": "2021-05-03T09:19:27.400317Z"
    }
   },
   "outputs": [
    {
     "data": {
      "text/plain": [
       "'abc'"
      ]
     },
     "execution_count": 75,
     "metadata": {},
     "output_type": "execute_result"
    }
   ],
   "source": [
    "rotating_strings = lambda x, n: x[n:] + x[:n]\n",
    "rotating_strings(\"abc\",3)\n"
   ]
  },
  {
   "cell_type": "markdown",
   "id": "5980203a",
   "metadata": {},
   "source": [
    "# write a function to calculate the GCD of 2 number"
   ]
  },
  {
   "cell_type": "code",
   "execution_count": 79,
   "id": "c43414bb",
   "metadata": {
    "ExecuteTime": {
     "end_time": "2021-05-03T09:20:10.213488Z",
     "start_time": "2021-05-03T09:20:10.210002Z"
    }
   },
   "outputs": [
    {
     "name": "stdout",
     "output_type": "stream",
     "text": [
      "GCD is:  5\n"
     ]
    }
   ],
   "source": [
    "# Define gcd function by taking two numbers as input\n",
    "def gcd(a,b):\n",
    "    if(b==0):\n",
    "        return a\n",
    "    else:\n",
    "        return gcd(b,a%b)\n",
    "    \n",
    "#a=int(input(\"Enter first number:\"))\n",
    "\n",
    "#b=int(input(\"Enter second number:\"))\n",
    "\n",
    "#GCD=gcd(a,b)\n",
    "\n",
    "print(\"GCD is: \", gcd(5,40))\n",
    "\n"
   ]
  },
  {
   "cell_type": "markdown",
   "id": "33eff2d1",
   "metadata": {},
   "source": [
    "# Write a Python function to check whether a string is pangram or not."
   ]
  },
  {
   "cell_type": "code",
   "execution_count": 80,
   "id": "2342fadf",
   "metadata": {
    "ExecuteTime": {
     "end_time": "2021-05-03T09:20:21.806503Z",
     "start_time": "2021-05-03T09:20:21.800916Z"
    }
   },
   "outputs": [
    {
     "data": {
      "text/plain": [
       "False"
      ]
     },
     "execution_count": 80,
     "metadata": {},
     "output_type": "execute_result"
    }
   ],
   "source": [
    "# option 1\n",
    "def is_panagram(sentence):\n",
    "    \n",
    "    alphabet='abcdef' # define a alp with all alphabets(alp)\n",
    "   \n",
    "    for letter in alphabet:             # checking every letter is present in alphabet.\n",
    "        \n",
    "        if alphabet in sentence.lower(): # string.lower to avoid case difference\n",
    "            return True           # return only if all alphabet is present in sentence\n",
    "        else:\n",
    "            return False \n",
    "is_panagram(\"monekey is very intelligent animal\")"
   ]
  },
  {
   "cell_type": "code",
   "execution_count": 81,
   "id": "d481b948",
   "metadata": {
    "ExecuteTime": {
     "end_time": "2021-05-03T09:20:22.365021Z",
     "start_time": "2021-05-03T09:20:22.359368Z"
    }
   },
   "outputs": [
    {
     "data": {
      "text/plain": [
       "False"
      ]
     },
     "execution_count": 81,
     "metadata": {},
     "output_type": "execute_result"
    }
   ],
   "source": [
    "# Option 2\n",
    "def is_pangram(str):\n",
    "   alphabet = \"abcdefghi\"\n",
    "   for char in alphabet:\n",
    "        if char not in str.lower():\n",
    "            return False\n",
    "        return True\n",
    "\n",
    "string = 'Money jumping on bed.'\n",
    "\n",
    "is_pangram(string)"
   ]
  },
  {
   "cell_type": "markdown",
   "id": "c25f952f",
   "metadata": {},
   "source": [
    "# write a function which take a list of number and target where target is number . print the index from the list where the sum of the index value is equal to that of the target"
   ]
  },
  {
   "cell_type": "code",
   "execution_count": 85,
   "id": "63e9fdc7",
   "metadata": {
    "ExecuteTime": {
     "end_time": "2021-05-03T09:25:45.701781Z",
     "start_time": "2021-05-03T09:25:37.299843Z"
    }
   },
   "outputs": [
    {
     "name": "stdout",
     "output_type": "stream",
     "text": [
      "Enter the number: 3\n",
      "[(1, 2), (2, 1)]\n"
     ]
    }
   ],
   "source": [
    "lst = [1, 4, 5, 7, 9, 6, 2]\n",
    "lst2=[]\n",
    "target = int(input(\"Enter the number: \"))\n",
    "value = [(x,y) for x in lst for y in lst if x+y == target]\n",
    "print(value)"
   ]
  },
  {
   "cell_type": "code",
   "execution_count": 86,
   "id": "9b635670",
   "metadata": {
    "ExecuteTime": {
     "end_time": "2021-05-03T09:26:59.849216Z",
     "start_time": "2021-05-03T09:26:59.843660Z"
    }
   },
   "outputs": [
    {
     "name": "stdout",
     "output_type": "stream",
     "text": [
      "Index number which has the sum equal to 25 from all numbers in range 15 are : [(11, 14), (12, 13)]\n"
     ]
    }
   ],
   "source": [
    "def tar_prog(li, target):\n",
    "    '''This function returns the list items (tuples containing index numbers) \n",
    "        whose sum is equal to the target\n",
    "    '''\n",
    "    return([(li[i],li[j]) for i in range(len(li)) for j in range(i, len(li)) if li[i]+li[j]==target])\n",
    "\n",
    "print(\"Index number which has the sum equal to 25 from all numbers in range 15 are :\", tar_prog(range(15), 25))\n"
   ]
  },
  {
   "cell_type": "markdown",
   "id": "cf27b02e",
   "metadata": {},
   "source": [
    "# write a function to calculate the LCM of a 2 number lcm of 54 and 42 is 378"
   ]
  },
  {
   "cell_type": "code",
   "execution_count": null,
   "id": "e061e1fe",
   "metadata": {
    "ExecuteTime": {
     "end_time": "2021-05-01T14:34:09.793930Z",
     "start_time": "2021-05-01T14:33:38.177Z"
    }
   },
   "outputs": [],
   "source": [
    "# Find the L.C.M. of 54 and 42 is 216\n",
    "\n",
    "def compute_lcm(x, y):\n",
    "\n",
    "   # choose the greater number\n",
    "   if x > y:\n",
    "       greater = x\n",
    "   else:\n",
    "       greater = y\n",
    "\n",
    "   while(True):\n",
    "       if((greater % x == 0) and (greater % y == 0)):\n",
    "           lcm = greater\n",
    "           break\n",
    "       greater += 1\n",
    "\n",
    "   return lcm\n",
    "\n",
    "num1 = 42\n",
    "num2 = 54\n",
    "\n",
    "print(\"The L.C.M. is\", compute_lcm(num1, num2))"
   ]
  },
  {
   "cell_type": "markdown",
   "id": "14f53208",
   "metadata": {},
   "source": [
    "# write a function that gives the prime factor only"
   ]
  },
  {
   "cell_type": "code",
   "execution_count": 92,
   "id": "1116d5bd",
   "metadata": {
    "ExecuteTime": {
     "end_time": "2021-05-03T09:29:03.130483Z",
     "start_time": "2021-05-03T09:29:03.124601Z"
    }
   },
   "outputs": [],
   "source": [
    "def prime_factors(n):\n",
    "    i = 2\n",
    "    factors = []\n",
    "    while i * i <= n:\n",
    "        if n % i:\n",
    "            i += 1\n",
    "        else:\n",
    "            n //= i\n",
    "            factors.append(i)\n",
    "    if n > 1:\n",
    "        factors.append(n)\n",
    "    return factors"
   ]
  },
  {
   "cell_type": "code",
   "execution_count": 93,
   "id": "21adec60",
   "metadata": {
    "ExecuteTime": {
     "end_time": "2021-05-03T09:29:03.589997Z",
     "start_time": "2021-05-03T09:29:03.586341Z"
    }
   },
   "outputs": [
    {
     "data": {
      "text/plain": [
       "[2, 5, 5]"
      ]
     },
     "execution_count": 93,
     "metadata": {},
     "output_type": "execute_result"
    }
   ],
   "source": [
    "prime_factors(50) "
   ]
  },
  {
   "cell_type": "code",
   "execution_count": 94,
   "id": "b3fe0f27",
   "metadata": {
    "ExecuteTime": {
     "end_time": "2021-05-03T09:29:04.452611Z",
     "start_time": "2021-05-03T09:29:04.445350Z"
    }
   },
   "outputs": [
    {
     "data": {
      "text/plain": [
       "{2, 5}"
      ]
     },
     "execution_count": 94,
     "metadata": {},
     "output_type": "execute_result"
    }
   ],
   "source": [
    "def prime_fact(n):\n",
    "    '''Given a number n, this function returns the prime factors of that number\n",
    "    '''\n",
    "    i = 2\n",
    "    factors = []\n",
    "    while i <= n:\n",
    "        if n % i==0:\n",
    "            factors.append(i)\n",
    "            n = n//i\n",
    "        else:\n",
    "            i+=1\n",
    "    return set(factors)\n",
    "prime_fact(50)"
   ]
  },
  {
   "cell_type": "markdown",
   "id": "8d276ac6",
   "metadata": {},
   "source": [
    "# write a function that print the first non repeating letter"
   ]
  },
  {
   "cell_type": "code",
   "execution_count": null,
   "id": "3fcb56d9",
   "metadata": {
    "ExecuteTime": {
     "end_time": "2021-05-01T14:34:09.796027Z",
     "start_time": "2021-05-01T14:33:38.186Z"
    }
   },
   "outputs": [],
   "source": [
    "def first_non_repeating_character(str1):\n",
    "  char_order = []\n",
    "  cstr = {}\n",
    "  for c in str1:\n",
    "    if c in cstr:\n",
    "      cstr[c] += 1\n",
    "    else:\n",
    "      cstr[c] = 1 \n",
    "      char_order.append(c)\n",
    "  for c in char_order:\n",
    "    if cstr[c] == 1:\n",
    "      return c\n",
    "  return None\n",
    "\n",
    "print(first_non_repeating_character('abcdef'))\n",
    "print(first_non_repeating_character('abcabcdef'))\n",
    "print(first_non_repeating_character('aabbcc'))"
   ]
  },
  {
   "cell_type": "markdown",
   "id": "30cf74e7",
   "metadata": {},
   "source": [
    "# return sum of array excluding the lowest and highest element"
   ]
  },
  {
   "cell_type": "code",
   "execution_count": null,
   "id": "293763ee",
   "metadata": {
    "ExecuteTime": {
     "end_time": "2021-05-01T14:34:09.796652Z",
     "start_time": "2021-05-01T14:33:38.189Z"
    }
   },
   "outputs": [],
   "source": [
    "# Using lambda function\n",
    "\n",
    "sum_array = lambda arr: sum(sorted(arr)[1:-1]) if isinstance(arr, list) else 0\n",
    "\n",
    "sum_array([3, 8, 1, 7, 12, 5, 9])"
   ]
  },
  {
   "cell_type": "code",
   "execution_count": 98,
   "id": "3f75130f",
   "metadata": {
    "ExecuteTime": {
     "end_time": "2021-05-03T09:37:28.789693Z",
     "start_time": "2021-05-03T09:37:28.786663Z"
    }
   },
   "outputs": [
    {
     "name": "stdout",
     "output_type": "stream",
     "text": [
      "born 05-05-0111 at 01:50\n"
     ]
    }
   ],
   "source": [
    "def digit_subtitution(string):\n",
    "    return ''.join([x in '01234' and '0' or x in '6789' and '1' or x for x in string])\n",
    "print(digit_subtitution('born 25-05-1997 at 18:53'))\n"
   ]
  },
  {
   "cell_type": "markdown",
   "id": "58f95a3e",
   "metadata": {},
   "source": [
    "# define a function take a string value replace any number below 5 with 0 and any number above 5 with 1"
   ]
  },
  {
   "cell_type": "code",
   "execution_count": 97,
   "id": "1932be7a",
   "metadata": {
    "ExecuteTime": {
     "end_time": "2021-05-03T09:36:31.706853Z",
     "start_time": "2021-05-03T09:36:31.703048Z"
    }
   },
   "outputs": [
    {
     "data": {
      "text/plain": [
       "1"
      ]
     },
     "execution_count": 97,
     "metadata": {},
     "output_type": "execute_result"
    }
   ],
   "source": [
    "def fun(num):\n",
    "    if num < 5:\n",
    "        return 0\n",
    "    if num > 5:\n",
    "        return 1\n",
    "fun(6)"
   ]
  },
  {
   "cell_type": "markdown",
   "id": "0a38687b",
   "metadata": {},
   "source": [
    "# write a function to get a day of week eg: (30,8,2010)=1"
   ]
  },
  {
   "cell_type": "code",
   "execution_count": 99,
   "id": "2bbee026",
   "metadata": {
    "ExecuteTime": {
     "end_time": "2021-05-03T09:40:08.644432Z",
     "start_time": "2021-05-03T09:40:08.640853Z"
    }
   },
   "outputs": [
    {
     "name": "stdout",
     "output_type": "stream",
     "text": [
      "Monday\n"
     ]
    }
   ],
   "source": [
    "# Python program to Find day of the week for a given date\n",
    "import datetime\n",
    "import calendar\n",
    "\n",
    "def findDay(date):\n",
    "    born = datetime.datetime.strptime(date, '%d %m %Y').weekday()\n",
    "    return (calendar.day_name[born])\n",
    "\n",
    "date = '30 08 2010'\n",
    "# If integer value ranges in week like that : 0-6, sunday-saturday.\n",
    "print(findDay(date))\n"
   ]
  },
  {
   "cell_type": "code",
   "execution_count": 100,
   "id": "50058a73",
   "metadata": {
    "ExecuteTime": {
     "end_time": "2021-05-03T09:42:57.229069Z",
     "start_time": "2021-05-03T09:42:57.224998Z"
    }
   },
   "outputs": [
    {
     "name": "stdout",
     "output_type": "stream",
     "text": [
      "Day of Week given 30/08/2010 is :  1\n"
     ]
    }
   ],
   "source": [
    "# Use zellers formula\n",
    "floor = lambda x,y: x//y-1 if x%y!=0 else x//y\n",
    "ceil = lambda x,y: x//y+1 if x%y!=0 else x//y\n",
    "\n",
    "def day_of_week(day, month, year):\n",
    "    return((day + ceil(13*(month-2),5) + year + floor(year,4) - floor(year,100) + floor(year,400))%7)\n",
    "    \n",
    "print(\"Day of Week given 30/08/2010 is : \",day_of_week(30,8,2010))\n"
   ]
  },
  {
   "cell_type": "markdown",
   "id": "7bcd6576",
   "metadata": {},
   "source": [
    "# write a function to get all the permutation of the string"
   ]
  },
  {
   "cell_type": "code",
   "execution_count": 101,
   "id": "a176ad3f",
   "metadata": {
    "ExecuteTime": {
     "end_time": "2021-05-03T09:43:30.790418Z",
     "start_time": "2021-05-03T09:43:30.785564Z"
    }
   },
   "outputs": [
    {
     "name": "stdout",
     "output_type": "stream",
     "text": [
      "abc\n",
      "acb\n",
      "bac\n",
      "bca\n",
      "cba\n",
      "cab\n"
     ]
    }
   ],
   "source": [
    "def permutations(string, step = 0):\n",
    "\n",
    "    # if we've gotten to the end, print the permutation\n",
    "    if step == len(string):\n",
    "        print(\"\".join(string))\n",
    "\n",
    "    # everything to the right of step has not been swapped yet\n",
    "    for i in range(step, len(string)):\n",
    "\n",
    "        # copy the string (store as array)\n",
    "        string_copy = [character for character in string]\n",
    "\n",
    "        # swap the current index with the step\n",
    "        string_copy[step], string_copy[i] = string_copy[i], string_copy[step]\n",
    "\n",
    "        # recurse on the portion of the string that has not been swapped yet (now it's index will begin with step + 1)\n",
    "        permutations(string_copy, step + 1)\n",
    "permutations(\"abc\")"
   ]
  },
  {
   "cell_type": "code",
   "execution_count": 104,
   "id": "58f0ae4c",
   "metadata": {
    "ExecuteTime": {
     "end_time": "2021-05-03T09:49:01.462245Z",
     "start_time": "2021-05-03T09:48:57.354046Z"
    }
   },
   "outputs": [
    {
     "name": "stdout",
     "output_type": "stream",
     "text": [
      "Enter a string valueabc\n",
      "abc\n",
      "acb\n",
      "bac\n",
      "bca\n",
      "cba\n",
      "cab\n"
     ]
    }
   ],
   "source": [
    "# dipro solution\n",
    "def change_to_string(list1):\n",
    "    return \"\".join(list1)\n",
    "\n",
    "def permute(list_value,first_index,last_index):\n",
    "    if first_index==last_index:\n",
    "        print (change_to_string(list_value))\n",
    "    else:\n",
    "        for i in range(first_index,last_index+1):\n",
    "            a[first_index],a[i]=a[i],a[first_index]\n",
    "            permute(list_value,first_index+1,last_index)\n",
    "            a[first_index],a[i]=a[i],a[first_index]\n",
    "\n",
    "string1=input(\"Enter a string value\")\n",
    "n=len(string1)\n",
    "a=list(string1)\n",
    "permute(a,0,n-1)"
   ]
  },
  {
   "cell_type": "markdown",
   "id": "d91d9588",
   "metadata": {},
   "source": [
    "# write a function to get all the possible subset of a string in a list"
   ]
  },
  {
   "cell_type": "code",
   "execution_count": 103,
   "id": "fdc43e93",
   "metadata": {
    "ExecuteTime": {
     "end_time": "2021-05-03T09:47:03.930632Z",
     "start_time": "2021-05-03T09:47:03.926120Z"
    }
   },
   "outputs": [
    {
     "data": {
      "text/plain": [
       "['dd', 'de', 'df', 'ed', 'ee', 'ef', 'fd', 'fe', 'ff']"
      ]
     },
     "execution_count": 103,
     "metadata": {},
     "output_type": "execute_result"
    }
   ],
   "source": [
    "def list_string(str):\n",
    "  level = [x+y for x in str for y in str if len(str) > 1]\n",
    "  return level\n",
    "list_string(\"def\")"
   ]
  },
  {
   "cell_type": "code",
   "execution_count": 105,
   "id": "4358727a",
   "metadata": {
    "ExecuteTime": {
     "end_time": "2021-05-03T09:49:48.898696Z",
     "start_time": "2021-05-03T09:49:48.889125Z"
    }
   },
   "outputs": [
    {
     "name": "stdout",
     "output_type": "stream",
     "text": [
      "The subsets of 'abcd' are, [] ['a'] ['b'] ['a', 'b'] ['c'] ['a', 'c'] ['b', 'c'] ['a', 'b', 'c'] ['d'] ['a', 'd'] ['b', 'd'] ['a', 'b', 'd'] ['c', 'd'] ['a', 'c', 'd'] ['b', 'c', 'd'] ['a', 'b', 'c', 'd']\n"
     ]
    }
   ],
   "source": [
    "# Dipro\n",
    "def all_subsets(list_items):\n",
    "    '''Given a string or list this function returns all possible subsets of the string or list\n",
    "    '''\n",
    "    subsets = [[]]\n",
    "    \n",
    "    for i in list_items:\n",
    "        items = subsets[:]\n",
    "\n",
    "        for j in range(len(subsets)):\n",
    "            subsets[j] = subsets[j] + [i]\n",
    "        subsets = items + subsets\n",
    "   \n",
    "    return subsets\n",
    "\n",
    "print(\"The subsets of 'abcd' are,\", *all_subsets('abcd'))\n"
   ]
  },
  {
   "cell_type": "markdown",
   "id": "c923d23f",
   "metadata": {},
   "source": [
    "# write a function to get the length of the last word only from a string seperated by space ex:('string of words') == 5 ex:('adasd ')=5"
   ]
  },
  {
   "cell_type": "code",
   "execution_count": 106,
   "id": "e91b4855",
   "metadata": {
    "ExecuteTime": {
     "end_time": "2021-05-03T09:49:56.644075Z",
     "start_time": "2021-05-03T09:49:56.637093Z"
    }
   },
   "outputs": [
    {
     "name": "stdout",
     "output_type": "stream",
     "text": [
      "The length of last word  'battle' is 6\n"
     ]
    }
   ],
   "source": [
    "# find length of last word\n",
    "\n",
    "\n",
    "def length(str):\n",
    "# Split by space and converting string to list\n",
    "    lis = list(str.split(\" \"))\n",
    "    return len(lis[-1])\n",
    "\n",
    "\n",
    "str = \"life is battle\"\n",
    "print(\"The length of last word  'battle' is\", length(str))\n"
   ]
  },
  {
   "cell_type": "markdown",
   "id": "bba217b3",
   "metadata": {},
   "source": [
    "# write a program for a tower of hanoi puzzle\n",
    "Tower of Hanoi is a mathematical puzzle where we have three rods and n disks. The objective of the puzzle is to move the entire stack to another rod, obeying the following simple rules: \n",
    "- 1) Only one disk can be moved at a time. \n",
    "- 2) Each move consists of taking the upper disk from one of the stacks and placing it on top of another stack i.e. a disk can only be moved if it is the uppermost disk on a stack. \n",
    "- 3) No disk may be placed on top of a smaller disk.\n",
    "\n",
    "Note: Transferring the top n-1 disks from source rod to Auxiliary rod can again be thought of as a fresh problem and can be solved in the same manner."
   ]
  },
  {
   "cell_type": "code",
   "execution_count": null,
   "id": "9b081baf",
   "metadata": {
    "ExecuteTime": {
     "end_time": "2021-05-01T14:34:09.800808Z",
     "start_time": "2021-05-01T14:33:38.208Z"
    }
   },
   "outputs": [],
   "source": [
    "# Recursive Python function to solve the tower of hanoi\n",
    "\n",
    "def TowerOfHanoi(n , source, destination, auxiliary):\n",
    "    if n==1:\n",
    "        print(\"Move disk 1 from source\",source,\"to destination\",destination)\n",
    "        return\n",
    "    TowerOfHanoi(n-1, source, auxiliary, destination)\n",
    "    print(\"Move disk\",n,\"from source\",source,\"to destination\",destination)\n",
    "    \n",
    "    TowerOfHanoi(n-1, auxiliary, destination, source)\n",
    "\n",
    "# Number of disk\n",
    "n = 4\n",
    "TowerOfHanoi(n,'A','B','C')\n",
    "# A, C, B are the name of rods\n"
   ]
  },
  {
   "cell_type": "markdown",
   "id": "cb88e476",
   "metadata": {},
   "source": [
    "# Use a for loop to estimate π from the first 20 terms of the Madhava series:\n",
    "\\begin{equation}\\pi=\\sqrt{12}\\left(1-\\frac{1}{3 \\cdot 3}+\\frac{1}{5 \\cdot 3^{2}}-\\frac{1}{7 \\cdot 3^{3}}+\\cdots\\right)\\end{equation}"
   ]
  },
  {
   "cell_type": "code",
   "execution_count": null,
   "id": "63e670e0",
   "metadata": {
    "ExecuteTime": {
     "end_time": "2021-05-01T14:34:09.801586Z",
     "start_time": "2021-05-01T14:33:38.211Z"
    }
   },
   "outputs": [],
   "source": [
    "import math\n",
    "pi = 0\n",
    "for k in range(20):\n",
    "    pi += pow(-3, -k) / (2*k+1)\n",
    "    \n",
    "pi *= math.sqrt(12)\n",
    "print('pi = ', pi)\n",
    "\n",
    "pi =  3.1415926535714\n",
    "print('error = ', abs(pi - math.pi))"
   ]
  },
  {
   "cell_type": "markdown",
   "id": "6e33a9b7",
   "metadata": {},
   "source": [
    "# write a function to check if the number is harshad or not\n",
    "A Harshad number is an integer that is divisible by the sum of its digits (for example, 21 is divisible by 2+1=3 and so is a Harshad number)."
   ]
  },
  {
   "cell_type": "code",
   "execution_count": 107,
   "id": "825eb238",
   "metadata": {
    "ExecuteTime": {
     "end_time": "2021-05-03T09:58:36.775515Z",
     "start_time": "2021-05-03T09:58:36.771214Z"
    }
   },
   "outputs": [
    {
     "data": {
      "text/plain": [
       "True"
      ]
     },
     "execution_count": 107,
     "metadata": {},
     "output_type": "execute_result"
    }
   ],
   "source": [
    "def harshad(num):\n",
    "    # Stor num in a temporary variable\n",
    "    temp = num\n",
    "    # Store the added digit in sum variable\n",
    "    sum = 0 # initial value\n",
    "    while temp > 0:\n",
    "        sum = sum +temp % 10\n",
    "        temp = temp // 10\n",
    "        return num % sum ==0\n",
    "harshad(12)\n",
    "# If results true it means the number is harshad and if false then not. \n",
    "    "
   ]
  },
  {
   "cell_type": "markdown",
   "id": "b8277f36",
   "metadata": {},
   "source": [
    "# write a function select_word(): to get a random word from a list of words\n",
    "use module random and call random.randint() to chose random"
   ]
  },
  {
   "cell_type": "code",
   "execution_count": 113,
   "id": "6eaf7424",
   "metadata": {
    "ExecuteTime": {
     "end_time": "2021-05-03T10:15:10.386641Z",
     "start_time": "2021-05-03T10:15:10.382118Z"
    }
   },
   "outputs": [
    {
     "name": "stdout",
     "output_type": "stream",
     "text": [
      "is\n"
     ]
    }
   ],
   "source": [
    "import random\n",
    "\n",
    "def select_word(words):\n",
    "    selection = None\n",
    "    count = 0\n",
    "    for word in words:\n",
    "        if random.randint(0, count) == 0:\n",
    "            selection = word.strip()\n",
    "        count = count + 1\n",
    "    return selection\n",
    "\n",
    "print(select_word([\"python\", \"is\", \"awesome\"]))"
   ]
  },
  {
   "cell_type": "markdown",
   "id": "345f3780",
   "metadata": {},
   "source": [
    "# write a function blank(word): where it should print _ after first letter to the range of length of word\n",
    "i.e apple= a _ _ _ _"
   ]
  },
  {
   "cell_type": "code",
   "execution_count": 114,
   "id": "740da4d9",
   "metadata": {
    "ExecuteTime": {
     "end_time": "2021-05-03T10:15:11.579714Z",
     "start_time": "2021-05-03T10:15:11.576598Z"
    }
   },
   "outputs": [
    {
     "name": "stdout",
     "output_type": "stream",
     "text": [
      "a _  _  _  _ \n"
     ]
    }
   ],
   "source": [
    "def blank(word):\n",
    "    w = 'apple'\n",
    "    b_word = w[0]+(len(w)-1)*\" _ \"\n",
    "    print(b_word)\n",
    "blank('word')\n"
   ]
  },
  {
   "cell_type": "markdown",
   "id": "5e7078b6",
   "metadata": {},
   "source": [
    "# compete the code below (skipped becz not able to do)"
   ]
  },
  {
   "cell_type": "markdown",
   "id": "6f01452f",
   "metadata": {},
   "source": [
    "# write a map function which calculate the list multiple of 5: eg: x == [ 2, 3, 4, 5, 6] y == [10, 15, 20, 25, 30]"
   ]
  },
  {
   "cell_type": "code",
   "execution_count": 130,
   "id": "3a6bbef8",
   "metadata": {
    "ExecuteTime": {
     "end_time": "2021-05-03T10:20:47.889117Z",
     "start_time": "2021-05-03T10:20:47.885512Z"
    }
   },
   "outputs": [
    {
     "data": {
      "text/plain": [
       "[10, 15, 20, 25, 30]"
      ]
     },
     "execution_count": 130,
     "metadata": {},
     "output_type": "execute_result"
    }
   ],
   "source": [
    "multiple_of_5 = list(map(lambda x : x*5, [2,3,4,5,6]))\n",
    "multiple_of_5"
   ]
  },
  {
   "cell_type": "markdown",
   "id": "0a7f83f0",
   "metadata": {},
   "source": [
    "# write a map function which multiply the odd values by 5 and add them to the list"
   ]
  },
  {
   "cell_type": "code",
   "execution_count": 131,
   "id": "501b5e9e",
   "metadata": {
    "ExecuteTime": {
     "end_time": "2021-05-03T10:20:48.548309Z",
     "start_time": "2021-05-03T10:20:48.544923Z"
    }
   },
   "outputs": [
    {
     "name": "stdout",
     "output_type": "stream",
     "text": [
      "[5, 15, 25, 35, 45]\n"
     ]
    }
   ],
   "source": [
    "a= list(map(lambda x: x%2!=0 and x*5, range(10)))\n",
    "print(sorted(a[::-2]))"
   ]
  },
  {
   "cell_type": "markdown",
   "id": "15c744dc",
   "metadata": {},
   "source": [
    "#  write a map function to get: x=[2,3,4] y=[4,5] ans: z=[[6,7],[7,8],[8,9]]"
   ]
  },
  {
   "cell_type": "code",
   "execution_count": 132,
   "id": "b3de0539",
   "metadata": {
    "ExecuteTime": {
     "end_time": "2021-05-03T10:20:49.165199Z",
     "start_time": "2021-05-03T10:20:49.160550Z"
    }
   },
   "outputs": [
    {
     "name": "stdout",
     "output_type": "stream",
     "text": [
      "The z list :  [[6, 7], [7, 8], [8, 9]]\n"
     ]
    }
   ],
   "source": [
    "get_sum = lambda x : [x+i for i in y]\n",
    "y = [4,5]\n",
    "z = list(map(get_sum, [2,3,4]))\n",
    "print(\"The z list : \", z)"
   ]
  },
  {
   "cell_type": "markdown",
   "id": "abf2dcd5",
   "metadata": {},
   "source": [
    "# write a function to convert a z list to 1d list : use reduce"
   ]
  },
  {
   "cell_type": "code",
   "execution_count": 133,
   "id": "bc5b25c5",
   "metadata": {
    "ExecuteTime": {
     "end_time": "2021-05-03T10:20:49.747837Z",
     "start_time": "2021-05-03T10:20:49.743794Z"
    }
   },
   "outputs": [
    {
     "data": {
      "text/plain": [
       "[6, 7, 7, 8, 8, 9]"
      ]
     },
     "execution_count": 133,
     "metadata": {},
     "output_type": "execute_result"
    }
   ],
   "source": [
    "from functools import reduce\n",
    "\n",
    "one_d_list = list(reduce(lambda x,y:x+y, z))\n",
    "one_d_list"
   ]
  },
  {
   "cell_type": "markdown",
   "id": "4e95a589",
   "metadata": {},
   "source": [
    "# write a function to convert a z list to 1d list : use reduce"
   ]
  },
  {
   "cell_type": "code",
   "execution_count": 134,
   "id": "a3fd7674",
   "metadata": {
    "ExecuteTime": {
     "end_time": "2021-05-03T10:20:51.236176Z",
     "start_time": "2021-05-03T10:20:51.231557Z"
    }
   },
   "outputs": [
    {
     "data": {
      "text/plain": [
       "[6, 7, 7, 8, 8, 9]"
      ]
     },
     "execution_count": 134,
     "metadata": {},
     "output_type": "execute_result"
    }
   ],
   "source": [
    "from functools import reduce\n",
    "\n",
    "one_d_list = list(reduce(lambda x,y:x+y, z))\n",
    "one_d_list"
   ]
  },
  {
   "cell_type": "markdown",
   "id": "95fde92c",
   "metadata": {},
   "source": [
    "# write a function using a type annotations which take a two vector a and b which calculate the vector sum eg: [1,2,3]+[4,5,6]=[5,7,9]"
   ]
  },
  {
   "cell_type": "code",
   "execution_count": 135,
   "id": "9e48cf0d",
   "metadata": {
    "ExecuteTime": {
     "end_time": "2021-05-03T10:20:53.224914Z",
     "start_time": "2021-05-03T10:20:53.218890Z"
    }
   },
   "outputs": [
    {
     "data": {
      "text/plain": [
       "[5, 7, 9]"
      ]
     },
     "execution_count": 135,
     "metadata": {},
     "output_type": "execute_result"
    }
   ],
   "source": [
    "from typing import List\n",
    "Vector = List[float]\n",
    "def add(a: Vector, b: Vector) -> Vector:\n",
    "    return [a + b for a, b in zip(a,b)]\n",
    "\n",
    "# typechecks; a list of floats qualifies as a Vector.\n",
    "new_vector = add([1,2,3],[4,5,6])\n",
    "new_vector"
   ]
  },
  {
   "cell_type": "markdown",
   "id": "544fe13b",
   "metadata": {},
   "source": [
    "# Write a function which using a type annotation to calculate te dot product of two vector. eg: [1,2,3]+[4,5,6]=32"
   ]
  },
  {
   "cell_type": "code",
   "execution_count": 129,
   "id": "e40ef858",
   "metadata": {
    "ExecuteTime": {
     "end_time": "2021-05-03T10:20:36.976651Z",
     "start_time": "2021-05-03T10:20:36.965623Z"
    }
   },
   "outputs": [
    {
     "ename": "TypeError",
     "evalue": "'int' object is not callable",
     "output_type": "error",
     "traceback": [
      "\u001b[0;31m---------------------------------------------------------------------------\u001b[0m",
      "\u001b[0;31mTypeError\u001b[0m                                 Traceback (most recent call last)",
      "\u001b[0;32m<ipython-input-129-faa6f47cd7f5>\u001b[0m in \u001b[0;36m<module>\u001b[0;34m\u001b[0m\n\u001b[1;32m      4\u001b[0m     \u001b[0;32mreturn\u001b[0m \u001b[0;34m(\u001b[0m\u001b[0msum\u001b[0m\u001b[0;34m(\u001b[0m\u001b[0;34m[\u001b[0m\u001b[0mx\u001b[0m\u001b[0;34m*\u001b[0m\u001b[0my\u001b[0m \u001b[0;32mfor\u001b[0m \u001b[0mx\u001b[0m\u001b[0;34m,\u001b[0m\u001b[0my\u001b[0m \u001b[0;32min\u001b[0m \u001b[0mzip\u001b[0m\u001b[0;34m(\u001b[0m\u001b[0mv1\u001b[0m\u001b[0;34m,\u001b[0m\u001b[0mv2\u001b[0m\u001b[0;34m)\u001b[0m\u001b[0;34m]\u001b[0m\u001b[0;34m)\u001b[0m\u001b[0;34m)\u001b[0m\u001b[0;34m\u001b[0m\u001b[0;34m\u001b[0m\u001b[0m\n\u001b[1;32m      5\u001b[0m \u001b[0;34m\u001b[0m\u001b[0m\n\u001b[0;32m----> 6\u001b[0;31m \u001b[0mdot_product\u001b[0m\u001b[0;34m(\u001b[0m\u001b[0;34m[\u001b[0m\u001b[0;36m1\u001b[0m\u001b[0;34m,\u001b[0m\u001b[0;36m2\u001b[0m\u001b[0;34m,\u001b[0m\u001b[0;36m3\u001b[0m\u001b[0;34m]\u001b[0m\u001b[0;34m,\u001b[0m \u001b[0;34m[\u001b[0m\u001b[0;36m4\u001b[0m\u001b[0;34m,\u001b[0m\u001b[0;36m5\u001b[0m\u001b[0;34m,\u001b[0m\u001b[0;36m6\u001b[0m\u001b[0;34m]\u001b[0m\u001b[0;34m)\u001b[0m\u001b[0;34m\u001b[0m\u001b[0;34m\u001b[0m\u001b[0m\n\u001b[0m",
      "\u001b[0;32m<ipython-input-129-faa6f47cd7f5>\u001b[0m in \u001b[0;36mdot_product\u001b[0;34m(v1, v2)\u001b[0m\n\u001b[1;32m      2\u001b[0m \u001b[0mv2\u001b[0m \u001b[0;34m=\u001b[0m \u001b[0;34m[\u001b[0m\u001b[0;36m4\u001b[0m\u001b[0;34m,\u001b[0m\u001b[0;36m5\u001b[0m\u001b[0;34m,\u001b[0m\u001b[0;36m6\u001b[0m\u001b[0;34m]\u001b[0m\u001b[0;34m\u001b[0m\u001b[0;34m\u001b[0m\u001b[0m\n\u001b[1;32m      3\u001b[0m \u001b[0;32mdef\u001b[0m \u001b[0mdot_product\u001b[0m\u001b[0;34m(\u001b[0m\u001b[0mv1\u001b[0m \u001b[0;34m:\u001b[0m \u001b[0mVector\u001b[0m\u001b[0;34m,\u001b[0m \u001b[0mv2\u001b[0m \u001b[0;34m:\u001b[0m \u001b[0mVector\u001b[0m\u001b[0;34m)\u001b[0m\u001b[0;34m->\u001b[0m\u001b[0mVector\u001b[0m\u001b[0;34m:\u001b[0m\u001b[0;34m\u001b[0m\u001b[0;34m\u001b[0m\u001b[0m\n\u001b[0;32m----> 4\u001b[0;31m     \u001b[0;32mreturn\u001b[0m \u001b[0;34m(\u001b[0m\u001b[0msum\u001b[0m\u001b[0;34m(\u001b[0m\u001b[0;34m[\u001b[0m\u001b[0mx\u001b[0m\u001b[0;34m*\u001b[0m\u001b[0my\u001b[0m \u001b[0;32mfor\u001b[0m \u001b[0mx\u001b[0m\u001b[0;34m,\u001b[0m\u001b[0my\u001b[0m \u001b[0;32min\u001b[0m \u001b[0mzip\u001b[0m\u001b[0;34m(\u001b[0m\u001b[0mv1\u001b[0m\u001b[0;34m,\u001b[0m\u001b[0mv2\u001b[0m\u001b[0;34m)\u001b[0m\u001b[0;34m]\u001b[0m\u001b[0;34m)\u001b[0m\u001b[0;34m)\u001b[0m\u001b[0;34m\u001b[0m\u001b[0;34m\u001b[0m\u001b[0m\n\u001b[0m\u001b[1;32m      5\u001b[0m \u001b[0;34m\u001b[0m\u001b[0m\n\u001b[1;32m      6\u001b[0m \u001b[0mdot_product\u001b[0m\u001b[0;34m(\u001b[0m\u001b[0;34m[\u001b[0m\u001b[0;36m1\u001b[0m\u001b[0;34m,\u001b[0m\u001b[0;36m2\u001b[0m\u001b[0;34m,\u001b[0m\u001b[0;36m3\u001b[0m\u001b[0;34m]\u001b[0m\u001b[0;34m,\u001b[0m \u001b[0;34m[\u001b[0m\u001b[0;36m4\u001b[0m\u001b[0;34m,\u001b[0m\u001b[0;36m5\u001b[0m\u001b[0;34m,\u001b[0m\u001b[0;36m6\u001b[0m\u001b[0;34m]\u001b[0m\u001b[0;34m)\u001b[0m\u001b[0;34m\u001b[0m\u001b[0;34m\u001b[0m\u001b[0m\n",
      "\u001b[0;31mTypeError\u001b[0m: 'int' object is not callable"
     ]
    }
   ],
   "source": [
    "v1 = [1,2,3]\n",
    "v2 = [4,5,6]\n",
    "def dot_product(v1 : Vector, v2 : Vector)->Vector:\n",
    "    return (sum([x*y for x,y in zip(v1,v2)]))\n",
    "\n",
    "dot_product([1,2,3], [4,5,6])"
   ]
  },
  {
   "cell_type": "markdown",
   "id": "aafacb63",
   "metadata": {},
   "source": [
    "# write a function to calculate the sum of vector which take a list of vector using type annotation eg:[1,2],[3,4],[5,6]=[9,12]"
   ]
  },
  {
   "cell_type": "code",
   "execution_count": 128,
   "id": "9320b064",
   "metadata": {
    "ExecuteTime": {
     "end_time": "2021-05-03T10:19:49.690834Z",
     "start_time": "2021-05-03T10:19:49.686875Z"
    }
   },
   "outputs": [
    {
     "name": "stdout",
     "output_type": "stream",
     "text": [
      "[9, 12]\n"
     ]
    }
   ],
   "source": [
    "# Pasha\n",
    "from typing import List, Union\n",
    "Vector = List[Union[int, float]]\n",
    "\n",
    "def sum_vector_list(li: List[Vector]) -> Vector:\n",
    "    def sum_2_vectors(a: Vector, b: Vector) -> Vector:\n",
    "        return [a[i] + b[i] for i in range(len(a))]\n",
    "    return reduce(sum_2_vectors, li)\n",
    "\n",
    "print(sum_vector_list([[1,2], [3,4], [5,6]]))\n"
   ]
  },
  {
   "cell_type": "markdown",
   "id": "a440458c",
   "metadata": {},
   "source": [
    "# write a function to get the shape of a matrix also use type annotation: eg:[[1,2],[2,3]]=(2,2)"
   ]
  },
  {
   "cell_type": "code",
   "execution_count": 152,
   "id": "ed8fe1b8",
   "metadata": {
    "ExecuteTime": {
     "end_time": "2021-05-03T10:31:29.523252Z",
     "start_time": "2021-05-03T10:31:29.515722Z"
    }
   },
   "outputs": [
    {
     "name": "stdout",
     "output_type": "stream",
     "text": [
      "2 2\n"
     ]
    },
    {
     "ename": "TypeError",
     "evalue": "'NoneType' object is not iterable",
     "output_type": "error",
     "traceback": [
      "\u001b[0;31m---------------------------------------------------------------------------\u001b[0m",
      "\u001b[0;31mTypeError\u001b[0m                                 Traceback (most recent call last)",
      "\u001b[0;32m<ipython-input-152-c339c1992875>\u001b[0m in \u001b[0;36m<module>\u001b[0;34m\u001b[0m\n\u001b[1;32m      6\u001b[0m \u001b[0mb\u001b[0m \u001b[0;34m=\u001b[0m \u001b[0mshape\u001b[0m\u001b[0;34m(\u001b[0m\u001b[0;34m[\u001b[0m\u001b[0;34m[\u001b[0m\u001b[0;36m1\u001b[0m\u001b[0;34m,\u001b[0m\u001b[0;36m2\u001b[0m\u001b[0;34m]\u001b[0m\u001b[0;34m,\u001b[0m\u001b[0;34m[\u001b[0m\u001b[0;36m2\u001b[0m\u001b[0;34m,\u001b[0m\u001b[0;36m3\u001b[0m\u001b[0;34m]\u001b[0m\u001b[0;34m]\u001b[0m\u001b[0;34m)\u001b[0m\u001b[0;34m\u001b[0m\u001b[0;34m\u001b[0m\u001b[0m\n\u001b[1;32m      7\u001b[0m \u001b[0mb\u001b[0m\u001b[0;34m\u001b[0m\u001b[0;34m\u001b[0m\u001b[0m\n\u001b[0;32m----> 8\u001b[0;31m \u001b[0mc\u001b[0m \u001b[0;34m=\u001b[0m \u001b[0mtuple\u001b[0m\u001b[0;34m(\u001b[0m\u001b[0mb\u001b[0m\u001b[0;34m)\u001b[0m\u001b[0;34m\u001b[0m\u001b[0;34m\u001b[0m\u001b[0m\n\u001b[0m\u001b[1;32m      9\u001b[0m \u001b[0mprint\u001b[0m\u001b[0;34m(\u001b[0m\u001b[0mc\u001b[0m\u001b[0;34m)\u001b[0m\u001b[0;34m\u001b[0m\u001b[0;34m\u001b[0m\u001b[0m\n",
      "\u001b[0;31mTypeError\u001b[0m: 'NoneType' object is not iterable"
     ]
    }
   ],
   "source": [
    "from typing import Tuple\n",
    "def shape( a : Tuple[float])->Tuple:\n",
    "  row = len(a)\n",
    "  column = len(a[0])\n",
    "  print(row, column)\n",
    "b = shape([[1,2],[2,3]])\n",
    "b\n"
   ]
  },
  {
   "cell_type": "markdown",
   "id": "007928bb",
   "metadata": {},
   "source": [
    "# write a functions to create a matrix and used function to create a 3*3 identity matrix : hint:use a Callable from typing"
   ]
  },
  {
   "cell_type": "code",
   "execution_count": 146,
   "id": "669ed3f9",
   "metadata": {
    "ExecuteTime": {
     "end_time": "2021-05-03T10:27:30.635185Z",
     "start_time": "2021-05-03T10:27:30.629720Z"
    }
   },
   "outputs": [
    {
     "data": {
      "text/plain": [
       "[[1, 0, 0], [0, 1, 0], [0, 0, 1]]"
      ]
     },
     "execution_count": 146,
     "metadata": {},
     "output_type": "execute_result"
    }
   ],
   "source": [
    "from typing import Callable\n",
    "def make_matrix(num_rows: int,\n",
    "                num_cols: int,\n",
    "                entry_fn: Callable[[int, int], float]) -> Matrix:\n",
    "\n",
    "    return [[entry_fn(i,j)            # given i, create a list\n",
    "            for j in range(num_cols)] # [entry_fn(i, 0), ...]\n",
    "            for i in range(num_rows)] # create one list for each i\n",
    "\n",
    "def identity_matrix(n: int) -> Matrix:\n",
    "    \"\"\"Returns the n x n identity matrix\"\"\"\n",
    "    return make_matrix(n, n, lambda i, j: 1 if i == j else 0)\n",
    "identity_matrix(3)"
   ]
  },
  {
   "cell_type": "markdown",
   "id": "bbc0b861",
   "metadata": {},
   "source": [
    "# follow the link https://www.willamette.edu/~gorr/classes/cs449/reber.html and try to generate a embedded reber grammar as shown in fig 2. HINT: -first create a list of list of tuple of reber_ grammar\n",
    "\n",
    "the node and edges are:\n",
    "\n",
    "B=1,T=2, P=3, S=2,X=4,T=3,V=5,X=3,S=6,P=4,V=6,E=None\n",
    "\n",
    "create a list of tuple of (edge,Node)\n",
    "\n",
    "eg:[[(\"B\",1)], [(),()]]\n",
    "\n",
    "after that crete a list as shown in graph in figure 2\n",
    "\n",
    "---skipped---"
   ]
  },
  {
   "cell_type": "markdown",
   "id": "d358169c",
   "metadata": {},
   "source": [
    "# write a function to generate a password :\n",
    "- password should have a number,special_char,alphabet(both capital and small)\n",
    "- allow user to input the length of password"
   ]
  },
  {
   "cell_type": "code",
   "execution_count": null,
   "id": "db8d4575",
   "metadata": {
    "ExecuteTime": {
     "end_time": "2021-05-01T14:34:09.815381Z",
     "start_time": "2021-05-01T14:33:38.261Z"
    }
   },
   "outputs": [],
   "source": [
    "import string, random\n",
    "string.printable\n",
    "\n",
    "def password_generator(num):\n",
    "  password = \"\"\n",
    "  for i in range(num):\n",
    "    x = random.randint(0, 94)\n",
    "    password+=string.printable[x]\n",
    "  return password\n",
    "# Set any length of password , here did with 10\n",
    "print(password_generator(10))\n"
   ]
  },
  {
   "cell_type": "markdown",
   "id": "6106a525",
   "metadata": {},
   "source": [
    "# write a function to get the integers satisfying a2+b2=c2 called Pythagorean numbers.\n",
    "the function take a input from a user with a maximal number: eg: if user give: 5 it should print (3,4) similarly:10 3 ,4 6,8"
   ]
  },
  {
   "cell_type": "code",
   "execution_count": null,
   "id": "90992622",
   "metadata": {
    "ExecuteTime": {
     "end_time": "2021-05-01T14:34:09.816033Z",
     "start_time": "2021-05-01T14:33:38.264Z"
    }
   },
   "outputs": [],
   "source": [
    "def pithagoren_num(n):\n",
    "  if n>0:\n",
    "    for i in range(1, n-1):\n",
    "      for j in range(i+1, n):\n",
    "        for k in range(j+1, n+1):\n",
    "          if i*i + j*j == k*k:\n",
    "            print(i,j,k)\n",
    "            \n",
    "  else:\n",
    "    print(\"wrong number!\")\n",
    "m = int(input(\"please enter the integer number : \"))\n",
    "\n",
    "print(pithagoren_num(m))"
   ]
  },
  {
   "cell_type": "code",
   "execution_count": 155,
   "id": "1d871628",
   "metadata": {
    "ExecuteTime": {
     "end_time": "2021-05-03T10:56:06.240625Z",
     "start_time": "2021-05-03T10:56:06.236375Z"
    }
   },
   "outputs": [
    {
     "name": "stdout",
     "output_type": "stream",
     "text": [
      "The pythagorian numbers giving 5 and 10 are :\n",
      " [[(3, 4)], [(6, 8)]]\n"
     ]
    }
   ],
   "source": [
    "pyth_nos = lambda z : [(y,x) for x in range(z) for y in range(x) if x**2+y**2==z**2]\n",
    "print(\"The pythagorian numbers giving 5 and 10 are :\\n\", list(map(pyth_nos, [5,10])))\n"
   ]
  },
  {
   "cell_type": "markdown",
   "id": "f5ba93cd",
   "metadata": {},
   "source": [
    "# write a program to guess a random number between range 1 to n\n",
    "\n",
    "- hint use random.randit() to generate a random number\n",
    "- the program should have upper bound and lower bound eg(1-30)\n",
    "- if user give 0 should exit the program\n",
    "- if the guess is less thean lower or grater than upper (\"not in boundary)"
   ]
  },
  {
   "cell_type": "code",
   "execution_count": 84,
   "id": "7933a7ca",
   "metadata": {
    "ExecuteTime": {
     "end_time": "2021-05-01T15:03:29.514802Z",
     "start_time": "2021-05-01T15:03:25.462799Z"
    }
   },
   "outputs": [
    {
     "name": "stdout",
     "output_type": "stream",
     "text": [
      "Enter your guess: 5\n",
      "Your Guess is in the boundary!\n"
     ]
    }
   ],
   "source": [
    "import random\n",
    "random_number = random.randint(1,10)\n",
    "boundary_upper = random_number + 2\n",
    "boundary_lower = random_number - 2\n",
    "while(1):\n",
    "    guess = int(input('Enter your guess: '))\n",
    "    if (guess== 0):\n",
    "        print('You entered 0, Programm Terminated')\n",
    "        break\n",
    "        \n",
    "    elif (boundary_lower<= guess <= boundary_upper):\n",
    "        print('Your Guess is in the boundary!')\n",
    "        break\n",
    "    else:\n",
    "        print('Not in Boundary. Try Again!')"
   ]
  },
  {
   "cell_type": "code",
   "execution_count": 156,
   "id": "31dc4b57",
   "metadata": {
    "ExecuteTime": {
     "end_time": "2021-05-03T10:59:17.848671Z",
     "start_time": "2021-05-03T10:58:58.901157Z"
    }
   },
   "outputs": [
    {
     "name": "stdout",
     "output_type": "stream",
     "text": [
      "Choose lower bound: 1\n",
      "Choose upper bound: 10\n",
      "\n",
      "You have 5 chances to guess the integer!\n",
      "\n",
      "Take your guess: 5\n",
      "Not quite... Try something lower.\n",
      "\n",
      "Take your guess: 5\n",
      "Not quite... Try something lower.\n",
      "\n",
      "Take your guess: 5\n",
      "Not quite... Try something lower.\n",
      "\n",
      "Take your guess: 5\n",
      "Not quite... Try something lower.\n",
      "\n",
      "Take your guess: 2\n",
      "Not quite... Try something higher.\n",
      "Too bad - the number was 3\n"
     ]
    }
   ],
   "source": [
    "import random\n",
    "lb=int(input(\"Choose lower bound: \"))\n",
    "ub=int(input(\"Choose upper bound: \"))\n",
    "r=random.randint(lb, ub)\n",
    "print(\"\\nYou have 5 chances to guess the integer!\")\n",
    "count=0\n",
    "while count<5:\n",
    "    count +=1\n",
    "    guess=int(input(\"\\nTake your guess: \"))\n",
    "    if r==guess:\n",
    "        if count == 1:\n",
    "            print(f\"\\nWow!! You guessed it in {count} try! Amazing!\")\n",
    "        else:\n",
    "            print(f\"\\nYou guessed it in {count} tries!\")\n",
    "        break\n",
    "    if guess==0:\n",
    "        print(\"\\nNever guess 0! This is the end of your game!\")\n",
    "        break\n",
    "    if guess<lb:\n",
    "        print(\"Outside set boundaries! Try a higher number!\")\n",
    "    if guess>ub:\n",
    "        print(\"Outside set boundaries! Try a lower number!\")\n",
    "    if guess > r:\n",
    "        print(\"Not quite... Try something lower.\")\n",
    "    if guess < r:\n",
    "        print(\"Not quite... Try something higher.\")\n",
    "if count>= 5:\n",
    "    print(f\"Too bad - the number was {r}\")\n"
   ]
  },
  {
   "cell_type": "markdown",
   "id": "37d4fbc8",
   "metadata": {},
   "source": [
    "# Write a function which takes a text and encrypts it with a Caesar cipher as well as decrypt.(https://en.wikipedia.org/wiki/Caesar_cipher) .\n",
    "\n",
    "- input:\"hello\",\n",
    "- output: encrypt:EBIIL\n",
    "- decyprt: HELLO"
   ]
  },
  {
   "cell_type": "code",
   "execution_count": 85,
   "id": "f56781ea",
   "metadata": {
    "ExecuteTime": {
     "end_time": "2021-05-01T15:03:58.572684Z",
     "start_time": "2021-05-01T15:03:58.565107Z"
    }
   },
   "outputs": [
    {
     "name": "stdout",
     "output_type": "stream",
     "text": [
      "ebiil\n",
      "hello\n"
     ]
    }
   ],
   "source": [
    "import string, random\n",
    "def encrypted_output(word):\n",
    "    a = (string.printable[10:36])\n",
    "    word_new = ''\n",
    "    for i in word:\n",
    "        word_new = word_new + a[a.find(i)-3]\n",
    "    return (word_new)\n",
    "\n",
    "def decrypted_output(word):\n",
    "    a = (string.printable[10:36])\n",
    "    word_new = ''\n",
    "    for i in word:\n",
    "        word_new = word_new + a[a.find(i)+3]\n",
    "    return (word_new)\n",
    "encrypted_output = encrypted_output('hello')\n",
    "decrypted_output = decrypted_output(encrypted_output)\n",
    "print(encrypted_output)\n",
    "print(decrypted_output)"
   ]
  },
  {
   "cell_type": "markdown",
   "id": "972f8958",
   "metadata": {},
   "source": [
    "# write a function which take a text and dictionary to decrypt or encrypt the text with a permutated alphabet hint:\n",
    "\n",
    "alphabet=strings.ascii_letters\n",
    "permuted=(from random use sample on alphabet and its length)\n",
    "create a variable :\n",
    "encrypt which is a dic of (alphabet and permuted)\n",
    "decrypt which is a dic(permuted and alphabet)"
   ]
  },
  {
   "cell_type": "markdown",
   "id": "3272b23a",
   "metadata": {},
   "source": [
    "# Write a function which translates a text to morse code- (https://www.alamy.com/international-morse-code-letters-template-for-your-design-image271353887.html)\n",
    "\n",
    "Write another function  which translates a string in Morse code into a \"normal“ string.\n",
    "\n",
    "- hint\n",
    "- create a dic of letter and its morse code:\n",
    "\n",
    "`eg:{'A':'.-', 'B':'-...', 'C':'-.-.', 'D':'-..', \n",
    "      'E':'.', 'F':'..-.', 'G':'--.','H':'....', }`"
   ]
  },
  {
   "cell_type": "code",
   "execution_count": 86,
   "id": "622b85d0",
   "metadata": {
    "ExecuteTime": {
     "end_time": "2021-05-01T15:04:50.315380Z",
     "start_time": "2021-05-01T15:04:50.309027Z"
    }
   },
   "outputs": [
    {
     "data": {
      "text/plain": [
       "' .- -... -.-.'"
      ]
     },
     "execution_count": 86,
     "metadata": {},
     "output_type": "execute_result"
    }
   ],
   "source": [
    "def morse_code_generator(text):\n",
    "    generated_code = ''\n",
    "    morse_code_dict = { 'A':'.-', 'B':'-...',\n",
    "                    'C':'-.-.', 'D':'-..', 'E':'.',\n",
    "                    'F':'..-.', 'G':'--.', 'H':'....',\n",
    "                    'I':'..', 'J':'.---', 'K':'-.-',\n",
    "                    'L':'.-..', 'M':'--', 'N':'-.',\n",
    "                    'O':'---', 'P':'.--.', 'Q':'--.-',\n",
    "                    'R':'.-.', 'S':'...', 'T':'-',\n",
    "                    'U':'..-', 'V':'...-', 'W':'.--',\n",
    "                    'X':'-..-', 'Y':'-.--', 'Z':'--..',\n",
    "                    '1':'.----', '2':'..---', '3':'...--',\n",
    "                    '4':'....-', '5':'.....', '6':'-....',\n",
    "                    '7':'--...', '8':'---..', '9':'----.',\n",
    "                    '0':'-----', ', ':'--..--', '.':'.-.-.-',\n",
    "                    '?':'..--..', '/':'-..-.', '-':'-....-',\n",
    "                    '(':'-.--.', ')':'-.--.-'} \n",
    "    for i in text:\n",
    "        generated_code = generated_code + ' ' + morse_code_dict[i.upper()]\n",
    "    return generated_code\n",
    "morse_code_generator('abc')\n"
   ]
  },
  {
   "cell_type": "markdown",
   "id": "757aa44d",
   "metadata": {},
   "source": [
    "# Write a program to calculate the square root of a number by using the Babylonian method.(https://en.wikipedia.org/wiki/Methods_of_computing_square_roots)"
   ]
  },
  {
   "cell_type": "code",
   "execution_count": 158,
   "id": "4f0820a5",
   "metadata": {
    "ExecuteTime": {
     "end_time": "2021-05-03T11:07:00.246100Z",
     "start_time": "2021-05-03T11:07:00.242230Z"
    }
   },
   "outputs": [
    {
     "name": "stdout",
     "output_type": "stream",
     "text": [
      "The Square root of 0.3 = 1.414213562373095\n"
     ]
    }
   ],
   "source": [
    "def BabylonianAlgorithm(number):\n",
    "    if(number == 0):\n",
    "        return 0;\n",
    "\n",
    "    g = number/2.0;\n",
    "    g2 = g + 1;\n",
    "    while(g != g2):\n",
    "        n = number/ g;\n",
    "        g2 = g;\n",
    "        g = (g + n)/2;\n",
    "\n",
    "    return g;\n",
    "\n",
    "print('The Square root of 0.3 =', BabylonianAlgorithm(2))"
   ]
  },
  {
   "cell_type": "markdown",
   "id": "9d25d150",
   "metadata": {},
   "source": [
    "# Write a function which take a string , a substring to look for and number of time it occur in a string.calculates the position of the n-th occurence of a string sub in another string s. If sub doesn't occur in s, -1 shall be returned.\n",
    "eg:\n",
    "```\n",
    "s = \"hello this a new call hello class\"\n",
    "print(find_nth_occurance(s,\"hello\", 2))\n",
    "```"
   ]
  },
  {
   "cell_type": "code",
   "execution_count": 88,
   "id": "8ec95c5b",
   "metadata": {
    "ExecuteTime": {
     "end_time": "2021-05-01T15:06:02.612586Z",
     "start_time": "2021-05-01T15:06:02.609339Z"
    }
   },
   "outputs": [
    {
     "name": "stdout",
     "output_type": "stream",
     "text": [
      "sub string occured in the string for : -1 many times\n"
     ]
    }
   ],
   "source": [
    "def find_nth_occurance(string,sub_string):\n",
    "    count = string.count(sub_string)\n",
    "    if (count == 0):\n",
    "        return -1\n",
    "    else:\n",
    "        return count\n",
    "        \n",
    "string = \"hello this a new call hello class\"\n",
    "sub_string = \"helo\"\n",
    "print(f\"sub string occured in the string for : {find_nth_occurance(string,sub_string)} many times\")"
   ]
  },
  {
   "cell_type": "markdown",
   "id": "e8ee1b80",
   "metadata": {},
   "source": [
    "# write a recursive function for f(n) = 7 * n, i.e. the multiples of 7"
   ]
  },
  {
   "cell_type": "code",
   "execution_count": 159,
   "id": "49bf7157",
   "metadata": {
    "ExecuteTime": {
     "end_time": "2021-05-03T11:10:53.311167Z",
     "start_time": "2021-05-03T11:10:49.067533Z"
    }
   },
   "outputs": [
    {
     "name": "stdout",
     "output_type": "stream",
     "text": [
      "Enter the number : 7\n",
      "7\n",
      "14\n",
      "21\n",
      "28\n",
      "35\n",
      "42\n",
      "49\n"
     ]
    }
   ],
   "source": [
    "# sushree sol\n",
    "def recurcive(n):\n",
    "    if n==1:\n",
    "        return 7\n",
    "    else:\n",
    "        return recurcive(n-1)+7\n",
    "    \n",
    "number =int(input(\"Enter the number : \"))\n",
    "for i in range(1,number+1):\n",
    "    print(recurcive(i))\n"
   ]
  },
  {
   "cell_type": "markdown",
   "id": "97c90de4",
   "metadata": {},
   "source": [
    "# Write a function which implements the Pascal's triangle use recursion:(https://www.mathsisfun.com/pascals-triangle.html#:~:text=One%20of%20the%20most%20interesting,directly%20above%20it%20added%20together.)"
   ]
  },
  {
   "cell_type": "code",
   "execution_count": 160,
   "id": "5a5c0d15",
   "metadata": {
    "ExecuteTime": {
     "end_time": "2021-05-03T11:11:39.004515Z",
     "start_time": "2021-05-03T11:11:38.998656Z"
    }
   },
   "outputs": [
    {
     "data": {
      "text/plain": [
       "[[1], [1, 1], [1, 2, 1], [1, 3, 3, 1], [1, 4, 6, 4, 1]]"
      ]
     },
     "execution_count": 160,
     "metadata": {},
     "output_type": "execute_result"
    }
   ],
   "source": [
    "def triangle(n):\n",
    "    if n == 0:\n",
    "        return []\n",
    "    elif n == 1:\n",
    "        return [[1]]\n",
    "    else:\n",
    "        new_row = [1]\n",
    "        result = triangle(n-1)\n",
    "        last_row = result[-1]\n",
    "        for i in range(len(last_row)-1):\n",
    "            new_row.append(last_row[i] + last_row[i+1])\n",
    "        new_row += [1]\n",
    "        result.append(new_row)\n",
    "    return result\n",
    "triangle(5)\n"
   ]
  },
  {
   "cell_type": "markdown",
   "id": "cd633a38",
   "metadata": {},
   "source": [
    "# Write a recursive program to calculate the Fibonacci numbers, using Pascal's triangle."
   ]
  },
  {
   "cell_type": "code",
   "execution_count": 162,
   "id": "024c3a7e",
   "metadata": {
    "ExecuteTime": {
     "end_time": "2021-05-03T11:12:56.061985Z",
     "start_time": "2021-05-03T11:12:56.055814Z"
    }
   },
   "outputs": [
    {
     "name": "stdout",
     "output_type": "stream",
     "text": [
      "[[1], [1, 1], [1, 2, 1], [1, 3, 3, 1], [1, 4, 6, 4, 1]]\n"
     ]
    }
   ],
   "source": [
    "def triangle(n):\n",
    "    if n == 0:\n",
    "        return []\n",
    "    elif n == 1:\n",
    "        return [[1]]\n",
    "    else:\n",
    "        new_row = [1]\n",
    "        result = triangle(n-1)\n",
    "        last_row = result[-1]\n",
    "        for i in range(len(last_row)-1):\n",
    "            new_row.append(last_row[i] + last_row[i+1])\n",
    "        new_row += [1]\n",
    "        result.append(new_row)\n",
    "    return result\n",
    "a = triangle(5)\n",
    "\n",
    "def fibonacci_numbers(a):\n",
    "    number = []\n",
    "    for i in range(len(a)) :\n",
    "        number.append(a[i])\n",
    "    print(number)\n",
    "fibonacci_numbers(a)"
   ]
  },
  {
   "cell_type": "markdown",
   "id": "699d28f5",
   "metadata": {},
   "source": [
    "# write a fuction to check if the given data type are iterable or not ?"
   ]
  },
  {
   "cell_type": "code",
   "execution_count": 97,
   "id": "160aa5dd",
   "metadata": {
    "ExecuteTime": {
     "end_time": "2021-05-01T15:10:03.218594Z",
     "start_time": "2021-05-01T15:10:03.215481Z"
    }
   },
   "outputs": [
    {
     "name": "stdout",
     "output_type": "stream",
     "text": [
      "A is iterable\n",
      "not iterable\n"
     ]
    }
   ],
   "source": [
    "def iterable_finder(a):\n",
    "    \n",
    "    try:\n",
    "        x = [x for x in a]\n",
    "        print('A is iterable')\n",
    "    except:\n",
    "        print('not iterable')\n",
    "iterable_finder([1,1,1])\n",
    "iterable_finder(1)"
   ]
  },
  {
   "cell_type": "markdown",
   "id": "6cdf43ae",
   "metadata": {},
   "source": [
    "# Write a generator  which computes the running average.\n",
    "```\n",
    "    eg:[1,2,3,4,5,6]\n",
    "        1-->1\n",
    "        2---->1.50\n",
    "        3----->2\n",
    "        4----->2.50\n",
    "        5---->3\n",
    "        6---->3.50\n",
    " ```"
   ]
  },
  {
   "cell_type": "code",
   "execution_count": 98,
   "id": "c8c3e6c6",
   "metadata": {
    "ExecuteTime": {
     "end_time": "2021-05-01T15:10:20.288766Z",
     "start_time": "2021-05-01T15:10:20.283994Z"
    }
   },
   "outputs": [
    {
     "data": {
      "text/plain": [
       "['1 --> 1.0', '2 --> 1.5', '3 --> 2.0', '4 --> 2.5', '5 --> 3.0', '6 --> 3.5']"
      ]
     },
     "execution_count": 98,
     "metadata": {},
     "output_type": "execute_result"
    }
   ],
   "source": [
    "def running_generator(n):\n",
    "    for i in n:\n",
    "        list_container = []\n",
    "        for i in n:\n",
    "            avg = (i+1)/2\n",
    "            list_container.append((f\"{i} --> {avg}\"))\n",
    "        yield list_container\n",
    "a = running_generator([1,2,3,4,5,6])\n",
    "next(a)\n"
   ]
  },
  {
   "cell_type": "markdown",
   "id": "23285e26",
   "metadata": {},
   "source": [
    "# Write a generator which behaves like range but accepts float values."
   ]
  },
  {
   "cell_type": "code",
   "execution_count": 99,
   "id": "789b9024",
   "metadata": {
    "ExecuteTime": {
     "end_time": "2021-05-01T15:10:39.037968Z",
     "start_time": "2021-05-01T15:10:39.033918Z"
    }
   },
   "outputs": [
    {
     "data": {
      "text/plain": [
       "[1.0, 1.5, 2.0, 2.5, 3.0, 3.5, 4.0, 4.5]"
      ]
     },
     "execution_count": 99,
     "metadata": {},
     "output_type": "execute_result"
    }
   ],
   "source": [
    "def range_generator(upper_limit,lower_limit):\n",
    "    output_list = [.5*x for x in range(2*lower_limit, 2*upper_limit)]\n",
    "    yield output_list\n",
    "a = range_generator(5,1)\n",
    "next(a)"
   ]
  },
  {
   "cell_type": "markdown",
   "id": "b09bff1a",
   "metadata": {},
   "source": [
    "# Write a generator which returns  a zero or a one in every iteration. \n",
    "- The probability p for returning a 1 is defined in a variable p.\n",
    "- default value of probability=0.5. In other words,1 and 0 will be returned with the same probability."
   ]
  },
  {
   "cell_type": "code",
   "execution_count": 101,
   "id": "3837fc41",
   "metadata": {
    "ExecuteTime": {
     "end_time": "2021-05-01T15:11:27.601740Z",
     "start_time": "2021-05-01T15:11:27.595294Z"
    }
   },
   "outputs": [
    {
     "data": {
      "text/plain": [
       "[1, 0, 1, 0, 1]"
      ]
     },
     "execution_count": 101,
     "metadata": {},
     "output_type": "execute_result"
    }
   ],
   "source": [
    "def zero_one_return(n):\n",
    "    container_list=[]\n",
    "    p = .5\n",
    "    random_ = random.randint(0,int(n))\n",
    "    max_range = random.randint(0,int(n/2))\n",
    "    min_range = random.randint(0,int(n/3))\n",
    "    \n",
    "    for i in range(n):\n",
    "        if p == 0.5: # 1 nad 0's will appear in a same amount\n",
    "            if i % 2 == 0:\n",
    "                container_list.append(1)\n",
    "            else:\n",
    "                container_list.append(0)\n",
    "        if p == 0.75: #1's will be more than 0's\n",
    "            try :\n",
    "                if random_ <= i <= random_ + max_range:\n",
    "                    container_list.append(0)\n",
    "                else:\n",
    "                    container_list.append(1)\n",
    "            except:\n",
    "                if random_ - max_range <= i <= random_:\n",
    "                    container_list.append(0)\n",
    "                else:\n",
    "                    container_list.append(1)\n",
    "        elif (p == 1):\n",
    "            container_list.append(1)\n",
    "        elif (p == 0):\n",
    "            container_list.append(0)\n",
    "                        \n",
    "    yield container_list\n",
    "    \n",
    "x = zero_one_return(5)\n",
    "next(x)"
   ]
  },
  {
   "cell_type": "code",
   "execution_count": 104,
   "id": "02b6d6cd",
   "metadata": {
    "ExecuteTime": {
     "end_time": "2021-05-01T15:12:23.011933Z",
     "start_time": "2021-05-01T15:12:23.007437Z"
    }
   },
   "outputs": [
    {
     "data": {
      "text/plain": [
       "0"
      ]
     },
     "execution_count": 104,
     "metadata": {},
     "output_type": "execute_result"
    }
   ],
   "source": [
    "import random\n",
    "\n",
    "def random_ones_and_zeros():\n",
    "    p = 0.5\n",
    "    while True:\n",
    "        x = random.random()\n",
    "        message = yield 1 if x < p else 0\n",
    "        if message != None:\n",
    "            p = message\n",
    "            \n",
    "x = random_ones_and_zeros()\n",
    "next(x)"
   ]
  },
  {
   "cell_type": "code",
   "execution_count": 105,
   "id": "8cf45207",
   "metadata": {
    "ExecuteTime": {
     "end_time": "2021-05-01T15:13:00.944460Z",
     "start_time": "2021-05-01T15:13:00.938108Z"
    }
   },
   "outputs": [
    {
     "name": "stdout",
     "output_type": "stream",
     "text": [
      "\n",
      "We change the probability to : 0.2\n",
      "1 0 0 0 0 0 0 0 0 0 \n",
      "We change the probability to : 0.8\n",
      "1 0 0 1 1 1 1 0 1 1 \n"
     ]
    }
   ],
   "source": [
    "import random\n",
    "\n",
    "def random_ones_and_zeros():\n",
    "    p = 0.5\n",
    "    while True:\n",
    "        x = random.random()\n",
    "        message = yield 1 if x < p else 0\n",
    "        if message != None:\n",
    "            p = message\n",
    "            \n",
    "x = random_ones_and_zeros()\n",
    "next(x)  # we are not interested in the return value\n",
    "\n",
    "for p in [0.2, 0.8]:\n",
    "    print(\"\\nWe change the probability to : \" + str(p))\n",
    "    x.send(p)    \n",
    "    for i in range(10):\n",
    "        print(next(x), end=\" \")\n",
    "print()"
   ]
  },
  {
   "cell_type": "markdown",
   "id": "8760b605",
   "metadata": {},
   "source": [
    "# Write a generator cycle performing the same task.\n",
    "\n",
    "- cycle('ABCD') --> A B C D A B C D A B C D ..."
   ]
  },
  {
   "cell_type": "code",
   "execution_count": 106,
   "id": "8182c881",
   "metadata": {
    "ExecuteTime": {
     "end_time": "2021-05-01T15:13:03.304901Z",
     "start_time": "2021-05-01T15:13:03.300568Z"
    }
   },
   "outputs": [
    {
     "name": "stdout",
     "output_type": "stream",
     "text": [
      "ABCD\n",
      "ABCD\n",
      "ABCD\n",
      "ABCD\n"
     ]
    }
   ],
   "source": [
    "def cycle(iterable):\n",
    "    # cycle('ABCD') --> A B C D A B C D A B C D ...\n",
    "    saved = []\n",
    "    for element in iterable:\n",
    "        yield element\n",
    "        saved.append(element)\n",
    "    while saved:\n",
    "        for element in saved:\n",
    "              yield element\n",
    "                \n",
    "characters = [\"ABCD\"]\n",
    "char_iterator = cycle(characters)\n",
    "\n",
    "for i in range(4):\n",
    "    print(next(char_iterator))"
   ]
  },
  {
   "cell_type": "code",
   "execution_count": 107,
   "id": "0d1cdee4",
   "metadata": {
    "ExecuteTime": {
     "end_time": "2021-05-01T15:13:03.801565Z",
     "start_time": "2021-05-01T15:13:03.797968Z"
    }
   },
   "outputs": [
    {
     "data": {
      "text/plain": [
       "['ABCD', 'ABCD', 'ABCD', 'ABCD', 'ABCD']"
      ]
     },
     "execution_count": 107,
     "metadata": {},
     "output_type": "execute_result"
    }
   ],
   "source": [
    "import itertools\n",
    "list(itertools.repeat('ABCD',5))"
   ]
  },
  {
   "cell_type": "markdown",
   "id": "59a19c80",
   "metadata": {},
   "source": [
    "# create a list of list from the given detail below\n",
    "```\n",
    "id   product              Quantity     Price_per\n",
    "1020 iphone 12          4          1200\n",
    "2313 mac book pro       5          3200                \n",
    "1234 drone              3          900\n",
    "3212 tv                 8          500\n",
    "3213 book               3          20\n",
    "````\n",
    "\n",
    "\n",
    "Write a Python program, which returns a list with 2-tuples. Each tuple consists of a the product name and  the total price of product . The product should be increased by 10,- € if the value of the order is smaller than 100,00 €.\n",
    "Write a Python program using lambda and map."
   ]
  },
  {
   "cell_type": "code",
   "execution_count": 109,
   "id": "673d5535",
   "metadata": {
    "ExecuteTime": {
     "end_time": "2021-05-01T15:13:25.286688Z",
     "start_time": "2021-05-01T15:13:25.282033Z"
    }
   },
   "outputs": [
    {
     "name": "stdout",
     "output_type": "stream",
     "text": [
      "(('iphone 12', 4800), ('mac book pro', 16000), ('drone', 2700), ('tv', 4000), ('book', 70))\n"
     ]
    }
   ],
   "source": [
    "list_list = [\n",
    "    ['id', 'product', 'Quanlity', 'Price_per'],\n",
    "    [1020, 'iphone 12', 4, 1200],\n",
    "    [2313, 'mac book pro', 5, 3200],\n",
    "    [1234, 'drone', 3, 900],\n",
    "    [3212, 'tv', 8, 500],\n",
    "    [3213, 'book', 3, 20]\n",
    "]\n",
    "list_price = []\n",
    "tuple_output=()\n",
    "for i in range(len(list_list)):\n",
    "    if (i >= 1):\n",
    "        price = list_list[i][2] * list_list[i][3]\n",
    "        if price < 100:\n",
    "            price += 10\n",
    "        list_ = (list_list[i][1],price)\n",
    "        list_price.append(list_)\n",
    "tuple_output = tuple(list_price)\n",
    "print(tuple_output)"
   ]
  },
  {
   "cell_type": "code",
   "execution_count": 110,
   "id": "a982deab",
   "metadata": {
    "ExecuteTime": {
     "end_time": "2021-05-01T15:13:39.743899Z",
     "start_time": "2021-05-01T15:13:39.737819Z"
    }
   },
   "outputs": [
    {
     "name": "stdout",
     "output_type": "stream",
     "text": [
      "((4800, 'iphone 12'), (16000, 'mac book pro'), (2700, 'drone'), (4000, 'tv'), (70, 'book'))\n"
     ]
    }
   ],
   "source": [
    "list_price = list(map(lambda x : x[2]*x[3] if(type(x[2]) != str) else None,list_list))[1:]\n",
    "final_price = list(map(lambda x : x+10 if(x<100) else x ,list_price))\n",
    "final_tuple = tuple([(final_price[x],list_list[x+1][1]) for x in range(len(final_price))])\n",
    "print(final_tuple)"
   ]
  },
  {
   "cell_type": "markdown",
   "id": "d8cc3b03",
   "metadata": {},
   "source": [
    "# Write a program which returns a list of two tuples with (order number, total amount of order).\n",
    "\n",
    "- list of tuple:\n",
    "```\n",
    "[ordernumber, (article number, quantity, price per unit), ... (article number, quantity, price per unit) ]\n",
    "```\n",
    "\n",
    "use : map, reduce and lambda\n"
   ]
  },
  {
   "cell_type": "code",
   "execution_count": 111,
   "id": "ac6a7dbb",
   "metadata": {
    "ExecuteTime": {
     "end_time": "2021-05-01T15:14:03.084890Z",
     "start_time": "2021-05-01T15:14:03.078891Z"
    }
   },
   "outputs": [
    {
     "name": "stdout",
     "output_type": "stream",
     "text": [
      "[[1, 490], [2, 494.46000000000004], [3, 364.79999999999995], [4, 492.57], [5, 492.57], [6, 492.57]]\n"
     ]
    }
   ],
   "source": [
    "from functools import reduce\n",
    "orders = [ [1, (\"5464\", 4, 10), (\"8274\",18,15), (\"9744\", 9, 20)], \n",
    "           [2, (\"5464\", 9, 9.99), (\"9744\", 9, 44.95)],\n",
    "           [3, (\"5464\", 9, 9.99), (\"88112\", 11, 24.99)],\n",
    "           [4, (\"8732\", 7, 11.99), (\"7733\",11,18.99), (\"88112\", 5, 39.95)],\n",
    "            [5, (\"8732\", 7, 11.99), (\"7733\",11,18.99), (\"8274\", 5, 39.95)],\n",
    "          [6, (\"8732\", 7, 11.99), (\"8274\",11,18.99), (\"9744\", 5, 39.95)] \n",
    "         ]\n",
    "\n",
    "list_ = list(map(lambda x: list(map(lambda y: y[1]*y[2] ,x[1:])) ,orders))\n",
    "sum_ = list(map(lambda x:(reduce(lambda y,z : z+y ,x)),list_))\n",
    "\n",
    "final_output = [[orders[i][0],sum_[i]] for i in range(len(sum_))]\n",
    "print(final_output)\n"
   ]
  },
  {
   "cell_type": "markdown",
   "id": "10045d36",
   "metadata": {},
   "source": [
    "# write a nested function to calulate the temp from celcius to farhen"
   ]
  },
  {
   "cell_type": "code",
   "execution_count": 163,
   "id": "605678c1",
   "metadata": {
    "ExecuteTime": {
     "end_time": "2021-05-03T11:22:20.739114Z",
     "start_time": "2021-05-03T11:22:20.735011Z"
    }
   },
   "outputs": [
    {
     "name": "stdout",
     "output_type": "stream",
     "text": [
      "For 36 deree celsius is equal to Farenheight: 122.0 degree\n"
     ]
    }
   ],
   "source": [
    "def temp(c): # outer function\n",
    "    f = (9/5)*c + 32 \n",
    "    return f\n",
    "    \n",
    "    def celsius_to_faren(f): # inner function\n",
    "        c = (5/9)*(f - 32)\n",
    "        return c\n",
    "    celsius_to_faren()\n",
    "print(\"For 36 deree celsius is equal to Farenheight:\", temp(50), \"degree\")"
   ]
  },
  {
   "cell_type": "markdown",
   "id": "eb94daa0",
   "metadata": {},
   "source": [
    "# Write a nested  function so that it can work for polynomials of arbitrary degree:\n",
    "\n",
    "\\begin{equation}\n",
    "\\sum_{k=0}^{n} a_{k} \\cdot x^{k}=a_{n} \\cdot x^{n}+a_{n-1} \\cdot x^{n-1}+\\ldots+a_{2} \\cdot x^{2}+a_{1} \\cdot x+a_{0}\n",
    "\\end{equation}"
   ]
  },
  {
   "cell_type": "code",
   "execution_count": 113,
   "id": "e585bae5",
   "metadata": {
    "ExecuteTime": {
     "end_time": "2021-05-01T15:14:45.993742Z",
     "start_time": "2021-05-01T15:14:45.989076Z"
    }
   },
   "outputs": [
    {
     "data": {
      "text/plain": [
       "313"
      ]
     },
     "execution_count": 113,
     "metadata": {},
     "output_type": "execute_result"
    }
   ],
   "source": [
    "def finisher(a_list):\n",
    "        ans = 0\n",
    "        x = 4 #pre_defined\n",
    "        for n,a in enumerate(a_list):   \n",
    "            ans += a*x**n\n",
    "        return ans\n",
    "    \n",
    "def poly(a_list):\n",
    "    return finisher(a_list)\n",
    "    \n",
    "poly([1,2,3,4])"
   ]
  },
  {
   "cell_type": "markdown",
   "id": "cfe09523",
   "metadata": {},
   "source": [
    "# write a decorator so that the argument passed is. positive integer for a function factorial that you have created before"
   ]
  },
  {
   "cell_type": "code",
   "execution_count": 114,
   "id": "cd131029",
   "metadata": {
    "ExecuteTime": {
     "end_time": "2021-05-01T15:15:12.799799Z",
     "start_time": "2021-05-01T15:15:12.796201Z"
    }
   },
   "outputs": [
    {
     "name": "stdout",
     "output_type": "stream",
     "text": [
      "*************************\n",
      "            720\n",
      "**************************\n"
     ]
    }
   ],
   "source": [
    "import decorator \n",
    "\n",
    "def recur_factorial(n):\n",
    "    if n <= 0:\n",
    "        return \"Enter positive number.\"\n",
    "    elif n == 1:\n",
    "        return n\n",
    "    else:\n",
    "        return n*recur_factorial(n-1)\n",
    "    \n",
    "def decorator(func):\n",
    "    print(\"*************************\")\n",
    "    print(f\"{func:>15}\")\n",
    "    print(\"**************************\")\n",
    "    \n",
    "decorator((recur_factorial(6)))"
   ]
  },
  {
   "cell_type": "markdown",
   "id": "75d9e1c8",
   "metadata": {},
   "source": [
    "# write a decorator to count the number of times a function has beeen called . eg define a add function and loop it for 10 time and check"
   ]
  },
  {
   "cell_type": "code",
   "execution_count": 115,
   "id": "6d1aa305",
   "metadata": {
    "ExecuteTime": {
     "end_time": "2021-05-01T15:16:13.225684Z",
     "start_time": "2021-05-01T15:16:13.220322Z"
    }
   },
   "outputs": [
    {
     "name": "stdout",
     "output_type": "stream",
     "text": [
      "******************************\n",
      "7\n",
      "7\n",
      "7\n",
      "7\n",
      "7\n",
      "7\n",
      "7\n",
      "7\n",
      "7\n",
      "7\n",
      "******************************\n"
     ]
    }
   ],
   "source": [
    "from functools import wraps\n",
    "def times(num):\n",
    "    def dec(func):\n",
    "        @wraps(func)\n",
    "        def wrapper(*args,**kwargs):\n",
    "            print(\"*\"*30)\n",
    "            for _ in range(num):\n",
    "                func(*args,**kwargs)\n",
    "            print(\"*\"*30)\n",
    "        return wrapper\n",
    "    return dec\n",
    "\n",
    "@times(10)\n",
    "def add(a,b):\n",
    "    c = a+b\n",
    "    print(c)\n",
    "add(3,4)"
   ]
  },
  {
   "cell_type": "markdown",
   "id": "1ce41dbb",
   "metadata": {},
   "source": [
    "__Conclusion__\n",
    "\n",
    "The exercise on python was very helpful for me to learn by practice. I solved mostly by myself, few of them by discuss with teammates and few of them not done."
   ]
  },
  {
   "cell_type": "code",
   "execution_count": null,
   "id": "b87ca56e",
   "metadata": {},
   "outputs": [],
   "source": []
  }
 ],
 "metadata": {
  "kernelspec": {
   "display_name": "Python 3",
   "language": "python",
   "name": "python3"
  },
  "language_info": {
   "codemirror_mode": {
    "name": "ipython",
    "version": 3
   },
   "file_extension": ".py",
   "mimetype": "text/x-python",
   "name": "python",
   "nbconvert_exporter": "python",
   "pygments_lexer": "ipython3",
   "version": "3.8.5"
  },
  "toc": {
   "base_numbering": 1,
   "nav_menu": {},
   "number_sections": true,
   "sideBar": true,
   "skip_h1_title": false,
   "title_cell": "Table of Contents",
   "title_sidebar": "Contents",
   "toc_cell": false,
   "toc_position": {},
   "toc_section_display": true,
   "toc_window_display": false
  },
  "varInspector": {
   "cols": {
    "lenName": 16,
    "lenType": 16,
    "lenVar": 40
   },
   "kernels_config": {
    "python": {
     "delete_cmd_postfix": "",
     "delete_cmd_prefix": "del ",
     "library": "var_list.py",
     "varRefreshCmd": "print(var_dic_list())"
    },
    "r": {
     "delete_cmd_postfix": ") ",
     "delete_cmd_prefix": "rm(",
     "library": "var_list.r",
     "varRefreshCmd": "cat(var_dic_list()) "
    }
   },
   "types_to_exclude": [
    "module",
    "function",
    "builtin_function_or_method",
    "instance",
    "_Feature"
   ],
   "window_display": false
  }
 },
 "nbformat": 4,
 "nbformat_minor": 5
}
