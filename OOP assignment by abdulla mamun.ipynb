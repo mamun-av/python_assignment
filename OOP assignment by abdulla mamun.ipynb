{
 "cells": [
  {
   "cell_type": "markdown",
   "id": "ab162189",
   "metadata": {},
   "source": [
    "# Question 1: OOP\n",
    "\n",
    "- create a class Contact\n",
    "    - create a class attribute contacts which is an empty list\n",
    "    - define a init method which take name,email,street and **kwargs\n",
    "    -append name and email to contacts\n",
    "- create a Address class\n",
    "    - create a init with street,city,code and kwargs\n",
    "    -call the super method with kwargs\n",
    "- create a class Friend which inherits Address and Contact\n",
    "    - initialize a phone:number and kwargs\n",
    "    - call super method\n",
    " \n",
    " - create a dict containing all the detail  eg:\n",
    " kwargs = {'city':'hel','name':'bhuwan',\"email\":\"bhuwan.kark@gmail\"}\n",
    " and create a object to call the class Friend and print all the detail\n",
    " : hint you can use __dict__ method to show all the detail\n"
   ]
  },
  {
   "cell_type": "code",
   "execution_count": 2,
   "id": "a79e3d36",
   "metadata": {
    "ExecuteTime": {
     "end_time": "2021-05-05T10:06:17.986755Z",
     "start_time": "2021-05-05T10:06:17.976926Z"
    }
   },
   "outputs": [
    {
     "name": "stdout",
     "output_type": "stream",
     "text": [
      "show the Friend class\n",
      "view the address class\n",
      "view the contact class\n"
     ]
    },
    {
     "data": {
      "text/plain": [
       "{'phone': '+34455000',\n",
       " 'street': 'vejlebrovej 42',\n",
       " 'city': 'hel',\n",
       " 'code': '2630'}"
      ]
     },
     "execution_count": 2,
     "metadata": {},
     "output_type": "execute_result"
    }
   ],
   "source": [
    "class Contact:\n",
    "    contacts = []\n",
    "    \n",
    "    def __init__(self, name=\" \", email=\" \", street=\" \", **kwargs):\n",
    "        self.street = street\n",
    "        self.contacts.append(name)\n",
    "        self.contacts.append(email)\n",
    "        print(\"view the contact class\")\n",
    "class Address:\n",
    "    def __init__(self, street, city, code, **kwargs):\n",
    "        print(\"view the address class\")\n",
    "        super().__init__(**kwargs)\n",
    "        self.street = street\n",
    "        self.city = city\n",
    "        self.code = code\n",
    "        \n",
    "class Friend(Address, Contact):\n",
    "    def __init__(self, phone, **kwargs):\n",
    "        print(\"show the Friend class\")\n",
    "        self.phone = phone\n",
    "        super().__init__(**kwargs)\n",
    "        \n",
    "kwargs = {'city':'hel','name':'bhuwan',\"email\":\"bhuwan.kark@gmail\", \"street\":\"vejlebrovej 42\", \"code\": \"2630\"}\n",
    "friend = Friend(phone = '+34455000',**kwargs)\n",
    "\n",
    "friend.__dict__\n"
   ]
  },
  {
   "cell_type": "markdown",
   "id": "1be25139",
   "metadata": {},
   "source": [
    "# Question 2 : Black jack\n",
    "\n",
    "## create a class Card\n",
    "- define a constructor with suit and rank\n",
    "- use a dunder method str to return sum of suit and rank\n",
    "- define a method grab_suit which return suit\n",
    "- define a method grab_rank which return rank\n",
    "- define a method draw which print suit+rank\n",
    "\n",
    "## create a Hand class\n",
    "- define a empty constructor\n",
    "    - create a variable cards which is an empty list\n",
    "    - create a variable value=0\n",
    "    - create a boolean variable ace which is False\n",
    "- create a dunder method str\n",
    "    - use a list comprehension to add a card hand in variable hand_comp\n",
    "        - hand_comp=[ ----]\n",
    "    - return \"the card hand has %s\" %hand_comp\n",
    "- def method card_add with a arg card\n",
    "    - append card in cards\n",
    "    - check if rank of card is A\n",
    "         - set ace to True\n",
    "    - `self.value += card_val[card.rank]`\n",
    "- def method calc_val\n",
    "    - if ace is true and value is less than 12\n",
    "        - return value added with 10\n",
    "    - else:\n",
    "        - return value only\n",
    "- def method draw with arg hidden\n",
    "    - if hidden is true and playing is true\n",
    "        - set variable starting_card to 1\n",
    "    - else:\n",
    "        - set starting_card to 0\n",
    "    - loop through the range of starting_card and len of cards\n",
    "        - write a code as below\n",
    "         - `self.cards[x].draw()`\n",
    " \n",
    " ## create a class Deck\n",
    "- define an empty constructor \n",
    "    - inside constructor create a variable deck which use list comprehension to append class Card . hint: use a nested loop to loop through suits and rankings\n",
    "- define method shuffle\n",
    "    -call shuffle function to suffle deck\n",
    "\n",
    "- define method deal\n",
    "    - create a variable single_card which pop the deck ( use pop method)\n",
    "    - `return single_card`\n",
    "\n",
    "            \n",
    "         "
   ]
  },
  {
   "cell_type": "code",
   "execution_count": 20,
   "id": "c6078f22",
   "metadata": {
    "ExecuteTime": {
     "end_time": "2021-05-05T09:25:21.043352Z",
     "start_time": "2021-05-05T09:25:21.040753Z"
    }
   },
   "outputs": [],
   "source": [
    "# import random for card shuffle\n",
    "import random\n",
    "# create a bool variable palying and set it to False\n",
    "playing = False\n",
    "# create a variable chip_pool and set default to 100\n",
    "chip_pool = 100\n",
    "# create a varibale bet and set to 1\n",
    "bet = 1\n",
    "restart_phrase = \"Press 'd' to deal the cards again, or press 'q' to quit\""
   ]
  },
  {
   "cell_type": "code",
   "execution_count": 21,
   "id": "25403c72",
   "metadata": {
    "ExecuteTime": {
     "end_time": "2021-05-05T09:25:21.798574Z",
     "start_time": "2021-05-05T09:25:21.795142Z"
    }
   },
   "outputs": [],
   "source": [
    "#create an tuple suits Heart,Diamond,club and Spade with therir First letter only\n",
    "#eg:(\"H\",-----)\n",
    "suits= (\"H\", \"S\", \"C\", \"D\")\n",
    "\n",
    "# create a tuple of possible card ranks\n",
    "# eg:(\"A\",\"2\"-------,\"K\")\n",
    "\n",
    "rankings= ('A', '2', '3', '4', '5', '6', '7', \n",
    "         '8', '9', '10', 'J', 'Q', 'K')\n",
    "\n",
    "\n",
    "#create a dict of each ranking with a ranking point value\n",
    "# {\"A\":1----------,\"k\":10}\n",
    "card_val= {'A': 1, '2': 2, '3': 3, '4': 4, '5': 5, \n",
    "            '6': 6, '7': 7, '8': 8, '9': 9, '10': 10, \n",
    "            'J': 10, 'Q': 10, 'K': 10}"
   ]
  },
  {
   "cell_type": "code",
   "execution_count": 34,
   "id": "97efe24a",
   "metadata": {
    "ExecuteTime": {
     "end_time": "2021-05-05T09:28:17.208448Z",
     "start_time": "2021-05-05T09:28:17.204642Z"
    }
   },
   "outputs": [],
   "source": [
    "# Create a class Card\n",
    "class Card:\n",
    "    # Define a constructor with suit and rank\n",
    "    def __init__(self, suit, rank):\n",
    "        self.suit = suit\n",
    "        self.rank = rank\n",
    "        # use a dunder method str to return sum of suit and rank\n",
    "    def __str__(self):\n",
    "        return \"=\" + self.suit + \"out of\" + self.rank\n",
    "    \n",
    "    #define a method grab_suit which return suit\n",
    "    def grab_suit(self):\n",
    "        return self.suit\n",
    "    \n",
    "    # define a method grab_rank which return rank\n",
    "\n",
    "    def grab_rank(self):\n",
    "        return self.rank\n",
    "    # define a method draw which print suit+rank\n",
    "    def draw(self):\n",
    "        print(str(self))\n",
    "    \n",
    "        \n",
    "    "
   ]
  },
  {
   "cell_type": "code",
   "execution_count": 35,
   "id": "7ca3665b",
   "metadata": {
    "ExecuteTime": {
     "end_time": "2021-05-05T09:28:17.680371Z",
     "start_time": "2021-05-05T09:28:17.675085Z"
    }
   },
   "outputs": [],
   "source": [
    "# Create a class Hand\n",
    "class Hand:\n",
    "    # Define an empty constructor\n",
    "    def __init__(self):\n",
    "        # create a variable cards with an empty list\n",
    "        self.cards = []\n",
    "        # Create a valiable value is 0\n",
    "        self.value = 0\n",
    "        # Create a boolean variable ace is false.\n",
    "        self.ace = False\n",
    "        \n",
    "        # Create dunder method str\n",
    "    def __str__(self):\n",
    "        # use a list comprehension to add a card hand in variable hand_comp\n",
    "        hand_comp = [str(c) for c in self.cards]\n",
    "        # return \"the card hand has %s\" %hand_comp\n",
    "        return \"The hand has %s\" %hand_comp\n",
    "    \n",
    "    # def method card_add with a arg card\n",
    "    def card_add(self, card):\n",
    "        # append card in cards\n",
    "        self.cards.append(card)\n",
    "        \n",
    "        # check if rank of card is A , set ace to True\n",
    "        if card.rank == 'A':\n",
    "            self.ace = True\n",
    "        self.value += card_val[card.rank]\n",
    "    # DEfine method calc_value\n",
    "    def calc_value(self):\n",
    "        # if ace is true and value is less than 12, return value added with 10 else:return value only\n",
    "\n",
    "        if self.ace == True and self.value < 12:\n",
    "            return self.value + 10\n",
    "        else:\n",
    "            return self.value\n",
    "        \n",
    "    # define method draw with arg hidden\n",
    "    def draw(self, hidden):\n",
    "        # if hidden is true and playing is true,set variable starting_card to 1 else: set starting_card to 0\n",
    "        if hidden == True and playing == True:\n",
    "            starting_card = 1\n",
    "        else:\n",
    "            starting_card = 0\n",
    "            \n",
    "        # loop through the range of starting_card and len of cards write a code as self.cards[x].draw()\n",
    "        for x in range(starting_card,len(self.cards)):\n",
    "            self.cards[x].draw()\n"
   ]
  },
  {
   "cell_type": "code",
   "execution_count": 54,
   "id": "0eaae4c5",
   "metadata": {
    "ExecuteTime": {
     "end_time": "2021-05-05T09:30:51.527702Z",
     "start_time": "2021-05-05T09:30:51.524663Z"
    }
   },
   "outputs": [],
   "source": [
    "# create class Deck\n",
    "class Deck:\n",
    "    \n",
    "    # Define an empty contructor & inside constructor create a variable deck which use list comprehension to append class Card . \n",
    "    # hint: use a nested loop to loop through suits and rankings\n",
    "    def __init__(self):\n",
    "        self.deck = [Card(suit, rank) for suit in suits for rank in rankings]\n",
    "    \n",
    "    # define method shuffle -call shuffle function to suffle deck\n",
    "    def shuffle(self):\n",
    "        random.shuffle(self.deck)\n",
    "    \n",
    "    # define method dea,  create a variable single_card which pop the deck ( use pop method), return single_card\n",
    "    def deal(self):\n",
    "        single_card = self.deck.pop()\n",
    "        return single_card"
   ]
  },
  {
   "cell_type": "code",
   "execution_count": 55,
   "id": "fde0eb4c",
   "metadata": {
    "ExecuteTime": {
     "end_time": "2021-05-05T09:30:52.074174Z",
     "start_time": "2021-05-05T09:30:52.068702Z"
    }
   },
   "outputs": [],
   "source": [
    "# First Bet\n",
    "def bet_():\n",
    "    # create a global variable bet and set it to 0\n",
    "    global bet \n",
    "    bet = 0\n",
    "    \n",
    "    print (' amount of chip to bet? (Integer) ')\n",
    "    \n",
    "    # While loop to keep asking for the bet til its 0\n",
    "    while bet==0:\n",
    "        # creat a variable bet_check which take an integer input from user\n",
    "        bet_check = int(input())\n",
    "        # your code\n",
    "        \n",
    "        # Check to make sure the bet is within the remaining amount of chips left between (0 and chip_pool)\n",
    "        if bet_check > 0 and bet_check <= chip_pool:\n",
    "            bet = bet_check \n",
    "        else:\n",
    "            print (\"Invalid bet, you only have \" + str(chip_pool) + \" remaining\")"
   ]
  },
  {
   "cell_type": "code",
   "execution_count": 56,
   "id": "d272956d",
   "metadata": {
    "ExecuteTime": {
     "end_time": "2021-05-05T09:30:52.479880Z",
     "start_time": "2021-05-05T09:30:52.475233Z"
    }
   },
   "outputs": [],
   "source": [
    "def deal_cards():  \n",
    "    # Set up all global variables\n",
    "    global result,playing,deck,player_hand,dealer_hand,chip_pool,bet\n",
    "    \n",
    "    # Create a variable deck which call class Deck\n",
    "    deck = Deck()\n",
    "    #Shuffle it\n",
    "    deck.shuffle()\n",
    "    \n",
    "    #Set up bet\n",
    "    bet_()\n",
    "    \n",
    "    # crete player_hand and dealer_hands which call the class Hand\n",
    "    player_hand = Hand()\n",
    "    dealer_hands = Hand()\n",
    "    \n",
    "    # Deal out initial cards\n",
    "    # use method card_add for the player_hand and inside the method call deck.deal() player_hand twice \n",
    "    for i in range(0,2):\n",
    "        player_hand.card_add(deck.deal())\n",
    "    \n",
    "    # similarly do the same as above for dealer_hand\n",
    "    for i in range(0,2):\n",
    "        player_hand.card_add(deck.deal())\n",
    "    \n",
    "    result = \"Hit or Stand?(h or s) \"\n",
    "    \n",
    "    # check if playing is True\n",
    "        #print(\"flod, sorry\") and \n",
    "        #decrease bet from chip_pool\n",
    "    \n",
    "    if playing:\n",
    "        print(\"\\nFold, sorry.\\n\")\n",
    "        chip_pool -= bet\n",
    "    \n",
    "    # Set up to know currently playing hand to True\n",
    "    playing = True\n",
    "    game_step()"
   ]
  },
  {
   "cell_type": "code",
   "execution_count": 57,
   "id": "e3303116",
   "metadata": {
    "ExecuteTime": {
     "end_time": "2021-05-05T09:30:52.814477Z",
     "start_time": "2021-05-05T09:30:52.808980Z"
    }
   },
   "outputs": [],
   "source": [
    "def hit():\n",
    "    \n",
    "    global playing,chip_pool,deck,player_hand,dealer_hand,result,bet\n",
    "    \n",
    "    # If hand is in play add card\n",
    "    \n",
    "    if playing:\n",
    "        #------------------------------------------\n",
    "        # if player_hand value is <= 21 . `Hint---> player_hand.calc_value()`get the value card should be added to player_hand\n",
    "        \n",
    "        if player_hand.calc_value() <= 21:\n",
    "            player_hand.card_add(deck.deal())\n",
    "        \n",
    "        #---------------------------------------------\n",
    "        \n",
    "        print (\"Player hand is %s\" %player_hand)\n",
    "        \n",
    "        #-------------------------------------\n",
    "        #if value of player_hand is >21\n",
    "        if player_hand.calc_value() > 21:\n",
    "                result = 'Busted! '+ restart_phrase\n",
    "            # decrease chip_pool from bet\n",
    "                chip_pool-=bet\n",
    "            # set playing to False\n",
    "                playing = False\n",
    "        #------------------------------\n",
    "    \n",
    "    else:\n",
    "        result = \"Sorry, can't hit\" + restart_phrase\n",
    "    \n",
    "    game_step()"
   ]
  },
  {
   "cell_type": "code",
   "execution_count": 58,
   "id": "044d65e4",
   "metadata": {
    "ExecuteTime": {
     "end_time": "2021-05-05T09:30:53.201267Z",
     "start_time": "2021-05-05T09:30:53.196223Z"
    }
   },
   "outputs": [],
   "source": [
    "def stand():\n",
    "    \n",
    "    global playing,chip_pool,deck,player_hand,dealer_hand,result,bet\n",
    "    \n",
    "    #---------------------------------------------------------\n",
    "    \n",
    "    #write a condition if playing is false and player hand value is >0 set result=\"sorry\"\n",
    "    if playing == False and player_hand.calc_value() > 0:\n",
    "        result = \"sorry.\"\n",
    "    #---------------------------------------------\n",
    "            \n",
    "    # Now go through all the other possible options\n",
    "    else:\n",
    "        \n",
    "        # Soft 17 rule\n",
    "        # use while loop to check the dealer hand value less than 17 Hint:\n",
    "        while dealer_hand.calc_value() < 17:\n",
    "            #call method  card_add to add card and use deck.deal() inside card_add for dealer_hand \n",
    "            dealer_hand.card_add(deck.deal())\n",
    "            \n",
    "        # Dealer Busts\n",
    "        #------------------------------------------\n",
    "        # if value of dealer_hand is > 21 \n",
    "        if dealer_hand.calc_value() > 21:\n",
    "            result = 'You win!' + restart_phrase\n",
    "            #add the bet amount to chip_pool \n",
    "            chip_pool += bet\n",
    "            #and set playing to false\n",
    "            playing = False\n",
    "         #--------------------------------------------------   \n",
    "        \n",
    "        #condition where dealer_hand value is < player_hand value\n",
    "        elif dealer_hand.calc_value() < player_hand.calc_value():\n",
    "            result = ' you win!' + restart_phrase\n",
    "            #add the bet amount to chip_pool and set playing to false\n",
    "            chip_pool +=bet\n",
    "            playing = False\n",
    "        \n",
    "        # conditon if dealer_hand value is same as player_hand value\n",
    "        elif dealer_hand.calc_value() == player_hand.calc_value():\n",
    "            result = 'Tied up, push!' + restart_phrase\n",
    "            playing = False\n",
    "        \n",
    "        # Dealer beats player\n",
    "        else:\n",
    "            result = 'Dealer Wins!' + restart_phrase\n",
    "            chip_pool -= bet\n",
    "            playing = False\n",
    "    game_step()"
   ]
  },
  {
   "cell_type": "code",
   "execution_count": 63,
   "id": "b3a7d260",
   "metadata": {
    "ExecuteTime": {
     "end_time": "2021-05-05T09:32:44.233200Z",
     "start_time": "2021-05-05T09:32:44.229286Z"
    }
   },
   "outputs": [],
   "source": [
    "def game_step():\n",
    "    \n",
    "    #Display Player Hand\n",
    "    print (\"\")\n",
    "    print('Player Hand is: '),\n",
    "    # call method draw on player hand and set hidden to false\n",
    "    player_hand.draw(hidden = False)\n",
    "    \n",
    "    print ('Player hand total is: '+str(player_hand.calc_value()))\n",
    "    \n",
    "    #Display Dealer Hand\n",
    "    print('Dealer Hand is: '),\n",
    "    # call method \"draw\" on dealer_hand and set hidden to false\n",
    "    dealer_hand.draw(hidden = False)\n",
    "    \n",
    "    # If playing is False\n",
    "    if playing == False:\n",
    "        print  (\" --- for a total of \" + str(dealer_hand.calc_value() ))\n",
    "        print (\"Chip Total: \" + str(chip_pool))\n",
    "    # Otherwise, don't know the second card yet\n",
    "    else: \n",
    "        print (\" with another card hidden upside down\")\n",
    "    \n",
    "    # Print result of hit or stand.\n",
    "    print (result)\n",
    "    \n",
    "    player_input()"
   ]
  },
  {
   "cell_type": "code",
   "execution_count": 64,
   "id": "04ab72d6",
   "metadata": {
    "ExecuteTime": {
     "end_time": "2021-05-05T09:32:44.943338Z",
     "start_time": "2021-05-05T09:32:44.940381Z"
    }
   },
   "outputs": [],
   "source": [
    "def game_exit():\n",
    "    print ('Thanks for playing!')\n",
    "    exit()"
   ]
  },
  {
   "cell_type": "code",
   "execution_count": 69,
   "id": "6f1954cb",
   "metadata": {
    "ExecuteTime": {
     "end_time": "2021-05-05T09:36:03.817643Z",
     "start_time": "2021-05-05T09:36:03.814319Z"
    }
   },
   "outputs": [],
   "source": [
    "def player_input():\n",
    "    \n",
    "    # ask player to input a string in variable P_in and make it into lower case\n",
    "    \n",
    "    P_in = str(input(\"\")).lower()\n",
    "    \n",
    "    #-------------------------------------------\n",
    "    # set a condition if player input is 'h ' call the function hit\n",
    "    # if it is 's' call function stand\n",
    "    # if it is 'd' call function deal_cards\n",
    "    # if 'q' exit game\n",
    "    # if not any above then call function player_input again\n",
    "    \n",
    "    if P_in == 'h':\n",
    "        hit()\n",
    "    elif P_in == 's':\n",
    "        stand()\n",
    "    elif P_in == 'd':\n",
    "        deal_cards()\n",
    "    elif P_in == 'q':\n",
    "        game_exit()\n",
    "    else:\n",
    "        player_input()\n",
    "        \n",
    "    \n",
    "    #------------------------------------------"
   ]
  },
  {
   "cell_type": "code",
   "execution_count": 70,
   "id": "d8eeff98",
   "metadata": {
    "ExecuteTime": {
     "end_time": "2021-05-05T09:36:32.994754Z",
     "start_time": "2021-05-05T09:36:04.265969Z"
    }
   },
   "outputs": [
    {
     "name": "stdout",
     "output_type": "stream",
     "text": [
      "Welcome to BlackJack! Good luck!\n",
      "\n",
      " amount of chip to bet? (Integer) \n",
      "5\n",
      "\n",
      "Fold, sorry.\n",
      "\n",
      "\n",
      "Player Hand is: \n",
      "=Sout of8\n",
      "=Sout ofQ\n",
      "=Dout ofQ\n",
      "=Cout ofA\n",
      "Player hand total is: 29\n",
      "Dealer Hand is: \n",
      " with another card hidden upside down\n",
      "Hit or Stand?(h or s) \n",
      "h\n",
      "Player hand is The hand has ['=Sout of8', '=Sout ofQ', '=Dout ofQ', '=Cout ofA']\n",
      "\n",
      "Player Hand is: \n",
      "=Sout of8\n",
      "=Sout ofQ\n",
      "=Dout ofQ\n",
      "=Cout ofA\n",
      "Player hand total is: 29\n",
      "Dealer Hand is: \n",
      " --- for a total of 0\n",
      "Chip Total: 80\n",
      "Busted! Press 'd' to deal the cards again, or press 'q' to quit\n",
      "d\n",
      " amount of chip to bet? (Integer) \n",
      "8\n",
      "\n",
      "Player Hand is: \n",
      "=Hout of2\n",
      "=Hout of4\n",
      "=Cout of2\n",
      "=Dout ofK\n",
      "Player hand total is: 18\n",
      "Dealer Hand is: \n",
      " with another card hidden upside down\n",
      "Hit or Stand?(h or s) \n",
      "s\n",
      "\n",
      "Player Hand is: \n",
      "=Hout of2\n",
      "=Hout of4\n",
      "=Cout of2\n",
      "=Dout ofK\n",
      "Player hand total is: 18\n",
      "Dealer Hand is: \n",
      "=Cout of3\n",
      "=Cout ofJ\n",
      "=Hout ofQ\n",
      " --- for a total of 23\n",
      "Chip Total: 88\n",
      "You win!Press 'd' to deal the cards again, or press 'q' to quit\n",
      "q\n",
      "Thanks for playing!\n"
     ]
    }
   ],
   "source": [
    "'''The following code will initiate the game! (Note: Need to Run all Cells)'''\n",
    "\n",
    "import time\n",
    "\n",
    "#Print the intro\n",
    "statement = 'Welcome to BlackJack! Good luck!\\n'\n",
    "print (statement)\n",
    "\n",
    "time.sleep(1)\n",
    "\n",
    "# Create a Deck() and hold in in deck variable\n",
    "deck = Deck()\n",
    "\n",
    "#Shuffle it\n",
    "deck.shuffle()\n",
    "\n",
    "# Create player and dealer hands using class Hand()\n",
    "player_hand = Hand()\n",
    "dealer_hand = Hand()\n",
    "\n",
    "# Deal out the cards and start the game!\n",
    "deal_cards()"
   ]
  },
  {
   "cell_type": "code",
   "execution_count": null,
   "id": "3c88354d",
   "metadata": {},
   "outputs": [],
   "source": []
  }
 ],
 "metadata": {
  "kernelspec": {
   "display_name": "Python 3",
   "language": "python",
   "name": "python3"
  },
  "language_info": {
   "codemirror_mode": {
    "name": "ipython",
    "version": 3
   },
   "file_extension": ".py",
   "mimetype": "text/x-python",
   "name": "python",
   "nbconvert_exporter": "python",
   "pygments_lexer": "ipython3",
   "version": "3.8.5"
  },
  "toc": {
   "base_numbering": 1,
   "nav_menu": {},
   "number_sections": true,
   "sideBar": true,
   "skip_h1_title": false,
   "title_cell": "Table of Contents",
   "title_sidebar": "Contents",
   "toc_cell": false,
   "toc_position": {},
   "toc_section_display": true,
   "toc_window_display": false
  },
  "varInspector": {
   "cols": {
    "lenName": 16,
    "lenType": 16,
    "lenVar": 40
   },
   "kernels_config": {
    "python": {
     "delete_cmd_postfix": "",
     "delete_cmd_prefix": "del ",
     "library": "var_list.py",
     "varRefreshCmd": "print(var_dic_list())"
    },
    "r": {
     "delete_cmd_postfix": ") ",
     "delete_cmd_prefix": "rm(",
     "library": "var_list.r",
     "varRefreshCmd": "cat(var_dic_list()) "
    }
   },
   "types_to_exclude": [
    "module",
    "function",
    "builtin_function_or_method",
    "instance",
    "_Feature"
   ],
   "window_display": false
  }
 },
 "nbformat": 4,
 "nbformat_minor": 5
}
